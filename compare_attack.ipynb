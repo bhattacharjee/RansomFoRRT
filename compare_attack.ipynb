{
  "nbformat": 4,
  "nbformat_minor": 0,
  "metadata": {
    "colab": {
      "name": "Untitled7.ipynb",
      "provenance": [],
      "collapsed_sections": [],
      "machine_shape": "hm",
      "authorship_tag": "ABX9TyMkWdAsoA11e7SjWS5ll368",
      "include_colab_link": true
    },
    "kernelspec": {
      "name": "python3",
      "display_name": "Python 3"
    },
    "language_info": {
      "name": "python"
    },
    "accelerator": "GPU"
  },
  "cells": [
    {
      "cell_type": "markdown",
      "metadata": {
        "id": "view-in-github",
        "colab_type": "text"
      },
      "source": [
        "<a href=\"https://colab.research.google.com/github/bhattacharjee/RansomFoRRT/blob/main/compare_attack.ipynb\" target=\"_parent\"><img src=\"https://colab.research.google.com/assets/colab-badge.svg\" alt=\"Open In Colab\"/></a>"
      ]
    },
    {
      "cell_type": "code",
      "execution_count": 1,
      "metadata": {
        "colab": {
          "base_uri": "https://localhost:8080/"
        },
        "id": "wtOKCgUB1yA6",
        "outputId": "d09c8342-bad1-4a49-d697-adb1f9e4a3c0"
      },
      "outputs": [
        {
          "output_type": "stream",
          "name": "stdout",
          "text": [
            "Drive already mounted at /content/drive; to attempt to forcibly remount, call drive.mount(\"/content/drive\", force_remount=True).\n"
          ]
        }
      ],
      "source": [
        "import pandas as pd\n",
        "import matplotlib.pyplot as plt\n",
        "import seaborn as sns\n",
        "import sklearn\n",
        "from sklearn.pipeline import Pipeline\n",
        "from sklearn.preprocessing import MinMaxScaler\n",
        "from sklearn.model_selection import train_test_split\n",
        "import IPython\n",
        "\n",
        "from sklearn.metrics import accuracy_score, precision_score, recall_score, f1_score\n",
        "from sklearn.model_selection import train_test_split\n",
        "from sklearn.metrics import roc_auc_score\n",
        "import tensorflow as tf\n",
        "from tensorflow.keras import layers, losses\n",
        "from tensorflow.keras.datasets import fashion_mnist\n",
        "from tensorflow.keras.models import Model\n",
        "from functools import lru_cache\n",
        "\n",
        "from google.colab import drive\n",
        "drive.mount('/content/drive')\n",
        "!cp /content/drive/MyDrive/newexperiment/* ."
      ]
    },
    {
      "cell_type": "code",
      "source": [
        "DO_NOT_USE_FOURIER_FEATURES = False\n",
        "DO_NOT_USE_ADVANCED_FEATURES = True\n",
        "DO_NOT_USE_BEGIN_END_FEATURES = True\n",
        "NUM_EPOCHS = 3"
      ],
      "metadata": {
        "id": "AUFEDGyfEwpy"
      },
      "execution_count": 2,
      "outputs": []
    },
    {
      "cell_type": "code",
      "source": [
        "@lru_cache(maxsize=2)\n",
        "def get_datasets():\n",
        "    global DO_NOT_USE_FOURIER_FEATURES\n",
        "    global DO_NOT_USE_ADVANCED_FEATURES\n",
        "    df_pt = pd.read_parquet(\"plaintext.expanded.parquet.gz\").sample(frac=1).reset_index(drop=True)\n",
        "    df_et = pd.read_parquet(\"expanded.pyencrypted_v1.parquet.gz\").sample(frac=1).reset_index(drop=True)\n",
        "    df_32 = pd.read_parquet(\"expanded.pyencrypted_v1.b32.parquet.gz\").sample(frac=1).reset_index(drop=True)\n",
        "    \n",
        "    columns = [str(c) for c in df_pt.columns]\n",
        "    columns = [c for c in columns if \"fourier.value\" not in c]\n",
        "    columns = [c for c in columns if \"extended.extension\" != c and \"Unnamed\" not in c and \"filename\" not in c]\n",
        "    columns = [c for c in columns if \"filesize\" not in c]\n",
        "\n",
        "    if DO_NOT_USE_BEGIN_END_FEATURES:\n",
        "        columns = [c for c in columns if \"head\" not in c and \"tail\" not in c]\n",
        "        columns = [c for c in columns if \"begin\" not in c and \"end\" not in c]\n",
        "    \n",
        "    if DO_NOT_USE_FOURIER_FEATURES:\n",
        "        columns = [c for c in columns if \"fourier\" not in c]\n",
        "    if DO_NOT_USE_ADVANCED_FEATURES:\n",
        "        columns = [c for c in columns if \"advanced\" not in c]\n",
        "    \n",
        "    df_pt = df_pt[columns]\n",
        "    df_et = df_et[columns]\n",
        "    df_32 = df_32[columns]\n",
        "    \n",
        "    combined = pd.concat([df_pt, df_et, df_32])\n",
        "    themax = combined.max()\n",
        "    themin = combined.min()\n",
        "    del combined\n",
        "    \n",
        "    df_pt = (df_pt - themin) / (themax - themin)\n",
        "    df_et = (df_et - themin) / (themax - themin)\n",
        "    df_32 = (df_32 - themin) / (themax - themin)\n",
        "    \n",
        "    \n",
        "    df_pt[\"is_encrypted\"] = 0\n",
        "    df_et[\"is_encrypted\"] = 1\n",
        "    df_32[\"is_encrypted\"] = 1\n",
        "    \n",
        "    \n",
        "    train_df = pd.concat([df_pt.head(40000), df_et.head(40000)]).sample(frac=1).reset_index(drop=True)\n",
        "    test_df = pd.concat([df_pt.head(60000).tail(20000), df_et.head(60000).tail(20000)]).sample(frac=1).reset_index(drop=True)\n",
        "    val_df = pd.concat([df_pt.tail(20000), df_et.tail(20000)]).sample(frac=1).reset_index(drop=True)\n",
        "    \n",
        "    test_df_32 = pd.concat([df_pt.head(60000).tail(20000), df_et.head(60000).tail(20000), df_32.head(60000).tail(20000)]).sample(frac=1).reset_index(drop=True)\n",
        "    test_df_32 = test_df_32.dropna()\n",
        "\n",
        "    train_df = train_df.dropna()\n",
        "    test_df = test_df.dropna()\n",
        "    val_df = val_df.dropna()\n",
        "\n",
        "    return df_pt, df_et, df_32, train_df, val_df, test_df, test_df_32\n",
        "    "
      ],
      "metadata": {
        "id": "GNw2XDEW2_9j"
      },
      "execution_count": 3,
      "outputs": []
    },
    {
      "cell_type": "code",
      "source": [
        "class Model:\n",
        "    def create(X):\n",
        "        if X.shape[1] >= 160:\n",
        "            model = tf.keras.Sequential(\n",
        "                [\n",
        "                    layers.Dense(169, input_dim=X.shape[1], activation='relu'),\n",
        "                    layers.Dropout(0.2),\n",
        "                    layers.Dense(80, activation='gelu'),\n",
        "                    layers.Dropout(0.2),\n",
        "                    layers.Dense(40, activation='gelu'),\n",
        "                    layers.Dropout(0.2),\n",
        "                    layers.Dense(20, activation='gelu'),\n",
        "                    layers.Dropout(0.2),\n",
        "                    layers.Dense(10, activation='gelu'),\n",
        "                    layers.Dropout(0.2),\n",
        "                    layers.Dense(5, activation='gelu'),\n",
        "                    layers.Dropout(0.2),\n",
        "                    layers.Dense(2, activation='gelu'),\n",
        "                    layers.Dense(1, activation='sigmoid')\n",
        "                ]\n",
        "            )\n",
        "        elif X.shape[1] >= 80:\n",
        "            model = tf.keras.Sequential(\n",
        "                [\n",
        "                    layers.Dense(80, input_dim=X.shape[1], activation='relu'),\n",
        "                    layers.Dropout(0.2),\n",
        "                    layers.Dense(40, activation='gelu'),\n",
        "                    layers.Dropout(0.2),\n",
        "                    layers.Dense(20, activation='gelu'),\n",
        "                    layers.Dropout(0.2),\n",
        "                    layers.Dense(10, activation='gelu'),\n",
        "                    layers.Dropout(0.2),\n",
        "                    layers.Dense(5, activation='gelu'),\n",
        "                    layers.Dropout(0.2),\n",
        "                    layers.Dense(2, activation='gelu'),\n",
        "                    layers.Dense(1, activation='sigmoid')\n",
        "                ]\n",
        "            )\n",
        "        elif X.shape[1] >= 40:\n",
        "            model = tf.keras.Sequential(\n",
        "                [\n",
        "                    layers.Dense(40, input_dim=X.shape[1], activation='relu'),\n",
        "                    layers.Dropout(0.2),\n",
        "                    layers.Dense(20, activation='gelu'),\n",
        "                    layers.Dropout(0.2),\n",
        "                    layers.Dense(10, activation='gelu'),\n",
        "                    layers.Dropout(0.2),\n",
        "                    layers.Dense(5, activation='gelu'),\n",
        "                    layers.Dropout(0.2),\n",
        "                    layers.Dense(2, activation='gelu'),\n",
        "                    layers.Dense(1, activation='sigmoid')\n",
        "                ]\n",
        "            )\n",
        "        elif X.shape[1] >= 4:\n",
        "            model = tf.keras.Sequential(\n",
        "                [\n",
        "                    layers.Dense(5, input_dim=X.shape[1], activation='gelu'),\n",
        "                    layers.Dropout(0.2),\n",
        "                    layers.Dense(2, activation='gelu'),\n",
        "                    layers.Dropout(0.2),\n",
        "                    layers.Dense(1, activation='sigmoid')\n",
        "                ]\n",
        "            )\n",
        "        model.compile(\\\n",
        "                      loss='binary_crossentropy', \\\n",
        "                      optimizer='adam', \\\n",
        "                      metrics=[tf.keras.metrics.AUC()])\n",
        "        #Model.print_and_plot(model)\n",
        "        return model"
      ],
      "metadata": {
        "id": "kbW-7u_t3QTq"
      },
      "execution_count": 4,
      "outputs": []
    },
    {
      "cell_type": "code",
      "source": [
        "def split_x_y(df):\n",
        "    x_columns = [str(c) for c in df.columns if \"is_encrypted\" != c]\n",
        "    X, y = df[x_columns].to_numpy(), df[\"is_encrypted\"].to_numpy()\n",
        "    return X, y\n",
        "\n"
      ],
      "metadata": {
        "id": "R2NI_lWI4WWh"
      },
      "execution_count": 5,
      "outputs": []
    },
    {
      "cell_type": "code",
      "source": [
        "def run(description, num_epochs=10):\n",
        "    df_pt, df_et, df_32, train_df, val_df, test_df, test32_df = get_datasets()\n",
        "\n",
        "    trainX, trainY = split_x_y(train_df)\n",
        "    valX, valY = split_x_y(val_df)\n",
        "    testX, testY = split_x_y(test_df)\n",
        "    model = Model.create(trainX)\n",
        "\n",
        "    print(f\"Shape = {trainX.shape}\")\n",
        "\n",
        "    es_callback = tf.keras.callbacks.EarlyStopping(\n",
        "        monitor=\"val_loss\",\n",
        "        min_delta=0,\n",
        "        patience=5,\n",
        "        verbose=1,\n",
        "        mode=\"auto\",\n",
        "        baseline=None,\n",
        "        restore_best_weights=True,\n",
        "    )\n",
        "    hist = model.fit(trainX, trainY,\n",
        "                    epochs=num_epochs,\n",
        "                    validation_data=(valX, valY),\n",
        "                    batch_size=16,\n",
        "                    callbacks=[es_callback])\n",
        "    \n",
        "    test_predict_y = model.predict(testX)\n",
        "    test_auc = roc_auc_score(testY, test_predict_y)\n",
        "    test_f1 = f1_score(testY, test_predict_y > 0.5)\n",
        "    print()\n",
        "    print()\n",
        "    print(description)\n",
        "    print()\n",
        "    print(f\"With test files: AUC = {test_auc} , F1 score = {test_f1}\")\n",
        "    print()\n",
        "    #test_df_32 = pd.concat([df_pt.head(60000).tail(20000), df_et.head(60000).tail(20000), df_32.head(60000).tail(20000)]).sample(frac=1).reset_index(drop=True)\n",
        "    test_df_32 = pd.concat([df_pt.head(60000).tail(20000), df_32.head(60000).tail(20000)]).sample(frac=1).reset_index(drop=True)\n",
        "    test_df_32 = test_df_32.dropna()\n",
        "    test32X, test32Y = split_x_y(test_df_32)\n",
        "    \n",
        "    test32_predict_y = model.predict(test32X)\n",
        "    test32_auc = roc_auc_score(test32Y, test32_predict_y)\n",
        "    test32_f1 = f1_score(test32Y, test32_predict_y > 0.5)\n",
        "    print(f\"With base32 encoded encrypted files: AUC = {test32_auc} F1 = {test32_f1}\")\n",
        "\n",
        "    print('-' * 80)"
      ],
      "metadata": {
        "id": "wYy404ZE8vhR"
      },
      "execution_count": 6,
      "outputs": []
    },
    {
      "cell_type": "code",
      "source": [
        "DO_NOT_USE_FOURIER_FEATURES = False\n",
        "DO_NOT_USE_ADVANCED_FEATURES = False\n",
        "run(\"using all features\")\n"
      ],
      "metadata": {
        "colab": {
          "base_uri": "https://localhost:8080/",
          "height": 452
        },
        "id": "8s4X-FPCJoUs",
        "outputId": "57cdebc7-9aa6-40c0-bb8d-63eded67d0c7"
      },
      "execution_count": 7,
      "outputs": [
        {
          "output_type": "stream",
          "name": "stdout",
          "text": [
            "Shape = (80000, 81)\n",
            "Epoch 1/10\n",
            "5000/5000 [==============================] - 31s 6ms/step - loss: 0.4361 - auc: 0.8193 - val_loss: 0.3875 - val_auc: 0.8662\n",
            "Epoch 2/10\n",
            " 340/5000 [=>............................] - ETA: 27s - loss: 0.4099 - auc: 0.8296"
          ]
        },
        {
          "output_type": "error",
          "ename": "KeyboardInterrupt",
          "evalue": "ignored",
          "traceback": [
            "\u001b[0;31m---------------------------------------------------------------------------\u001b[0m",
            "\u001b[0;31mKeyboardInterrupt\u001b[0m                         Traceback (most recent call last)",
            "\u001b[0;32m<ipython-input-7-11752ff898f2>\u001b[0m in \u001b[0;36m<module>\u001b[0;34m()\u001b[0m\n\u001b[1;32m      1\u001b[0m \u001b[0mDO_NOT_USE_FOURIER_FEATURES\u001b[0m \u001b[0;34m=\u001b[0m \u001b[0;32mFalse\u001b[0m\u001b[0;34m\u001b[0m\u001b[0;34m\u001b[0m\u001b[0m\n\u001b[1;32m      2\u001b[0m \u001b[0mDO_NOT_USE_ADVANCED_FEATURES\u001b[0m \u001b[0;34m=\u001b[0m \u001b[0;32mFalse\u001b[0m\u001b[0;34m\u001b[0m\u001b[0;34m\u001b[0m\u001b[0m\n\u001b[0;32m----> 3\u001b[0;31m \u001b[0mrun\u001b[0m\u001b[0;34m(\u001b[0m\u001b[0;34m\"using all features\"\u001b[0m\u001b[0;34m)\u001b[0m\u001b[0;34m\u001b[0m\u001b[0;34m\u001b[0m\u001b[0m\n\u001b[0m",
            "\u001b[0;32m<ipython-input-6-18c0496b4e22>\u001b[0m in \u001b[0;36mrun\u001b[0;34m(description, num_epochs)\u001b[0m\n\u001b[1;32m     22\u001b[0m                     \u001b[0mvalidation_data\u001b[0m\u001b[0;34m=\u001b[0m\u001b[0;34m(\u001b[0m\u001b[0mvalX\u001b[0m\u001b[0;34m,\u001b[0m \u001b[0mvalY\u001b[0m\u001b[0;34m)\u001b[0m\u001b[0;34m,\u001b[0m\u001b[0;34m\u001b[0m\u001b[0;34m\u001b[0m\u001b[0m\n\u001b[1;32m     23\u001b[0m                     \u001b[0mbatch_size\u001b[0m\u001b[0;34m=\u001b[0m\u001b[0;36m16\u001b[0m\u001b[0;34m,\u001b[0m\u001b[0;34m\u001b[0m\u001b[0;34m\u001b[0m\u001b[0m\n\u001b[0;32m---> 24\u001b[0;31m                     callbacks=[es_callback])\n\u001b[0m\u001b[1;32m     25\u001b[0m \u001b[0;34m\u001b[0m\u001b[0m\n\u001b[1;32m     26\u001b[0m     \u001b[0mtest_predict_y\u001b[0m \u001b[0;34m=\u001b[0m \u001b[0mmodel\u001b[0m\u001b[0;34m.\u001b[0m\u001b[0mpredict\u001b[0m\u001b[0;34m(\u001b[0m\u001b[0mtestX\u001b[0m\u001b[0;34m)\u001b[0m\u001b[0;34m\u001b[0m\u001b[0;34m\u001b[0m\u001b[0m\n",
            "\u001b[0;32m/usr/local/lib/python3.7/dist-packages/keras/utils/traceback_utils.py\u001b[0m in \u001b[0;36merror_handler\u001b[0;34m(*args, **kwargs)\u001b[0m\n\u001b[1;32m     62\u001b[0m     \u001b[0mfiltered_tb\u001b[0m \u001b[0;34m=\u001b[0m \u001b[0;32mNone\u001b[0m\u001b[0;34m\u001b[0m\u001b[0;34m\u001b[0m\u001b[0m\n\u001b[1;32m     63\u001b[0m     \u001b[0;32mtry\u001b[0m\u001b[0;34m:\u001b[0m\u001b[0;34m\u001b[0m\u001b[0;34m\u001b[0m\u001b[0m\n\u001b[0;32m---> 64\u001b[0;31m       \u001b[0;32mreturn\u001b[0m \u001b[0mfn\u001b[0m\u001b[0;34m(\u001b[0m\u001b[0;34m*\u001b[0m\u001b[0margs\u001b[0m\u001b[0;34m,\u001b[0m \u001b[0;34m**\u001b[0m\u001b[0mkwargs\u001b[0m\u001b[0;34m)\u001b[0m\u001b[0;34m\u001b[0m\u001b[0;34m\u001b[0m\u001b[0m\n\u001b[0m\u001b[1;32m     65\u001b[0m     \u001b[0;32mexcept\u001b[0m \u001b[0mException\u001b[0m \u001b[0;32mas\u001b[0m \u001b[0me\u001b[0m\u001b[0;34m:\u001b[0m  \u001b[0;31m# pylint: disable=broad-except\u001b[0m\u001b[0;34m\u001b[0m\u001b[0;34m\u001b[0m\u001b[0m\n\u001b[1;32m     66\u001b[0m       \u001b[0mfiltered_tb\u001b[0m \u001b[0;34m=\u001b[0m \u001b[0m_process_traceback_frames\u001b[0m\u001b[0;34m(\u001b[0m\u001b[0me\u001b[0m\u001b[0;34m.\u001b[0m\u001b[0m__traceback__\u001b[0m\u001b[0;34m)\u001b[0m\u001b[0;34m\u001b[0m\u001b[0;34m\u001b[0m\u001b[0m\n",
            "\u001b[0;32m/usr/local/lib/python3.7/dist-packages/keras/engine/training.py\u001b[0m in \u001b[0;36mfit\u001b[0;34m(self, x, y, batch_size, epochs, verbose, callbacks, validation_split, validation_data, shuffle, class_weight, sample_weight, initial_epoch, steps_per_epoch, validation_steps, validation_batch_size, validation_freq, max_queue_size, workers, use_multiprocessing)\u001b[0m\n\u001b[1;32m   1382\u001b[0m                 _r=1):\n\u001b[1;32m   1383\u001b[0m               \u001b[0mcallbacks\u001b[0m\u001b[0;34m.\u001b[0m\u001b[0mon_train_batch_begin\u001b[0m\u001b[0;34m(\u001b[0m\u001b[0mstep\u001b[0m\u001b[0;34m)\u001b[0m\u001b[0;34m\u001b[0m\u001b[0;34m\u001b[0m\u001b[0m\n\u001b[0;32m-> 1384\u001b[0;31m               \u001b[0mtmp_logs\u001b[0m \u001b[0;34m=\u001b[0m \u001b[0mself\u001b[0m\u001b[0;34m.\u001b[0m\u001b[0mtrain_function\u001b[0m\u001b[0;34m(\u001b[0m\u001b[0miterator\u001b[0m\u001b[0;34m)\u001b[0m\u001b[0;34m\u001b[0m\u001b[0;34m\u001b[0m\u001b[0m\n\u001b[0m\u001b[1;32m   1385\u001b[0m               \u001b[0;32mif\u001b[0m \u001b[0mdata_handler\u001b[0m\u001b[0;34m.\u001b[0m\u001b[0mshould_sync\u001b[0m\u001b[0;34m:\u001b[0m\u001b[0;34m\u001b[0m\u001b[0;34m\u001b[0m\u001b[0m\n\u001b[1;32m   1386\u001b[0m                 \u001b[0mcontext\u001b[0m\u001b[0;34m.\u001b[0m\u001b[0masync_wait\u001b[0m\u001b[0;34m(\u001b[0m\u001b[0;34m)\u001b[0m\u001b[0;34m\u001b[0m\u001b[0;34m\u001b[0m\u001b[0m\n",
            "\u001b[0;32m/usr/local/lib/python3.7/dist-packages/tensorflow/python/util/traceback_utils.py\u001b[0m in \u001b[0;36merror_handler\u001b[0;34m(*args, **kwargs)\u001b[0m\n\u001b[1;32m    148\u001b[0m     \u001b[0mfiltered_tb\u001b[0m \u001b[0;34m=\u001b[0m \u001b[0;32mNone\u001b[0m\u001b[0;34m\u001b[0m\u001b[0;34m\u001b[0m\u001b[0m\n\u001b[1;32m    149\u001b[0m     \u001b[0;32mtry\u001b[0m\u001b[0;34m:\u001b[0m\u001b[0;34m\u001b[0m\u001b[0;34m\u001b[0m\u001b[0m\n\u001b[0;32m--> 150\u001b[0;31m       \u001b[0;32mreturn\u001b[0m \u001b[0mfn\u001b[0m\u001b[0;34m(\u001b[0m\u001b[0;34m*\u001b[0m\u001b[0margs\u001b[0m\u001b[0;34m,\u001b[0m \u001b[0;34m**\u001b[0m\u001b[0mkwargs\u001b[0m\u001b[0;34m)\u001b[0m\u001b[0;34m\u001b[0m\u001b[0;34m\u001b[0m\u001b[0m\n\u001b[0m\u001b[1;32m    151\u001b[0m     \u001b[0;32mexcept\u001b[0m \u001b[0mException\u001b[0m \u001b[0;32mas\u001b[0m \u001b[0me\u001b[0m\u001b[0;34m:\u001b[0m\u001b[0;34m\u001b[0m\u001b[0;34m\u001b[0m\u001b[0m\n\u001b[1;32m    152\u001b[0m       \u001b[0mfiltered_tb\u001b[0m \u001b[0;34m=\u001b[0m \u001b[0m_process_traceback_frames\u001b[0m\u001b[0;34m(\u001b[0m\u001b[0me\u001b[0m\u001b[0;34m.\u001b[0m\u001b[0m__traceback__\u001b[0m\u001b[0;34m)\u001b[0m\u001b[0;34m\u001b[0m\u001b[0;34m\u001b[0m\u001b[0m\n",
            "\u001b[0;32m/usr/local/lib/python3.7/dist-packages/tensorflow/python/eager/def_function.py\u001b[0m in \u001b[0;36m__call__\u001b[0;34m(self, *args, **kwds)\u001b[0m\n\u001b[1;32m    913\u001b[0m \u001b[0;34m\u001b[0m\u001b[0m\n\u001b[1;32m    914\u001b[0m       \u001b[0;32mwith\u001b[0m \u001b[0mOptionalXlaContext\u001b[0m\u001b[0;34m(\u001b[0m\u001b[0mself\u001b[0m\u001b[0;34m.\u001b[0m\u001b[0m_jit_compile\u001b[0m\u001b[0;34m)\u001b[0m\u001b[0;34m:\u001b[0m\u001b[0;34m\u001b[0m\u001b[0;34m\u001b[0m\u001b[0m\n\u001b[0;32m--> 915\u001b[0;31m         \u001b[0mresult\u001b[0m \u001b[0;34m=\u001b[0m \u001b[0mself\u001b[0m\u001b[0;34m.\u001b[0m\u001b[0m_call\u001b[0m\u001b[0;34m(\u001b[0m\u001b[0;34m*\u001b[0m\u001b[0margs\u001b[0m\u001b[0;34m,\u001b[0m \u001b[0;34m**\u001b[0m\u001b[0mkwds\u001b[0m\u001b[0;34m)\u001b[0m\u001b[0;34m\u001b[0m\u001b[0;34m\u001b[0m\u001b[0m\n\u001b[0m\u001b[1;32m    916\u001b[0m \u001b[0;34m\u001b[0m\u001b[0m\n\u001b[1;32m    917\u001b[0m       \u001b[0mnew_tracing_count\u001b[0m \u001b[0;34m=\u001b[0m \u001b[0mself\u001b[0m\u001b[0;34m.\u001b[0m\u001b[0mexperimental_get_tracing_count\u001b[0m\u001b[0;34m(\u001b[0m\u001b[0;34m)\u001b[0m\u001b[0;34m\u001b[0m\u001b[0;34m\u001b[0m\u001b[0m\n",
            "\u001b[0;32m/usr/local/lib/python3.7/dist-packages/tensorflow/python/eager/def_function.py\u001b[0m in \u001b[0;36m_call\u001b[0;34m(self, *args, **kwds)\u001b[0m\n\u001b[1;32m    945\u001b[0m       \u001b[0;31m# In this case we have created variables on the first call, so we run the\u001b[0m\u001b[0;34m\u001b[0m\u001b[0;34m\u001b[0m\u001b[0;34m\u001b[0m\u001b[0m\n\u001b[1;32m    946\u001b[0m       \u001b[0;31m# defunned version which is guaranteed to never create variables.\u001b[0m\u001b[0;34m\u001b[0m\u001b[0;34m\u001b[0m\u001b[0;34m\u001b[0m\u001b[0m\n\u001b[0;32m--> 947\u001b[0;31m       \u001b[0;32mreturn\u001b[0m \u001b[0mself\u001b[0m\u001b[0;34m.\u001b[0m\u001b[0m_stateless_fn\u001b[0m\u001b[0;34m(\u001b[0m\u001b[0;34m*\u001b[0m\u001b[0margs\u001b[0m\u001b[0;34m,\u001b[0m \u001b[0;34m**\u001b[0m\u001b[0mkwds\u001b[0m\u001b[0;34m)\u001b[0m  \u001b[0;31m# pylint: disable=not-callable\u001b[0m\u001b[0;34m\u001b[0m\u001b[0;34m\u001b[0m\u001b[0m\n\u001b[0m\u001b[1;32m    948\u001b[0m     \u001b[0;32melif\u001b[0m \u001b[0mself\u001b[0m\u001b[0;34m.\u001b[0m\u001b[0m_stateful_fn\u001b[0m \u001b[0;32mis\u001b[0m \u001b[0;32mnot\u001b[0m \u001b[0;32mNone\u001b[0m\u001b[0;34m:\u001b[0m\u001b[0;34m\u001b[0m\u001b[0;34m\u001b[0m\u001b[0m\n\u001b[1;32m    949\u001b[0m       \u001b[0;31m# Release the lock early so that multiple threads can perform the call\u001b[0m\u001b[0;34m\u001b[0m\u001b[0;34m\u001b[0m\u001b[0;34m\u001b[0m\u001b[0m\n",
            "\u001b[0;32m/usr/local/lib/python3.7/dist-packages/tensorflow/python/eager/function.py\u001b[0m in \u001b[0;36m__call__\u001b[0;34m(self, *args, **kwargs)\u001b[0m\n\u001b[1;32m   2955\u001b[0m        filtered_flat_args) = self._maybe_define_function(args, kwargs)\n\u001b[1;32m   2956\u001b[0m     return graph_function._call_flat(\n\u001b[0;32m-> 2957\u001b[0;31m         filtered_flat_args, captured_inputs=graph_function.captured_inputs)  # pylint: disable=protected-access\n\u001b[0m\u001b[1;32m   2958\u001b[0m \u001b[0;34m\u001b[0m\u001b[0m\n\u001b[1;32m   2959\u001b[0m   \u001b[0;34m@\u001b[0m\u001b[0mproperty\u001b[0m\u001b[0;34m\u001b[0m\u001b[0;34m\u001b[0m\u001b[0m\n",
            "\u001b[0;32m/usr/local/lib/python3.7/dist-packages/tensorflow/python/eager/function.py\u001b[0m in \u001b[0;36m_call_flat\u001b[0;34m(self, args, captured_inputs, cancellation_manager)\u001b[0m\n\u001b[1;32m   1852\u001b[0m       \u001b[0;31m# No tape is watching; skip to running the function.\u001b[0m\u001b[0;34m\u001b[0m\u001b[0;34m\u001b[0m\u001b[0;34m\u001b[0m\u001b[0m\n\u001b[1;32m   1853\u001b[0m       return self._build_call_outputs(self._inference_function.call(\n\u001b[0;32m-> 1854\u001b[0;31m           ctx, args, cancellation_manager=cancellation_manager))\n\u001b[0m\u001b[1;32m   1855\u001b[0m     forward_backward = self._select_forward_and_backward_functions(\n\u001b[1;32m   1856\u001b[0m         \u001b[0margs\u001b[0m\u001b[0;34m,\u001b[0m\u001b[0;34m\u001b[0m\u001b[0;34m\u001b[0m\u001b[0m\n",
            "\u001b[0;32m/usr/local/lib/python3.7/dist-packages/tensorflow/python/eager/function.py\u001b[0m in \u001b[0;36mcall\u001b[0;34m(self, ctx, args, cancellation_manager)\u001b[0m\n\u001b[1;32m    502\u001b[0m               \u001b[0minputs\u001b[0m\u001b[0;34m=\u001b[0m\u001b[0margs\u001b[0m\u001b[0;34m,\u001b[0m\u001b[0;34m\u001b[0m\u001b[0;34m\u001b[0m\u001b[0m\n\u001b[1;32m    503\u001b[0m               \u001b[0mattrs\u001b[0m\u001b[0;34m=\u001b[0m\u001b[0mattrs\u001b[0m\u001b[0;34m,\u001b[0m\u001b[0;34m\u001b[0m\u001b[0;34m\u001b[0m\u001b[0m\n\u001b[0;32m--> 504\u001b[0;31m               ctx=ctx)\n\u001b[0m\u001b[1;32m    505\u001b[0m         \u001b[0;32melse\u001b[0m\u001b[0;34m:\u001b[0m\u001b[0;34m\u001b[0m\u001b[0;34m\u001b[0m\u001b[0m\n\u001b[1;32m    506\u001b[0m           outputs = execute.execute_with_cancellation(\n",
            "\u001b[0;32m/usr/local/lib/python3.7/dist-packages/tensorflow/python/eager/execute.py\u001b[0m in \u001b[0;36mquick_execute\u001b[0;34m(op_name, num_outputs, inputs, attrs, ctx, name)\u001b[0m\n\u001b[1;32m     53\u001b[0m     \u001b[0mctx\u001b[0m\u001b[0;34m.\u001b[0m\u001b[0mensure_initialized\u001b[0m\u001b[0;34m(\u001b[0m\u001b[0;34m)\u001b[0m\u001b[0;34m\u001b[0m\u001b[0;34m\u001b[0m\u001b[0m\n\u001b[1;32m     54\u001b[0m     tensors = pywrap_tfe.TFE_Py_Execute(ctx._handle, device_name, op_name,\n\u001b[0;32m---> 55\u001b[0;31m                                         inputs, attrs, num_outputs)\n\u001b[0m\u001b[1;32m     56\u001b[0m   \u001b[0;32mexcept\u001b[0m \u001b[0mcore\u001b[0m\u001b[0;34m.\u001b[0m\u001b[0m_NotOkStatusException\u001b[0m \u001b[0;32mas\u001b[0m \u001b[0me\u001b[0m\u001b[0;34m:\u001b[0m\u001b[0;34m\u001b[0m\u001b[0;34m\u001b[0m\u001b[0m\n\u001b[1;32m     57\u001b[0m     \u001b[0;32mif\u001b[0m \u001b[0mname\u001b[0m \u001b[0;32mis\u001b[0m \u001b[0;32mnot\u001b[0m \u001b[0;32mNone\u001b[0m\u001b[0;34m:\u001b[0m\u001b[0;34m\u001b[0m\u001b[0;34m\u001b[0m\u001b[0m\n",
            "\u001b[0;31mKeyboardInterrupt\u001b[0m: "
          ]
        }
      ]
    },
    {
      "cell_type": "code",
      "source": [
        "DO_NOT_USE_FOURIER_FEATURES = True\n",
        "DO_NOT_USE_ADVANCED_FEATURES = False\n",
        "run(\"Using baseline and advanced\")"
      ],
      "metadata": {
        "id": "cgObpcTNC_XU"
      },
      "execution_count": null,
      "outputs": []
    },
    {
      "cell_type": "code",
      "source": [
        "DO_NOT_USE_FOURIER_FEATURES = False\n",
        "DO_NOT_USE_ADVANCED_FEATURES = True\n",
        "run(\"Using baseline and Fourier\")"
      ],
      "metadata": {
        "id": "8iMxkHjFK2l-"
      },
      "execution_count": null,
      "outputs": []
    },
    {
      "cell_type": "code",
      "source": [
        "DO_NOT_USE_FOURIER_FEATURES = True\n",
        "DO_NOT_USE_ADVANCED_FEATURES = True\n",
        "run(\"Using baseline only\")"
      ],
      "metadata": {
        "id": "R78iL6MSK5sY"
      },
      "execution_count": null,
      "outputs": []
    },
    {
      "cell_type": "code",
      "source": [
        "DO_NOT_USE_BEGIN_END_FEATURES = False\n",
        "DO_NOT_USE_FOURIER_FEATURES = False\n",
        "DO_NOT_USE_ADVANCED_FEATURES = False\n",
        "run(\"using all features (begin and end)\")\n"
      ],
      "metadata": {
        "id": "1lcB5biKLYU8"
      },
      "execution_count": null,
      "outputs": []
    },
    {
      "cell_type": "code",
      "source": [
        "DO_NOT_USE_BEGIN_END_FEATURES = False\n",
        "DO_NOT_USE_FOURIER_FEATURES = True\n",
        "DO_NOT_USE_ADVANCED_FEATURES = False\n",
        "run(\"Using baseline and advanced (begin and end)\")"
      ],
      "metadata": {
        "id": "nOhim4hYOFV6"
      },
      "execution_count": null,
      "outputs": []
    },
    {
      "cell_type": "code",
      "source": [
        "DO_NOT_USE_BEGIN_END_FEATURES = False\n",
        "DO_NOT_USE_FOURIER_FEATURES = False\n",
        "DO_NOT_USE_ADVANCED_FEATURES = True\n",
        "run(\"Using baseline and Fourier (begin and end)\")"
      ],
      "metadata": {
        "id": "ilGViiDOOLyg"
      },
      "execution_count": null,
      "outputs": []
    },
    {
      "cell_type": "code",
      "source": [
        "DO_NOT_USE_BEGIN_END_FEATURES = False\n",
        "DO_NOT_USE_FOURIER_FEATURES = True\n",
        "DO_NOT_USE_ADVANCED_FEATURES = True\n",
        "run(\"Using baseline only (begin and end)\")"
      ],
      "metadata": {
        "id": "t5u5WSpyOPo2"
      },
      "execution_count": null,
      "outputs": []
    },
    {
      "cell_type": "code",
      "source": [
        ""
      ],
      "metadata": {
        "id": "D7vL4RdFOOyx"
      },
      "execution_count": null,
      "outputs": []
    }
  ]
}