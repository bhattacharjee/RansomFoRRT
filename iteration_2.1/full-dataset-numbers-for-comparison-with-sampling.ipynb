{
 "cells": [
  {
   "cell_type": "code",
   "execution_count": 1,
   "id": "5224b897",
   "metadata": {},
   "outputs": [],
   "source": [
    "import pandas as pd"
   ]
  },
  {
   "cell_type": "markdown",
   "id": "c733dc69",
   "metadata": {},
   "source": [
    "### Logistic Regression"
   ]
  },
  {
   "cell_type": "code",
   "execution_count": 18,
   "id": "73d4bb33",
   "metadata": {},
   "outputs": [],
   "source": [
    "lrdf = pd.read_csv(\"expanded_lr_cs5/comparison_logistic_regression_final.csv\")"
   ]
  },
  {
   "cell_type": "code",
   "execution_count": 19,
   "id": "b568836e",
   "metadata": {},
   "outputs": [
    {
     "name": "stdout",
     "output_type": "stream",
     "text": [
      "FULL DATASET\n",
      "Best accuracy\n",
      " 42    0.705724\n",
      "dtype: float64 \n",
      "\n",
      "\n",
      "Best F1\n",
      " 42    0.734097\n",
      "dtype: float64 \n",
      "\n",
      "\n"
     ]
    }
   ],
   "source": [
    "# Get the best statistics for the full dataset\n",
    "\n",
    "df = lrdf\n",
    "X = df[(df['exclude_plaintext_nonbase32'] == 0) & \\\n",
    "     (df['exclude_plaintext_base32'] == 0) & \\\n",
    "     (df['exclude_encrypted_v1'] == 0) & \\\n",
    "     (df['exclude_encrypted_v2'] == 0) & \\\n",
    "     (df['exclude_encrypted_base32'] == 0) & \\\n",
    "     (df['exclude_encrypted_nonbase32'] == 0) & \\\n",
    "     (df['exclude_webp'] == 0) &\\\n",
    "     (df['exclude_nonwebp'] == 0)]\n",
    "\n",
    "\n",
    "print(\"FULL DATASET\")\n",
    "Y = X[[str(c) for c in X.columns if \"score\" in str(c) and \"accuracy\" in str(c)]]\n",
    "print(\"Best accuracy\\n\", Y.T.max(), \"\\n\\n\")\n",
    "Y = X[[str(c) for c in X.columns if \"score\" in str(c) and \"f1\" in str(c).lower()]]\n",
    "print(\"Best F1\\n\", Y.T.max(), \"\\n\\n\")\n"
   ]
  },
  {
   "cell_type": "code",
   "execution_count": 14,
   "id": "79dbc8b2",
   "metadata": {},
   "outputs": [
    {
     "name": "stdout",
     "output_type": "stream",
     "text": [
      "Best accuracy\n",
      " 30    0.841066\n",
      "dtype: float64 \n",
      "\n",
      "\n",
      "Best F1\n",
      " 30    0.840996\n",
      "dtype: float64 \n",
      "\n",
      "\n"
     ]
    }
   ],
   "source": [
    "# Get for non=webp only\n",
    "\n",
    "df = lrdf\n",
    "X = df[(df['exclude_plaintext_nonbase32'] == 0) & \\\n",
    "     (df['exclude_plaintext_base32'] == 0) & \\\n",
    "     (df['exclude_encrypted_v1'] == 0) & \\\n",
    "     (df['exclude_encrypted_v2'] == 0) & \\\n",
    "     (df['exclude_encrypted_base32'] == 0) & \\\n",
    "     (df['exclude_encrypted_nonbase32'] == 0) & \\\n",
    "     (df['exclude_webp'] == 1) &\\\n",
    "     (df['exclude_nonwebp'] == 0)]\n",
    "\n",
    "print(\"NON WEBP\")\n",
    "Y = X[[str(c) for c in X.columns if \"score\" in str(c) and \"accuracy\" in str(c)]]\n",
    "print(\"Best accuracy\\n\", Y.T.max(), \"\\n\\n\")\n",
    "Y = X[[str(c) for c in X.columns if \"score\" in str(c) and \"f1\" in str(c).lower()]]\n",
    "print(\"Best F1\\n\", Y.T.max(), \"\\n\\n\")"
   ]
  },
  {
   "cell_type": "code",
   "execution_count": 15,
   "id": "b47a82e2",
   "metadata": {},
   "outputs": [
    {
     "name": "stdout",
     "output_type": "stream",
     "text": [
      "WEBP\n",
      "Best accuracy\n",
      " 29    0.62285\n",
      "dtype: float64 \n",
      "\n",
      "\n",
      "Best F1\n",
      " 29    0.63599\n",
      "dtype: float64 \n",
      "\n",
      "\n"
     ]
    }
   ],
   "source": [
    "# Get for webp only\n",
    "\n",
    "df = lrdf\n",
    "X = df[(df['exclude_plaintext_nonbase32'] == 0) & \\\n",
    "     (df['exclude_plaintext_base32'] == 0) & \\\n",
    "     (df['exclude_encrypted_v1'] == 0) & \\\n",
    "     (df['exclude_encrypted_v2'] == 0) & \\\n",
    "     (df['exclude_encrypted_base32'] == 0) & \\\n",
    "     (df['exclude_encrypted_nonbase32'] == 0) & \\\n",
    "     (df['exclude_webp'] == 0) &\\\n",
    "     (df['exclude_nonwebp'] == 1)]\n",
    "\n",
    "print(\"WEBP\")\n",
    "Y = X[[str(c) for c in X.columns if \"score\" in str(c) and \"accuracy\" in str(c)]]\n",
    "print(\"Best accuracy\\n\", Y.T.max(), \"\\n\\n\")\n",
    "Y = X[[str(c) for c in X.columns if \"score\" in str(c) and \"f1\" in str(c).lower()]]\n",
    "print(\"Best F1\\n\", Y.T.max(), \"\\n\\n\")"
   ]
  },
  {
   "cell_type": "markdown",
   "id": "6e03f746",
   "metadata": {},
   "source": [
    "### Random Forest\n"
   ]
  },
  {
   "cell_type": "code",
   "execution_count": 21,
   "id": "64ffaf7a",
   "metadata": {},
   "outputs": [],
   "source": [
    "rfdf = pd.read_csv(\"expanded_rf_cs5/comparison.csv\")"
   ]
  },
  {
   "cell_type": "code",
   "execution_count": 23,
   "id": "738eefa4",
   "metadata": {},
   "outputs": [
    {
     "name": "stdout",
     "output_type": "stream",
     "text": [
      "FULL DATASET\n",
      "Best accuracy\n",
      " 27    0.940441\n",
      "dtype: float64 \n",
      "\n",
      "\n",
      "Best F1\n",
      " 27    0.939706\n",
      "dtype: float64 \n",
      "\n",
      "\n"
     ]
    }
   ],
   "source": [
    "# Get the best statistics for the full dataset\n",
    "\n",
    "df = rfdf\n",
    "X = df[(df['exclude_plaintext_nonbase32'] == 0) & \\\n",
    "     (df['exclude_plaintext_base32'] == 0) & \\\n",
    "     (df['exclude_encrypted_v1'] == 0) & \\\n",
    "     (df['exclude_encrypted_v2'] == 0) & \\\n",
    "     (df['exclude_encrypted_base32'] == 0) & \\\n",
    "     (df['exclude_encrypted_nonbase32'] == 0) & \\\n",
    "     (df['exclude_webp'] == 0) &\\\n",
    "     (df['exclude_nonwebp'] == 0)]\n",
    "\n",
    "\n",
    "print(\"FULL DATASET\")\n",
    "Y = X[[str(c) for c in X.columns if \"score\" in str(c) and \"accuracy\" in str(c)]]\n",
    "print(\"Best accuracy\\n\", Y.T.max(), \"\\n\\n\")\n",
    "Y = X[[str(c) for c in X.columns if \"score\" in str(c) and \"f1\" in str(c).lower()]]\n",
    "print(\"Best F1\\n\", Y.T.max(), \"\\n\\n\")\n"
   ]
  },
  {
   "cell_type": "code",
   "execution_count": 24,
   "id": "14e3d656",
   "metadata": {},
   "outputs": [
    {
     "name": "stdout",
     "output_type": "stream",
     "text": [
      "WEBP\n",
      "Best accuracy\n",
      " 19    0.870261\n",
      "dtype: float64 \n",
      "\n",
      "\n",
      "Best F1\n",
      " 19    0.8626\n",
      "dtype: float64 \n",
      "\n",
      "\n"
     ]
    }
   ],
   "source": [
    "# Get the best statistics for the web dataset\n",
    "\n",
    "df = rfdf\n",
    "X = df[(df['exclude_plaintext_nonbase32'] == 0) & \\\n",
    "     (df['exclude_plaintext_base32'] == 0) & \\\n",
    "     (df['exclude_encrypted_v1'] == 0) & \\\n",
    "     (df['exclude_encrypted_v2'] == 0) & \\\n",
    "     (df['exclude_encrypted_base32'] == 0) & \\\n",
    "     (df['exclude_encrypted_nonbase32'] == 0) & \\\n",
    "     (df['exclude_webp'] == 0) &\\\n",
    "     (df['exclude_nonwebp'] == 1)]\n",
    "\n",
    "\n",
    "print(\"WEBP\")\n",
    "Y = X[[str(c) for c in X.columns if \"score\" in str(c) and \"accuracy\" in str(c)]]\n",
    "print(\"Best accuracy\\n\", Y.T.max(), \"\\n\\n\")\n",
    "Y = X[[str(c) for c in X.columns if \"score\" in str(c) and \"f1\" in str(c).lower()]]\n",
    "print(\"Best F1\\n\", Y.T.max(), \"\\n\\n\")\n"
   ]
  },
  {
   "cell_type": "code",
   "execution_count": 25,
   "id": "bed1cb6f",
   "metadata": {},
   "outputs": [
    {
     "name": "stdout",
     "output_type": "stream",
     "text": [
      "NON WEBP\n",
      "Best accuracy\n",
      " 31    0.981146\n",
      "dtype: float64 \n",
      "\n",
      "\n",
      "Best F1\n",
      " 31    0.980983\n",
      "dtype: float64 \n",
      "\n",
      "\n"
     ]
    }
   ],
   "source": [
    "# Get the best statistics for the web dataset\n",
    "\n",
    "df = rfdf\n",
    "X = df[(df['exclude_plaintext_nonbase32'] == 0) & \\\n",
    "     (df['exclude_plaintext_base32'] == 0) & \\\n",
    "     (df['exclude_encrypted_v1'] == 0) & \\\n",
    "     (df['exclude_encrypted_v2'] == 0) & \\\n",
    "     (df['exclude_encrypted_base32'] == 0) & \\\n",
    "     (df['exclude_encrypted_nonbase32'] == 0) & \\\n",
    "     (df['exclude_webp'] == 1) &\\\n",
    "     (df['exclude_nonwebp'] == 0)]\n",
    "\n",
    "\n",
    "print(\"NON WEBP\")\n",
    "Y = X[[str(c) for c in X.columns if \"score\" in str(c) and \"accuracy\" in str(c)]]\n",
    "print(\"Best accuracy\\n\", Y.T.max(), \"\\n\\n\")\n",
    "Y = X[[str(c) for c in X.columns if \"score\" in str(c) and \"f1\" in str(c).lower()]]\n",
    "print(\"Best F1\\n\", Y.T.max(), \"\\n\\n\")\n"
   ]
  },
  {
   "cell_type": "code",
   "execution_count": null,
   "id": "a7099c66",
   "metadata": {},
   "outputs": [],
   "source": []
  }
 ],
 "metadata": {
  "kernelspec": {
   "display_name": "Python 3 (ipykernel)",
   "language": "python",
   "name": "python3"
  },
  "language_info": {
   "codemirror_mode": {
    "name": "ipython",
    "version": 3
   },
   "file_extension": ".py",
   "mimetype": "text/x-python",
   "name": "python",
   "nbconvert_exporter": "python",
   "pygments_lexer": "ipython3",
   "version": "3.9.7"
  }
 },
 "nbformat": 4,
 "nbformat_minor": 5
}
