{
 "cells": [
  {
   "cell_type": "markdown",
   "id": "00f54992",
   "metadata": {},
   "source": [
    "## Train with one dataset and test with another"
   ]
  },
  {
   "cell_type": "code",
   "execution_count": 1,
   "id": "4accc0da",
   "metadata": {},
   "outputs": [],
   "source": [
    "import pandas as pd\n",
    "import numpy as np\n",
    "import scipy\n",
    "from scipy import stats\n",
    "\n",
    "from functools import lru_cache\n",
    "\n",
    "import gc\n",
    "\n",
    "import sklearn\n",
    "from sklearn.model_selection import train_test_split\n",
    "\n",
    "from imblearn.pipeline import Pipeline\n",
    "from imblearn.over_sampling import RandomOverSampler as balancer\n",
    "import numpy as np\n",
    "\n",
    "from sklearn.linear_model import LogisticRegression\n",
    "from sklearn.ensemble import RandomForestClassifier\n",
    "\n",
    "from sklearn.preprocessing import StandardScaler, MinMaxScaler\n",
    "from sklearn.metrics import precision_recall_fscore_support\n",
    "from sklearn.metrics import f1_score, accuracy_score\n",
    "from sklearn.model_selection import StratifiedKFold\n",
    "from sklearn.metrics import precision_score, accuracy_score, recall_score\n",
    "\n",
    "import matplotlib.pyplot as plt\n",
    "import glob\n",
    "\n",
    "from tqdm import notebook as tqdm\n",
    "from multiprocessing.pool import ThreadPool, Pool\n",
    "\n",
    "plt.rcParams[\"figure.figsize\"] = (20,20)\n",
    "\n",
    "import random\n",
    "random.seed(42)\n",
    "\n",
    "DEBUG = False\n",
    "N_JOBS = 8"
   ]
  },
  {
   "cell_type": "code",
   "execution_count": 2,
   "id": "c17a1dd0",
   "metadata": {},
   "outputs": [],
   "source": [
    "def call_gc():\n",
    "    for i in range(3):\n",
    "        for j in range(3):\n",
    "            gc.collect(j)"
   ]
  },
  {
   "cell_type": "code",
   "execution_count": 3,
   "id": "ffaf53cc",
   "metadata": {},
   "outputs": [],
   "source": [
    "def get_columns(thisdf):\n",
    "    baseline_columns = [c for c in thisdf.columns if c.startswith('baseline') and \"head\" not in c and \"tail\" not in c]\n",
    "    baseline_columns = [c for c in baseline_columns if \"filesize\" not in c]\n",
    "    baseline_columns = [c for c in baseline_columns if \"begin\" not in c and \"end\" not in c]\n",
    "\n",
    "    advanced_columns = [c for c in thisdf.columns if \"advanced\" in c]\n",
    "    advanced_columns = [c for c in advanced_columns if \"begin\" not in c and \"end\" not in c]\n",
    "    advanced_columns = [c for c in advanced_columns if \"head\" not in c and \"tail\" not in c]\n",
    "    advanced_columns = [c for c in advanced_columns if \"start\" not in c]\n",
    "    advanced_columns_only = list(set(advanced_columns))\n",
    "    advanced_columns = list(set(advanced_columns + baseline_columns))\n",
    "\n",
    "    fourier_columns = [c for c in thisdf.columns if \"fourier\" in c and \"value\" not in c]\n",
    "    fourier_columns = [c for c in fourier_columns if \"1byte\" in c]\n",
    "    fourier_columns = [c for c in fourier_columns if \"begin\" not in c and \"end\" not in c]\n",
    "    fourier_columns = [c for c in fourier_columns if \"head\" not in c and \"tail\" not in c]\n",
    "    fourier_columns = [c for c in fourier_columns if \"start\" not in c]\n",
    "    fourier_columns_only = list(set(fourier_columns))\n",
    "    fourier_columns = list(set(advanced_columns + fourier_columns))\n",
    "    \n",
    "    baseline_and_advanced = list(set(baseline_columns + advanced_columns_only))\n",
    "    baseline_and_fourier = list(set(baseline_columns + fourier_columns_only))\n",
    "    advanced_and_fourier = list(set(advanced_columns_only + fourier_columns_only))\n",
    "    \n",
    "    return {\\\n",
    "        \"Baseline only\": baseline_columns,\\\n",
    "        \"Advanced only\": advanced_columns_only,\\\n",
    "        \"Fourier only\": fourier_columns_only,\\\n",
    "        \"Baseline and Fourier\": baseline_and_fourier,\\\n",
    "        \"Advanced and Fourier\": advanced_and_fourier,\\\n",
    "        \"Baseline and Advanced\": advanced_columns,\\\n",
    "        \"Baseline, Advanced, and Fourier\": fourier_columns,\\\n",
    "    }"
   ]
  },
  {
   "cell_type": "code",
   "execution_count": 4,
   "id": "4ff1b84c",
   "metadata": {},
   "outputs": [],
   "source": [
    "@lru_cache\n",
    "def load_datasets_once():\n",
    "    \"\"\"Load all datasets only once\n",
    "    \n",
    "    We want to load the datasets only once. Once loaded\n",
    "    serve from cache\n",
    "    \"\"\"\n",
    "    nonransomware = []\n",
    "    ransomware = None\n",
    "    \n",
    "    for file in glob.glob(\"*.csv.gz\"):\n",
    "        print(f\"Loading {file}\")\n",
    "        df = pd.read_csv(file)\n",
    "        df[\"csv_filename\"] = file\n",
    "        df[\"is_encrypted\"] = 1 if \"encr\" in file.lower() else 0\n",
    "        df[\"is_ransomware\"] = 1 if \"ransom\" in file.lower() else 0\n",
    "        df[\"is_encrypted\"] = df[\"is_encrypted\"].astype(\"int8\")\n",
    "        df[\"is_ransomware\"] = df[\"is_ransomware\"].astype(\"int8\")\n",
    "        \n",
    "        if \"ransom\" in file.lower():\n",
    "            df = df.sample(frac=1).reset_index(drop=True)\n",
    "            ransomware = df\n",
    "        else:\n",
    "            nonransomware.append(df)\n",
    "        \n",
    "    nonransomware = pd.concat(nonransomware).sample(frac=1).reset_index(drop=True)\n",
    "    return ransomware, nonransomware"
   ]
  },
  {
   "cell_type": "markdown",
   "id": "fd00d5ef",
   "metadata": {},
   "source": [
    "# First Step\n",
    "\n",
    "First step is to get an overall 5 fold cross validation score based\n",
    "for\n",
    "1. Ransomware\n",
    "2. Non ransomware"
   ]
  },
  {
   "cell_type": "code",
   "execution_count": 5,
   "id": "ee986198",
   "metadata": {},
   "outputs": [],
   "source": [
    "DEBUG_SMALL = False\n",
    "def run_cross_validated(nonransomDF, ransomDF, clf_gen, n_splits=2):\n",
    "    def run_once(traindf, nonransomtestdf, ransomtestdf, column_list):\n",
    "        traindf = traindf.sample(frac=1).reset_index(drop=True)\n",
    "        trainX = traindf[column_list].to_numpy()\n",
    "        trainY = traindf[\"is_encrypted\"].to_numpy()\n",
    "        ransomX = ransomtestdf[column_list].to_numpy()\n",
    "        nonransomX = nonransomtestdf[column_list].to_numpy()\n",
    "        \n",
    "        pipeline = Pipeline(steps=\\\n",
    "                            [('scaler', StandardScaler()), \\\n",
    "                             ('smote', balancer(random_state=42)), \\\n",
    "                             ('clf', clf_gen())])\n",
    "        pipeline.fit(trainX, trainY)\n",
    "        \n",
    "        return pipeline.predict(nonransomX), pipeline.predict(ransomX)\n",
    "    \n",
    "    nonransomDF = nonransomDF.dropna()\n",
    "    ransomDF = ransomDF.dropna()\n",
    "    \n",
    "    if DEBUG_SMALL:\n",
    "        nonransomDF = nonransomDF.head(500)\n",
    "        ransomDF = ransomDF.head(500)\n",
    "        \n",
    "    skf = StratifiedKFold(n_splits=n_splits)\n",
    "    # We reverse test and train indices for ransomware samples\n",
    "    if False:\n",
    "        ransomDF_indices = [(test_indices, train_indices) \\\n",
    "                                for train_indices, test_indices \\\n",
    "                                in skf.split(ransomDF, ransomDF[\"is_encrypted\"])]\n",
    "    else:\n",
    "        ransomDF_indices = [(train_indices, test_indices) \\\n",
    "                                for train_indices, test_indices \\\n",
    "                                in skf.split(ransomDF, ransomDF[\"is_encrypted\"])]\n",
    "    \n",
    "    skf = StratifiedKFold(n_splits=n_splits)\n",
    "    nonransomDF_indices = [(train_indices, test_indices) \\\n",
    "                              for train_indices, test_indices \\\n",
    "                              in skf.split(nonransomDF, nonransomDF[\"is_encrypted\"])]\n",
    "    \n",
    "    ransomDF = ransomDF.reset_index(drop=True)\n",
    "    nonransomDF = nonransomDF.reset_index(drop=True)\n",
    "    \n",
    "    \n",
    "    \n",
    "    returndf = []\n",
    "    for run in tqdm.tqdm(range(len(ransomDF_indices))):\n",
    "        ransom_train_indices, ransom_test_indices = ransomDF_indices[run]\n",
    "        non_ransom_train_indices, non_ransom_test_indices = nonransomDF_indices[run]\n",
    "        \n",
    "        ransom_train, ransom_test = \\\n",
    "            ransomDF.iloc[ransom_train_indices], ransomDF.iloc[ransom_test_indices]\n",
    "        #print(f\"{run}. Non Ransom\", ransom_train.shape, ransom_test.shape)\n",
    "        \n",
    "        nonransom_train, nonransom_test = \\\n",
    "            nonransomDF.iloc[non_ransom_train_indices], nonransomDF.iloc[non_ransom_test_indices]\n",
    "        #print(f\"{run}. Non Ransom\", nonransom_train.shape, nonransom_test.shape)\n",
    "        \n",
    "        traindf = pd.concat([ransom_train, nonransom_train]).sample(frac=1).reset_index(drop=True)\n",
    "        \n",
    "        resultdf = pd.concat([nonransom_test, ransom_test])\n",
    "        resultdf = resultdf[[\"extended.base_filename\", \"is_ransomware\", \"is_encrypted\"]]\n",
    "        \n",
    "        for description, column_list in tqdm.tqdm(get_columns(ransomDF).items()):\n",
    "            nonransom_pred, ransom_pred = run_once(traindf, nonransom_test, ransom_test, column_list)\n",
    "            resultdf[f\"{description}: pred\"] = np.append(nonransom_pred, ransom_pred)\n",
    "        \n",
    "        returndf.append(resultdf)\n",
    "    \n",
    "    return pd.concat(returndf)"
   ]
  },
  {
   "cell_type": "code",
   "execution_count": 6,
   "id": "510509df",
   "metadata": {},
   "outputs": [],
   "source": [
    "def format_result(result):\n",
    "    dfdict = {\n",
    "        \"run\": [],\n",
    "        \"accuracy\": [],\n",
    "        \"f1\": [],\n",
    "        \"precision\": [],\n",
    "        \"recall\": []\n",
    "    }\n",
    "\n",
    "    for c in result.columns:\n",
    "        if c.lower().endswith(\"pred\"):\n",
    "            desc = c.split(\":\")[0]\n",
    "            dfdict[\"run\"].append(desc)\n",
    "\n",
    "            x = result\n",
    "            dfdict[\"accuracy\"].append(accuracy_score(x[\"is_encrypted\"], x[c]))\n",
    "            dfdict[\"f1\"].append(f1_score(x[\"is_encrypted\"], x[c]))\n",
    "            dfdict[\"precision\"].append(accuracy_score(x[\"is_encrypted\"], x[c]))\n",
    "            dfdict[\"recall\"].append(accuracy_score(x[\"is_encrypted\"], x[c]))\n",
    "\n",
    "    summarydf = pd.DataFrame(dfdict)\n",
    "    return summarydf"
   ]
  },
  {
   "cell_type": "code",
   "execution_count": 7,
   "id": "ad233e2e",
   "metadata": {},
   "outputs": [
    {
     "name": "stdout",
     "output_type": "stream",
     "text": [
      "Loading n1.sampled.encrypted.v1.csv.gz\n",
      "Loading n1.sampled.pt.base32.csv.gz\n",
      "Loading n1.sampled.encrypted.v1.base32.csv.gz\n",
      "Loading n1.sampled.ransomware.encrypted.csv.gz\n",
      "Loading n1.sampled.encrypted.v2.base32.csv.gz\n",
      "Loading n1.sampled.encrypted.v2.csv.gz\n",
      "Loading n1.sampled.pt.csv.gz\n"
     ]
    },
    {
     "data": {
      "application/vnd.jupyter.widget-view+json": {
       "model_id": "f9aef36c1dbd4140be11844f680312c8",
       "version_major": 2,
       "version_minor": 0
      },
      "text/plain": [
       "  0%|          | 0/5 [00:00<?, ?it/s]"
      ]
     },
     "metadata": {},
     "output_type": "display_data"
    },
    {
     "data": {
      "application/vnd.jupyter.widget-view+json": {
       "model_id": "dd3db4230bb645f9bf1277c5341432e7",
       "version_major": 2,
       "version_minor": 0
      },
      "text/plain": [
       "  0%|          | 0/7 [00:00<?, ?it/s]"
      ]
     },
     "metadata": {},
     "output_type": "display_data"
    },
    {
     "data": {
      "application/vnd.jupyter.widget-view+json": {
       "model_id": "23cf5717ea57461f8fa4a69f629a585d",
       "version_major": 2,
       "version_minor": 0
      },
      "text/plain": [
       "  0%|          | 0/7 [00:00<?, ?it/s]"
      ]
     },
     "metadata": {},
     "output_type": "display_data"
    },
    {
     "data": {
      "application/vnd.jupyter.widget-view+json": {
       "model_id": "e3f104a7360343a5a98fb30ce3f10a5c",
       "version_major": 2,
       "version_minor": 0
      },
      "text/plain": [
       "  0%|          | 0/7 [00:00<?, ?it/s]"
      ]
     },
     "metadata": {},
     "output_type": "display_data"
    },
    {
     "data": {
      "application/vnd.jupyter.widget-view+json": {
       "model_id": "09e0686d089d4461bf0126e40c86485c",
       "version_major": 2,
       "version_minor": 0
      },
      "text/plain": [
       "  0%|          | 0/7 [00:00<?, ?it/s]"
      ]
     },
     "metadata": {},
     "output_type": "display_data"
    },
    {
     "data": {
      "application/vnd.jupyter.widget-view+json": {
       "model_id": "059d4bc1753f49d3822a0083619dd051",
       "version_major": 2,
       "version_minor": 0
      },
      "text/plain": [
       "  0%|          | 0/7 [00:00<?, ?it/s]"
      ]
     },
     "metadata": {},
     "output_type": "display_data"
    },
    {
     "name": "stdout",
     "output_type": "stream",
     "text": [
      "\\begin{tabular}{llrrrr}\n",
      "\\toprule\n",
      "{} &                              run &  accuracy &        f1 &  precision &    recall \\\\\n",
      "\\midrule\n",
      "0 &                    Baseline only &  0.885106 &  0.916228 &   0.885106 &  0.885106 \\\\\n",
      "1 &                    Advanced only &  0.861218 &  0.898710 &   0.861218 &  0.861218 \\\\\n",
      "2 &                     Fourier only &  0.863500 &  0.900571 &   0.863500 &  0.863500 \\\\\n",
      "3 &             Baseline and Fourier &  0.919058 &  0.941499 &   0.919058 &  0.919058 \\\\\n",
      "4 &             Advanced and Fourier &  0.915111 &  0.938357 &   0.915111 &  0.915111 \\\\\n",
      "5 &            Baseline and Advanced &  0.892869 &  0.922055 &   0.892869 &  0.892869 \\\\\n",
      "6 &  Baseline, Advanced, and Fourier &  0.920667 &  0.942461 &   0.920667 &  0.920667 \\\\\n",
      "\\bottomrule\n",
      "\\end{tabular}\n",
      "\n"
     ]
    },
    {
     "data": {
      "text/html": [
       "<div>\n",
       "<style scoped>\n",
       "    .dataframe tbody tr th:only-of-type {\n",
       "        vertical-align: middle;\n",
       "    }\n",
       "\n",
       "    .dataframe tbody tr th {\n",
       "        vertical-align: top;\n",
       "    }\n",
       "\n",
       "    .dataframe thead th {\n",
       "        text-align: right;\n",
       "    }\n",
       "</style>\n",
       "<table border=\"1\" class=\"dataframe\">\n",
       "  <thead>\n",
       "    <tr style=\"text-align: right;\">\n",
       "      <th></th>\n",
       "      <th>run</th>\n",
       "      <th>accuracy</th>\n",
       "      <th>f1</th>\n",
       "      <th>precision</th>\n",
       "      <th>recall</th>\n",
       "    </tr>\n",
       "  </thead>\n",
       "  <tbody>\n",
       "    <tr>\n",
       "      <th>0</th>\n",
       "      <td>Baseline only</td>\n",
       "      <td>0.885106</td>\n",
       "      <td>0.916228</td>\n",
       "      <td>0.885106</td>\n",
       "      <td>0.885106</td>\n",
       "    </tr>\n",
       "    <tr>\n",
       "      <th>1</th>\n",
       "      <td>Advanced only</td>\n",
       "      <td>0.861218</td>\n",
       "      <td>0.898710</td>\n",
       "      <td>0.861218</td>\n",
       "      <td>0.861218</td>\n",
       "    </tr>\n",
       "    <tr>\n",
       "      <th>2</th>\n",
       "      <td>Fourier only</td>\n",
       "      <td>0.863500</td>\n",
       "      <td>0.900571</td>\n",
       "      <td>0.863500</td>\n",
       "      <td>0.863500</td>\n",
       "    </tr>\n",
       "    <tr>\n",
       "      <th>3</th>\n",
       "      <td>Baseline and Fourier</td>\n",
       "      <td>0.919058</td>\n",
       "      <td>0.941499</td>\n",
       "      <td>0.919058</td>\n",
       "      <td>0.919058</td>\n",
       "    </tr>\n",
       "    <tr>\n",
       "      <th>4</th>\n",
       "      <td>Advanced and Fourier</td>\n",
       "      <td>0.915111</td>\n",
       "      <td>0.938357</td>\n",
       "      <td>0.915111</td>\n",
       "      <td>0.915111</td>\n",
       "    </tr>\n",
       "    <tr>\n",
       "      <th>5</th>\n",
       "      <td>Baseline and Advanced</td>\n",
       "      <td>0.892869</td>\n",
       "      <td>0.922055</td>\n",
       "      <td>0.892869</td>\n",
       "      <td>0.892869</td>\n",
       "    </tr>\n",
       "    <tr>\n",
       "      <th>6</th>\n",
       "      <td>Baseline, Advanced, and Fourier</td>\n",
       "      <td>0.920667</td>\n",
       "      <td>0.942461</td>\n",
       "      <td>0.920667</td>\n",
       "      <td>0.920667</td>\n",
       "    </tr>\n",
       "  </tbody>\n",
       "</table>\n",
       "</div>"
      ],
      "text/plain": [
       "                               run  accuracy        f1  precision    recall\n",
       "0                    Baseline only  0.885106  0.916228   0.885106  0.885106\n",
       "1                    Advanced only  0.861218  0.898710   0.861218  0.861218\n",
       "2                     Fourier only  0.863500  0.900571   0.863500  0.863500\n",
       "3             Baseline and Fourier  0.919058  0.941499   0.919058  0.919058\n",
       "4             Advanced and Fourier  0.915111  0.938357   0.915111  0.915111\n",
       "5            Baseline and Advanced  0.892869  0.922055   0.892869  0.892869\n",
       "6  Baseline, Advanced, and Fourier  0.920667  0.942461   0.920667  0.920667"
      ]
     },
     "execution_count": 7,
     "metadata": {},
     "output_type": "execute_result"
    }
   ],
   "source": [
    "rfc_gen = lambda: RandomForestClassifier(n_jobs=10, random_state=42)\n",
    "rdf, nrdf = load_datasets_once()\n",
    "result_rfc = run_cross_validated(nrdf.copy(), rdf.copy(), rfc_gen,  n_splits=5)\n",
    "rfc_summary = format_result(result_rfc)\n",
    "\n",
    "result_rfc.to_csv(\"rfc_result.csv\")\n",
    "rfc_summary.to_csv(\"rfc_summary.csv\")\n",
    "\n",
    "\n",
    "print(rfc_summary.to_latex())\n",
    "rfc_summary\n"
   ]
  },
  {
   "cell_type": "code",
   "execution_count": 8,
   "id": "0b1994b9",
   "metadata": {},
   "outputs": [
    {
     "data": {
      "application/vnd.jupyter.widget-view+json": {
       "model_id": "34449990d0de4d8bb9b7aa3e7caeb32f",
       "version_major": 2,
       "version_minor": 0
      },
      "text/plain": [
       "  0%|          | 0/5 [00:00<?, ?it/s]"
      ]
     },
     "metadata": {},
     "output_type": "display_data"
    },
    {
     "data": {
      "application/vnd.jupyter.widget-view+json": {
       "model_id": "d1a8f396cfdd4e69aa33748e3f7d0e6e",
       "version_major": 2,
       "version_minor": 0
      },
      "text/plain": [
       "  0%|          | 0/7 [00:00<?, ?it/s]"
      ]
     },
     "metadata": {},
     "output_type": "display_data"
    },
    {
     "name": "stderr",
     "output_type": "stream",
     "text": [
      "/Users/phantom/opt/anaconda3/lib/python3.9/site-packages/sklearn/linear_model/_sag.py:328: ConvergenceWarning: The max_iter was reached which means the coef_ did not converge\n",
      "  warnings.warn(\"The max_iter was reached which means \"\n",
      "/Users/phantom/opt/anaconda3/lib/python3.9/site-packages/sklearn/linear_model/_sag.py:328: ConvergenceWarning: The max_iter was reached which means the coef_ did not converge\n",
      "  warnings.warn(\"The max_iter was reached which means \"\n",
      "/Users/phantom/opt/anaconda3/lib/python3.9/site-packages/sklearn/linear_model/_sag.py:328: ConvergenceWarning: The max_iter was reached which means the coef_ did not converge\n",
      "  warnings.warn(\"The max_iter was reached which means \"\n",
      "/Users/phantom/opt/anaconda3/lib/python3.9/site-packages/sklearn/linear_model/_sag.py:328: ConvergenceWarning: The max_iter was reached which means the coef_ did not converge\n",
      "  warnings.warn(\"The max_iter was reached which means \"\n"
     ]
    },
    {
     "data": {
      "application/vnd.jupyter.widget-view+json": {
       "model_id": "41892c647ad24fa5a68472256575a3b4",
       "version_major": 2,
       "version_minor": 0
      },
      "text/plain": [
       "  0%|          | 0/7 [00:00<?, ?it/s]"
      ]
     },
     "metadata": {},
     "output_type": "display_data"
    },
    {
     "name": "stderr",
     "output_type": "stream",
     "text": [
      "/Users/phantom/opt/anaconda3/lib/python3.9/site-packages/sklearn/linear_model/_sag.py:328: ConvergenceWarning: The max_iter was reached which means the coef_ did not converge\n",
      "  warnings.warn(\"The max_iter was reached which means \"\n",
      "/Users/phantom/opt/anaconda3/lib/python3.9/site-packages/sklearn/linear_model/_sag.py:328: ConvergenceWarning: The max_iter was reached which means the coef_ did not converge\n",
      "  warnings.warn(\"The max_iter was reached which means \"\n",
      "/Users/phantom/opt/anaconda3/lib/python3.9/site-packages/sklearn/linear_model/_sag.py:328: ConvergenceWarning: The max_iter was reached which means the coef_ did not converge\n",
      "  warnings.warn(\"The max_iter was reached which means \"\n",
      "/Users/phantom/opt/anaconda3/lib/python3.9/site-packages/sklearn/linear_model/_sag.py:328: ConvergenceWarning: The max_iter was reached which means the coef_ did not converge\n",
      "  warnings.warn(\"The max_iter was reached which means \"\n"
     ]
    },
    {
     "data": {
      "application/vnd.jupyter.widget-view+json": {
       "model_id": "fea6509fbb464044a2e270b8dbedb212",
       "version_major": 2,
       "version_minor": 0
      },
      "text/plain": [
       "  0%|          | 0/7 [00:00<?, ?it/s]"
      ]
     },
     "metadata": {},
     "output_type": "display_data"
    },
    {
     "name": "stderr",
     "output_type": "stream",
     "text": [
      "/Users/phantom/opt/anaconda3/lib/python3.9/site-packages/sklearn/linear_model/_sag.py:328: ConvergenceWarning: The max_iter was reached which means the coef_ did not converge\n",
      "  warnings.warn(\"The max_iter was reached which means \"\n",
      "/Users/phantom/opt/anaconda3/lib/python3.9/site-packages/sklearn/linear_model/_sag.py:328: ConvergenceWarning: The max_iter was reached which means the coef_ did not converge\n",
      "  warnings.warn(\"The max_iter was reached which means \"\n",
      "/Users/phantom/opt/anaconda3/lib/python3.9/site-packages/sklearn/linear_model/_sag.py:328: ConvergenceWarning: The max_iter was reached which means the coef_ did not converge\n",
      "  warnings.warn(\"The max_iter was reached which means \"\n",
      "/Users/phantom/opt/anaconda3/lib/python3.9/site-packages/sklearn/linear_model/_sag.py:328: ConvergenceWarning: The max_iter was reached which means the coef_ did not converge\n",
      "  warnings.warn(\"The max_iter was reached which means \"\n"
     ]
    },
    {
     "data": {
      "application/vnd.jupyter.widget-view+json": {
       "model_id": "98bb5775f3724df9bba10ebae83d8a22",
       "version_major": 2,
       "version_minor": 0
      },
      "text/plain": [
       "  0%|          | 0/7 [00:00<?, ?it/s]"
      ]
     },
     "metadata": {},
     "output_type": "display_data"
    },
    {
     "name": "stderr",
     "output_type": "stream",
     "text": [
      "/Users/phantom/opt/anaconda3/lib/python3.9/site-packages/sklearn/linear_model/_sag.py:328: ConvergenceWarning: The max_iter was reached which means the coef_ did not converge\n",
      "  warnings.warn(\"The max_iter was reached which means \"\n",
      "/Users/phantom/opt/anaconda3/lib/python3.9/site-packages/sklearn/linear_model/_sag.py:328: ConvergenceWarning: The max_iter was reached which means the coef_ did not converge\n",
      "  warnings.warn(\"The max_iter was reached which means \"\n",
      "/Users/phantom/opt/anaconda3/lib/python3.9/site-packages/sklearn/linear_model/_sag.py:328: ConvergenceWarning: The max_iter was reached which means the coef_ did not converge\n",
      "  warnings.warn(\"The max_iter was reached which means \"\n",
      "/Users/phantom/opt/anaconda3/lib/python3.9/site-packages/sklearn/linear_model/_sag.py:328: ConvergenceWarning: The max_iter was reached which means the coef_ did not converge\n",
      "  warnings.warn(\"The max_iter was reached which means \"\n"
     ]
    },
    {
     "data": {
      "application/vnd.jupyter.widget-view+json": {
       "model_id": "7fc98021f0e24c658e1ff62a5f5d5999",
       "version_major": 2,
       "version_minor": 0
      },
      "text/plain": [
       "  0%|          | 0/7 [00:00<?, ?it/s]"
      ]
     },
     "metadata": {},
     "output_type": "display_data"
    },
    {
     "name": "stderr",
     "output_type": "stream",
     "text": [
      "/Users/phantom/opt/anaconda3/lib/python3.9/site-packages/sklearn/linear_model/_sag.py:328: ConvergenceWarning: The max_iter was reached which means the coef_ did not converge\n",
      "  warnings.warn(\"The max_iter was reached which means \"\n",
      "/Users/phantom/opt/anaconda3/lib/python3.9/site-packages/sklearn/linear_model/_sag.py:328: ConvergenceWarning: The max_iter was reached which means the coef_ did not converge\n",
      "  warnings.warn(\"The max_iter was reached which means \"\n",
      "/Users/phantom/opt/anaconda3/lib/python3.9/site-packages/sklearn/linear_model/_sag.py:328: ConvergenceWarning: The max_iter was reached which means the coef_ did not converge\n",
      "  warnings.warn(\"The max_iter was reached which means \"\n",
      "/Users/phantom/opt/anaconda3/lib/python3.9/site-packages/sklearn/linear_model/_sag.py:328: ConvergenceWarning: The max_iter was reached which means the coef_ did not converge\n",
      "  warnings.warn(\"The max_iter was reached which means \"\n"
     ]
    },
    {
     "name": "stdout",
     "output_type": "stream",
     "text": [
      "\\begin{tabular}{llrrrr}\n",
      "\\toprule\n",
      "{} &                              run &  accuracy &        f1 &  precision &    recall \\\\\n",
      "\\midrule\n",
      "0 &                    Baseline only &  0.699596 &  0.794718 &   0.699596 &  0.699596 \\\\\n",
      "1 &                    Advanced only &  0.710483 &  0.774114 &   0.710483 &  0.710483 \\\\\n",
      "2 &                     Fourier only &  0.707808 &  0.788748 &   0.707808 &  0.707808 \\\\\n",
      "3 &             Baseline and Fourier &  0.736971 &  0.811350 &   0.736971 &  0.736971 \\\\\n",
      "4 &             Advanced and Fourier &  0.747110 &  0.808353 &   0.747110 &  0.747110 \\\\\n",
      "5 &            Baseline and Advanced &  0.714187 &  0.778491 &   0.714187 &  0.714187 \\\\\n",
      "6 &  Baseline, Advanced, and Fourier &  0.746736 &  0.808812 &   0.746736 &  0.746736 \\\\\n",
      "\\bottomrule\n",
      "\\end{tabular}\n",
      "\n"
     ]
    },
    {
     "data": {
      "text/html": [
       "<div>\n",
       "<style scoped>\n",
       "    .dataframe tbody tr th:only-of-type {\n",
       "        vertical-align: middle;\n",
       "    }\n",
       "\n",
       "    .dataframe tbody tr th {\n",
       "        vertical-align: top;\n",
       "    }\n",
       "\n",
       "    .dataframe thead th {\n",
       "        text-align: right;\n",
       "    }\n",
       "</style>\n",
       "<table border=\"1\" class=\"dataframe\">\n",
       "  <thead>\n",
       "    <tr style=\"text-align: right;\">\n",
       "      <th></th>\n",
       "      <th>run</th>\n",
       "      <th>accuracy</th>\n",
       "      <th>f1</th>\n",
       "      <th>precision</th>\n",
       "      <th>recall</th>\n",
       "    </tr>\n",
       "  </thead>\n",
       "  <tbody>\n",
       "    <tr>\n",
       "      <th>0</th>\n",
       "      <td>Baseline only</td>\n",
       "      <td>0.699596</td>\n",
       "      <td>0.794718</td>\n",
       "      <td>0.699596</td>\n",
       "      <td>0.699596</td>\n",
       "    </tr>\n",
       "    <tr>\n",
       "      <th>1</th>\n",
       "      <td>Advanced only</td>\n",
       "      <td>0.710483</td>\n",
       "      <td>0.774114</td>\n",
       "      <td>0.710483</td>\n",
       "      <td>0.710483</td>\n",
       "    </tr>\n",
       "    <tr>\n",
       "      <th>2</th>\n",
       "      <td>Fourier only</td>\n",
       "      <td>0.707808</td>\n",
       "      <td>0.788748</td>\n",
       "      <td>0.707808</td>\n",
       "      <td>0.707808</td>\n",
       "    </tr>\n",
       "    <tr>\n",
       "      <th>3</th>\n",
       "      <td>Baseline and Fourier</td>\n",
       "      <td>0.736971</td>\n",
       "      <td>0.811350</td>\n",
       "      <td>0.736971</td>\n",
       "      <td>0.736971</td>\n",
       "    </tr>\n",
       "    <tr>\n",
       "      <th>4</th>\n",
       "      <td>Advanced and Fourier</td>\n",
       "      <td>0.747110</td>\n",
       "      <td>0.808353</td>\n",
       "      <td>0.747110</td>\n",
       "      <td>0.747110</td>\n",
       "    </tr>\n",
       "    <tr>\n",
       "      <th>5</th>\n",
       "      <td>Baseline and Advanced</td>\n",
       "      <td>0.714187</td>\n",
       "      <td>0.778491</td>\n",
       "      <td>0.714187</td>\n",
       "      <td>0.714187</td>\n",
       "    </tr>\n",
       "    <tr>\n",
       "      <th>6</th>\n",
       "      <td>Baseline, Advanced, and Fourier</td>\n",
       "      <td>0.746736</td>\n",
       "      <td>0.808812</td>\n",
       "      <td>0.746736</td>\n",
       "      <td>0.746736</td>\n",
       "    </tr>\n",
       "  </tbody>\n",
       "</table>\n",
       "</div>"
      ],
      "text/plain": [
       "                               run  accuracy        f1  precision    recall\n",
       "0                    Baseline only  0.699596  0.794718   0.699596  0.699596\n",
       "1                    Advanced only  0.710483  0.774114   0.710483  0.710483\n",
       "2                     Fourier only  0.707808  0.788748   0.707808  0.707808\n",
       "3             Baseline and Fourier  0.736971  0.811350   0.736971  0.736971\n",
       "4             Advanced and Fourier  0.747110  0.808353   0.747110  0.747110\n",
       "5            Baseline and Advanced  0.714187  0.778491   0.714187  0.714187\n",
       "6  Baseline, Advanced, and Fourier  0.746736  0.808812   0.746736  0.746736"
      ]
     },
     "execution_count": 8,
     "metadata": {},
     "output_type": "execute_result"
    }
   ],
   "source": [
    "lr_gen = lambda: LogisticRegression(n_jobs=8, \\\n",
    "                        solver='saga', \\\n",
    "                        random_state=42, \\\n",
    "                        max_iter=3000, \\\n",
    "                        multi_class='ovr')\n",
    "lr_result = run_cross_validated(nrdf.copy(), rdf.copy(), lr_gen,  n_splits=5)\n",
    "lr_summary = format_result(lr_result)\n",
    "\n",
    "lr_result.to_csv(\"lr_result.csv\")\n",
    "lr_summary.to_csv(\"lr_summary.csv\")\n",
    "\n",
    "print(lr_summary.to_latex())\n",
    "lr_summary"
   ]
  },
  {
   "cell_type": "code",
   "execution_count": 9,
   "id": "5fb85abf",
   "metadata": {},
   "outputs": [
    {
     "data": {
      "text/html": [
       "<div>\n",
       "<style scoped>\n",
       "    .dataframe tbody tr th:only-of-type {\n",
       "        vertical-align: middle;\n",
       "    }\n",
       "\n",
       "    .dataframe tbody tr th {\n",
       "        vertical-align: top;\n",
       "    }\n",
       "\n",
       "    .dataframe thead th {\n",
       "        text-align: right;\n",
       "    }\n",
       "</style>\n",
       "<table border=\"1\" class=\"dataframe\">\n",
       "  <thead>\n",
       "    <tr style=\"text-align: right;\">\n",
       "      <th></th>\n",
       "      <th>run</th>\n",
       "      <th>accuracy</th>\n",
       "      <th>f1</th>\n",
       "      <th>precision</th>\n",
       "      <th>recall</th>\n",
       "    </tr>\n",
       "  </thead>\n",
       "  <tbody>\n",
       "    <tr>\n",
       "      <th>0</th>\n",
       "      <td>Baseline only</td>\n",
       "      <td>0.699596</td>\n",
       "      <td>0.794718</td>\n",
       "      <td>0.699596</td>\n",
       "      <td>0.699596</td>\n",
       "    </tr>\n",
       "    <tr>\n",
       "      <th>1</th>\n",
       "      <td>Advanced only</td>\n",
       "      <td>0.710483</td>\n",
       "      <td>0.774114</td>\n",
       "      <td>0.710483</td>\n",
       "      <td>0.710483</td>\n",
       "    </tr>\n",
       "    <tr>\n",
       "      <th>2</th>\n",
       "      <td>Fourier only</td>\n",
       "      <td>0.707808</td>\n",
       "      <td>0.788748</td>\n",
       "      <td>0.707808</td>\n",
       "      <td>0.707808</td>\n",
       "    </tr>\n",
       "    <tr>\n",
       "      <th>3</th>\n",
       "      <td>Baseline and Fourier</td>\n",
       "      <td>0.736971</td>\n",
       "      <td>0.811350</td>\n",
       "      <td>0.736971</td>\n",
       "      <td>0.736971</td>\n",
       "    </tr>\n",
       "    <tr>\n",
       "      <th>4</th>\n",
       "      <td>Advanced and Fourier</td>\n",
       "      <td>0.747110</td>\n",
       "      <td>0.808353</td>\n",
       "      <td>0.747110</td>\n",
       "      <td>0.747110</td>\n",
       "    </tr>\n",
       "    <tr>\n",
       "      <th>5</th>\n",
       "      <td>Baseline and Advanced</td>\n",
       "      <td>0.714187</td>\n",
       "      <td>0.778491</td>\n",
       "      <td>0.714187</td>\n",
       "      <td>0.714187</td>\n",
       "    </tr>\n",
       "    <tr>\n",
       "      <th>6</th>\n",
       "      <td>Baseline, Advanced, and Fourier</td>\n",
       "      <td>0.746736</td>\n",
       "      <td>0.808812</td>\n",
       "      <td>0.746736</td>\n",
       "      <td>0.746736</td>\n",
       "    </tr>\n",
       "  </tbody>\n",
       "</table>\n",
       "</div>"
      ],
      "text/plain": [
       "                               run  accuracy        f1  precision    recall\n",
       "0                    Baseline only  0.699596  0.794718   0.699596  0.699596\n",
       "1                    Advanced only  0.710483  0.774114   0.710483  0.710483\n",
       "2                     Fourier only  0.707808  0.788748   0.707808  0.707808\n",
       "3             Baseline and Fourier  0.736971  0.811350   0.736971  0.736971\n",
       "4             Advanced and Fourier  0.747110  0.808353   0.747110  0.747110\n",
       "5            Baseline and Advanced  0.714187  0.778491   0.714187  0.714187\n",
       "6  Baseline, Advanced, and Fourier  0.746736  0.808812   0.746736  0.746736"
      ]
     },
     "execution_count": 9,
     "metadata": {},
     "output_type": "execute_result"
    }
   ],
   "source": [
    "lr_summary"
   ]
  },
  {
   "cell_type": "code",
   "execution_count": 10,
   "id": "929c2ee9",
   "metadata": {},
   "outputs": [
    {
     "data": {
      "text/html": [
       "<div>\n",
       "<style scoped>\n",
       "    .dataframe tbody tr th:only-of-type {\n",
       "        vertical-align: middle;\n",
       "    }\n",
       "\n",
       "    .dataframe tbody tr th {\n",
       "        vertical-align: top;\n",
       "    }\n",
       "\n",
       "    .dataframe thead th {\n",
       "        text-align: right;\n",
       "    }\n",
       "</style>\n",
       "<table border=\"1\" class=\"dataframe\">\n",
       "  <thead>\n",
       "    <tr style=\"text-align: right;\">\n",
       "      <th></th>\n",
       "      <th>run</th>\n",
       "      <th>accuracy</th>\n",
       "      <th>f1</th>\n",
       "      <th>precision</th>\n",
       "      <th>recall</th>\n",
       "    </tr>\n",
       "  </thead>\n",
       "  <tbody>\n",
       "    <tr>\n",
       "      <th>0</th>\n",
       "      <td>Baseline only</td>\n",
       "      <td>0.699596</td>\n",
       "      <td>0.794718</td>\n",
       "      <td>0.699596</td>\n",
       "      <td>0.699596</td>\n",
       "    </tr>\n",
       "    <tr>\n",
       "      <th>1</th>\n",
       "      <td>Advanced only</td>\n",
       "      <td>0.710483</td>\n",
       "      <td>0.774114</td>\n",
       "      <td>0.710483</td>\n",
       "      <td>0.710483</td>\n",
       "    </tr>\n",
       "    <tr>\n",
       "      <th>2</th>\n",
       "      <td>Fourier only</td>\n",
       "      <td>0.707808</td>\n",
       "      <td>0.788748</td>\n",
       "      <td>0.707808</td>\n",
       "      <td>0.707808</td>\n",
       "    </tr>\n",
       "    <tr>\n",
       "      <th>3</th>\n",
       "      <td>Baseline and Fourier</td>\n",
       "      <td>0.736971</td>\n",
       "      <td>0.811350</td>\n",
       "      <td>0.736971</td>\n",
       "      <td>0.736971</td>\n",
       "    </tr>\n",
       "    <tr>\n",
       "      <th>4</th>\n",
       "      <td>Advanced and Fourier</td>\n",
       "      <td>0.747110</td>\n",
       "      <td>0.808353</td>\n",
       "      <td>0.747110</td>\n",
       "      <td>0.747110</td>\n",
       "    </tr>\n",
       "    <tr>\n",
       "      <th>5</th>\n",
       "      <td>Baseline and Advanced</td>\n",
       "      <td>0.714187</td>\n",
       "      <td>0.778491</td>\n",
       "      <td>0.714187</td>\n",
       "      <td>0.714187</td>\n",
       "    </tr>\n",
       "    <tr>\n",
       "      <th>6</th>\n",
       "      <td>Baseline, Advanced, and Fourier</td>\n",
       "      <td>0.746736</td>\n",
       "      <td>0.808812</td>\n",
       "      <td>0.746736</td>\n",
       "      <td>0.746736</td>\n",
       "    </tr>\n",
       "  </tbody>\n",
       "</table>\n",
       "</div>"
      ],
      "text/plain": [
       "                               run  accuracy        f1  precision    recall\n",
       "0                    Baseline only  0.699596  0.794718   0.699596  0.699596\n",
       "1                    Advanced only  0.710483  0.774114   0.710483  0.710483\n",
       "2                     Fourier only  0.707808  0.788748   0.707808  0.707808\n",
       "3             Baseline and Fourier  0.736971  0.811350   0.736971  0.736971\n",
       "4             Advanced and Fourier  0.747110  0.808353   0.747110  0.747110\n",
       "5            Baseline and Advanced  0.714187  0.778491   0.714187  0.714187\n",
       "6  Baseline, Advanced, and Fourier  0.746736  0.808812   0.746736  0.746736"
      ]
     },
     "execution_count": 10,
     "metadata": {},
     "output_type": "execute_result"
    }
   ],
   "source": [
    "format_result(lr_result)"
   ]
  },
  {
   "cell_type": "code",
   "execution_count": null,
   "id": "088cb922",
   "metadata": {},
   "outputs": [],
   "source": []
  },
  {
   "cell_type": "code",
   "execution_count": null,
   "id": "3b45d2b3",
   "metadata": {},
   "outputs": [],
   "source": []
  }
 ],
 "metadata": {
  "kernelspec": {
   "display_name": "Python 3 (ipykernel)",
   "language": "python",
   "name": "python3"
  },
  "language_info": {
   "codemirror_mode": {
    "name": "ipython",
    "version": 3
   },
   "file_extension": ".py",
   "mimetype": "text/x-python",
   "name": "python",
   "nbconvert_exporter": "python",
   "pygments_lexer": "ipython3",
   "version": "3.9.7"
  }
 },
 "nbformat": 4,
 "nbformat_minor": 5
}
