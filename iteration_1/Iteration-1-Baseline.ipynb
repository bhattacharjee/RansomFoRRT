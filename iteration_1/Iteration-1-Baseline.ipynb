{
 "cells": [
  {
   "cell_type": "code",
   "execution_count": 1,
   "id": "2ea20739",
   "metadata": {},
   "outputs": [],
   "source": [
    "import pandas as pd\n",
    "import matplotlib.pyplot as plt\n",
    "import glob\n",
    "\n",
    "import sklearn\n",
    "from sklearn.model_selection import train_test_split\n",
    "\n",
    "from sklearn.pipeline import Pipeline\n",
    "import numpy as np\n",
    "\n",
    "from sklearn.linear_model import LogisticRegression\n",
    "from sklearn.ensemble import RandomForestClassifier\n",
    "\n",
    "from sklearn.preprocessing import StandardScaler\n",
    "from sklearn.metrics import precision_recall_fscore_support\n",
    "from sklearn.metrics import f1_score"
   ]
  },
  {
   "cell_type": "code",
   "execution_count": 2,
   "id": "741e859a",
   "metadata": {},
   "outputs": [],
   "source": [
    "ENCRYPTED_DIRECTORY = \"data/govdocs_encrypted\"\n",
    "PLAINTEXT_DIRECTORY = \"data/govdocs_plaintext\""
   ]
  },
  {
   "cell_type": "code",
   "execution_count": 3,
   "id": "d9ca46f4",
   "metadata": {},
   "outputs": [
    {
     "name": "stdout",
     "output_type": "stream",
     "text": [
      "(154849, 19)\n",
      "Index(['extended.extension', 'baseline.head_shannon_entropy',\n",
      "       'baseline.tail_shannon_entropy', 'baseline.shannon_entropy',\n",
      "       'baseline.montecarlo_pi', 'baseline.chisquare_full',\n",
      "       'baseline.chisquare_begin', 'baseline.chisquare_end',\n",
      "       'baseline.autocorrelation_full', 'baseline.autocorrelation_begin',\n",
      "       'baseline.autocorrelation_end', 'baseline.filesize',\n",
      "       'advanced.kurtosis_full', 'advanced.kurtosis_end',\n",
      "       'advanced.kurtosis_begin', 'advanced.skew_full', 'advanced.skew_begin',\n",
      "       'advanced.skew_end', 'is_encrypted'],\n",
      "      dtype='object')\n"
     ]
    }
   ],
   "source": [
    "def load_data(directory):\n",
    "    dataframes = list()\n",
    "    for f in glob.glob(f\"{directory}/**.parquet.gzip\"):\n",
    "        df = pd.read_parquet(f)\n",
    "        dataframes.append(df)\n",
    "    return pd.concat(dataframes)\n",
    "\n",
    "df_plaintext = load_data(PLAINTEXT_DIRECTORY)\n",
    "df_plaintext[\"is_encrypted\"] = 0\n",
    "df_encrypted = load_data(ENCRYPTED_DIRECTORY)\n",
    "df_encrypted[\"is_encrypted\"] = 1\n",
    "\n",
    "master_df = pd.concat([df_plaintext, df_encrypted])\n",
    "\n",
    "# Filter out only webp\n",
    "#master_df = master_df[master_df['extended.extension'] == '.webp']\n",
    "#print(\"only webp: \", master_df.shape)\n",
    "\n",
    "# Shuffle\n",
    "master_df = master_df.sample(frac=1).reset_index(drop=True)\n",
    "\n",
    "# fill Nan with 0\n",
    "master_df['baseline.chisquare_end'] = master_df['baseline.chisquare_end'].fillna(0.0)\n",
    "master_df.dropna(inplace=True)\n",
    "\n",
    "print(master_df.shape)\n",
    "print(master_df.columns)\n"
   ]
  },
  {
   "cell_type": "code",
   "execution_count": 4,
   "id": "6affeb33",
   "metadata": {},
   "outputs": [],
   "source": [
    "#columns_to_consider = [c for c in master_df.columns]\n",
    "columns_to_consider = [c for c in master_df.columns if c.startswith(\"baseline\")]\n",
    "columns_to_consider.append('is_encrypted')\n",
    "#columns_to_consider = [c for c in master_df.columns if c != 'extended.extension']\n",
    "\n",
    "\n",
    "interesting_df = master_df[columns_to_consider]\n",
    "\n",
    "X = interesting_df[[c for c in interesting_df.columns if c.startswith('baseline')]]\n",
    "X = interesting_df[[c for c in interesting_df.columns if c != 'is_encrypted']]\n",
    "X = X[[c for c in X.columns if c != 'is_encrypted']]\n",
    "\n",
    "y = interesting_df['is_encrypted']\n",
    "X_train, X_test, y_train, y_test = train_test_split(X, y, test_size=0.33, random_state=42)"
   ]
  },
  {
   "cell_type": "code",
   "execution_count": 5,
   "id": "65df7180",
   "metadata": {},
   "outputs": [
    {
     "name": "stdout",
     "output_type": "stream",
     "text": [
      "[0.7280643  0.78222644] [0.78761774 0.72169542] [0.75667105 0.75074278] [24842 26259]\n",
      "F1 = 0.7507427801766827\n"
     ]
    }
   ],
   "source": [
    "estimators = [('std,', StandardScaler()), ('LogisticRegressor', LogisticRegression())]\n",
    "estimators = [('std,', StandardScaler()), ('RFC', RandomForestClassifier())]\n",
    "pipeline = Pipeline(estimators)\n",
    "pipeline.fit(X_train, y_train)\n",
    "y_pred = pipeline.predict(X_test)\n",
    "precision, recall, fscore, support = precision_recall_fscore_support(y_test, y_pred)\n",
    "print(precision, recall, fscore, support)\n",
    "print(f\"F1 = {f1_score(y_test, y_pred)}\")"
   ]
  },
  {
   "cell_type": "code",
   "execution_count": 6,
   "id": "11f4a430",
   "metadata": {},
   "outputs": [
    {
     "name": "stdout",
     "output_type": "stream",
     "text": [
      "                                   count          mean           std  \\\n",
      "baseline.head_shannon_entropy   103748.0  6.130503e+00  1.433917e+00   \n",
      "baseline.tail_shannon_entropy   103748.0  6.235085e+00  1.533775e+00   \n",
      "baseline.shannon_entropy        103748.0  7.345662e+00  1.263632e+00   \n",
      "baseline.montecarlo_pi          103748.0  3.111838e+00  4.150980e-01   \n",
      "baseline.chisquare_full         103748.0  1.344052e+07  7.722609e+07   \n",
      "baseline.chisquare_begin        103748.0  5.878226e+03  3.446648e+03   \n",
      "baseline.chisquare_end          103748.0  5.333473e+03  3.836814e+03   \n",
      "baseline.autocorrelation_full   103748.0  9.596022e-02  1.771501e-01   \n",
      "baseline.autocorrelation_begin  103748.0  2.126721e-01  2.527107e-01   \n",
      "baseline.autocorrelation_end    103748.0  1.373303e-01  2.387487e-01   \n",
      "baseline.filesize               103748.0  3.216961e+05  1.677556e+06   \n",
      "\n",
      "                                      min            25%           50%  \\\n",
      "baseline.head_shannon_entropy    0.116115       5.188624  6.939475e+00   \n",
      "baseline.tail_shannon_entropy    0.073484       5.064316  7.123883e+00   \n",
      "baseline.shannon_entropy         0.551224       7.710544  7.977041e+00   \n",
      "baseline.montecarlo_pi           0.000000       3.119198  3.133982e+00   \n",
      "baseline.chisquare_full         33.456250  364274.804796  1.550774e+06   \n",
      "baseline.chisquare_begin         6.559264    4511.722750  5.674148e+03   \n",
      "baseline.chisquare_end           0.011490    3678.813432  5.412560e+03   \n",
      "baseline.autocorrelation_full   -0.798039      -0.000453  5.354787e-03   \n",
      "baseline.autocorrelation_begin  -0.943427       0.011806  1.454878e-01   \n",
      "baseline.autocorrelation_end    -1.000000      -0.027897  6.075268e-02   \n",
      "baseline.filesize                7.000000   11665.750000  3.993600e+04   \n",
      "\n",
      "                                         75%           max  \n",
      "baseline.head_shannon_entropy   7.156122e+00  7.378677e+00  \n",
      "baseline.tail_shannon_entropy   7.184233e+00  7.383782e+00  \n",
      "baseline.shannon_entropy        7.996516e+00  7.999999e+00  \n",
      "baseline.montecarlo_pi          3.167978e+00  4.000000e+00  \n",
      "baseline.chisquare_full         6.391375e+06  8.698026e+09  \n",
      "baseline.chisquare_begin        6.639400e+03  2.420884e+04  \n",
      "baseline.chisquare_end          6.016037e+03  2.993180e+04  \n",
      "baseline.autocorrelation_full   1.137241e-01  9.862110e-01  \n",
      "baseline.autocorrelation_begin  4.333603e-01  9.400377e-01  \n",
      "baseline.autocorrelation_end    2.724231e-01  9.998461e-01  \n",
      "baseline.filesize               1.542330e+05  1.758894e+08  \n"
     ]
    }
   ],
   "source": [
    "#df1 = master_df[X_train.isna().any(axis=1)]\n",
    "#print(df1)\n",
    "print(X_train.describe().T)"
   ]
  },
  {
   "cell_type": "code",
   "execution_count": null,
   "id": "f3d87b3b",
   "metadata": {},
   "outputs": [],
   "source": []
  },
  {
   "cell_type": "code",
   "execution_count": null,
   "id": "a837d401",
   "metadata": {},
   "outputs": [],
   "source": []
  }
 ],
 "metadata": {
  "kernelspec": {
   "display_name": "Python 3 (ipykernel)",
   "language": "python",
   "name": "python3"
  },
  "language_info": {
   "codemirror_mode": {
    "name": "ipython",
    "version": 3
   },
   "file_extension": ".py",
   "mimetype": "text/x-python",
   "name": "python",
   "nbconvert_exporter": "python",
   "pygments_lexer": "ipython3",
   "version": "3.9.7"
  }
 },
 "nbformat": 4,
 "nbformat_minor": 5
}
