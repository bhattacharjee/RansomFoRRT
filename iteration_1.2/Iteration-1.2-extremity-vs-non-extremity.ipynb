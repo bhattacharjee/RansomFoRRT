{
 "cells": [
  {
   "cell_type": "code",
   "execution_count": 1,
   "id": "2ea20739",
   "metadata": {},
   "outputs": [],
   "source": [
    "import pandas as pd\n",
    "import matplotlib.pyplot as plt\n",
    "import glob\n",
    "\n",
    "import sklearn\n",
    "from sklearn.model_selection import train_test_split\n",
    "\n",
    "from sklearn.pipeline import Pipeline\n",
    "import numpy as np\n",
    "\n",
    "from sklearn.linear_model import LogisticRegression\n",
    "from sklearn.ensemble import RandomForestClassifier\n",
    "\n",
    "from sklearn.preprocessing import StandardScaler, MinMaxScaler\n",
    "from sklearn.metrics import precision_recall_fscore_support, accuracy_score, recall_score, precision_score\n",
    "from sklearn.metrics import f1_score"
   ]
  },
  {
   "cell_type": "code",
   "execution_count": 2,
   "id": "2f716a1f",
   "metadata": {},
   "outputs": [],
   "source": [
    "ENCRYPTED_DIRECTORY = \"data/govdocs_encrypted\"\n",
    "PLAINTEXT_DIRECTORY = \"data/govdocs_plaintext\""
   ]
  },
  {
   "cell_type": "code",
   "execution_count": 3,
   "id": "1205a1d3",
   "metadata": {},
   "outputs": [
    {
     "name": "stderr",
     "output_type": "stream",
     "text": [
      "/var/folders/z1/hfz3q2b52bx3hb8nh0z1q89c0000gp/T/ipykernel_26104/3076509417.py:9: PerformanceWarning: DataFrame is highly fragmented.  This is usually the result of calling `frame.insert` many times, which has poor performance.  Consider joining all columns at once using pd.concat(axis=1) instead.  To get a de-fragmented frame, use `newframe = frame.copy()`\n",
      "  df_plaintext[\"is_encrypted\"] = 0\n",
      "/var/folders/z1/hfz3q2b52bx3hb8nh0z1q89c0000gp/T/ipykernel_26104/3076509417.py:11: PerformanceWarning: DataFrame is highly fragmented.  This is usually the result of calling `frame.insert` many times, which has poor performance.  Consider joining all columns at once using pd.concat(axis=1) instead.  To get a de-fragmented frame, use `newframe = frame.copy()`\n",
      "  df_encrypted[\"is_encrypted\"] = 1\n"
     ]
    },
    {
     "name": "stdout",
     "output_type": "stream",
     "text": [
      "only webp:  (160507, 528)\n",
      "greater than 4096:  (160507, 528)\n"
     ]
    }
   ],
   "source": [
    "def load_data(directory):\n",
    "    dataframes = list()\n",
    "    for f in glob.glob(f\"{directory}/**.csv.gz\"):\n",
    "        df = pd.read_csv(f)\n",
    "        dataframes.append(df)\n",
    "    return pd.concat(dataframes)\n",
    "\n",
    "df_plaintext = load_data(PLAINTEXT_DIRECTORY)\n",
    "df_plaintext[\"is_encrypted\"] = 0\n",
    "df_encrypted = load_data(ENCRYPTED_DIRECTORY)\n",
    "df_encrypted[\"is_encrypted\"] = 1\n",
    "\n",
    "master_df = pd.concat([df_plaintext, df_encrypted])\n",
    "\n",
    "# Filter out only webp\n",
    "# master_df = master_df[master_df['extended.extension'] != '.webp']\n",
    "print(\"only webp: \", master_df.shape)\n",
    "\n",
    "# Filter out files which are larger than 4k\n",
    "#master_df = master_df[master_df['baseline.filesize'] > 4096]\n",
    "print(\"greater than 4096: \", master_df.shape)\n",
    "\n",
    "# Shuffle\n",
    "master_df = master_df.sample(frac=1).reset_index(drop=True)\n",
    "\n",
    "# fill Nan with 0\n",
    "master_df['baseline.chisquare_end'] = master_df['baseline.chisquare_end'].fillna(0.0)\n",
    "master_df.dropna(inplace=True)\n",
    "master_df = master_df.copy()\n",
    "\n",
    "baseline_columns = [c for c in master_df.columns if \"baseline\" in c.lower() and \"filesize\" not in c.lower()]\n",
    "advanced_columns = [c for c in master_df.columns if \"kurtosis\" in c.lower() or \"skew\" in c.lower()]"
   ]
  },
  {
   "cell_type": "code",
   "execution_count": 5,
   "id": "927e73f7",
   "metadata": {},
   "outputs": [
    {
     "name": "stdout",
     "output_type": "stream",
     "text": [
      "Precision : 0.6132179675994109\n",
      "Recall    : 0.8992980561555075\n",
      "Accuracy  : 0.6692955487234327\n",
      "F1-score  : 0.7292031523642732\n"
     ]
    }
   ],
   "source": [
    "#columns_to_consider = [c for c in master_df.columns]\n",
    "#columns_to_consider = [c for c in master_df.columns if c.startswith(\"baseline\")]\n",
    "#columns_to_consider.append('is_encrypted')\n",
    "columns_to_consider = [c for c in master_df.columns if c != 'extended.extension']\n",
    "\n",
    "\n",
    "interesting_df = master_df[columns_to_consider]\n",
    "\n",
    "X = interesting_df[[c for c in interesting_df.columns if c.startswith('baseline')]]\n",
    "X = interesting_df[[c for c in interesting_df.columns if c != 'is_encrypted']]\n",
    "X = X[[c for c in X.columns if c != 'is_encrypted']]\n",
    "X = X[baseline_columns + advanced_columns]\n",
    "\n",
    "# get rid of tail and head metrics\n",
    "X = X[[c for c in X.columns if \"begin\" not in c and \"head\" not in c]]\n",
    "X = X[[c for c in X.columns if \"tail\" not in c and \"end\" not in c]]\n",
    "\n",
    "X = X[[c for c in X.columns if \"kurtosis\" not in c and \"skew\" not in c]]\n",
    "\n",
    "y = interesting_df['is_encrypted']\n",
    "X_train, X_test, y_train, y_test = train_test_split(X, y, test_size=0.10, random_state=42)\n",
    "\n",
    "# ---------------------------------------------------------------\n",
    "\n",
    "rfc = RandomForestClassifier(n_jobs=-1)\n",
    "estimators = [('std,', MinMaxScaler()), ('LogisticRegressor', LogisticRegression(n_jobs=10, max_iter=1000))]\n",
    "pipeline = Pipeline(estimators)\n",
    "pipeline.fit(X_train, y_train)\n",
    "y_pred = pipeline.predict(X_test)\n",
    "precision, recall, fscore, support = precision_recall_fscore_support(y_test, y_pred)\n",
    "f1 = f1_score(y_test, y_pred)\n",
    "precision = precision_score(y_test, y_pred)\n",
    "recall = recall_score(y_test, y_pred)\n",
    "accuracy = accuracy_score(y_test, y_pred)\n",
    "\n",
    "print(f\"Precision : {precision}\")\n",
    "print(f\"Recall    : {recall}\")\n",
    "print(f\"Accuracy  : {accuracy}\")\n",
    "print(f\"F1-score  : {f1}\")\n",
    "\n",
    "df_json = {\n",
    "    \"Extremities_Measured_Separately\": [],\n",
    "    \"Algorithm\": [],\n",
    "    \"Accuracy\": [],\n",
    "    \"Precision\": [],\n",
    "    \"Recall\": [],\n",
    "    \"F1\": []\n",
    "}\n",
    "\n",
    "df_json[\"Extremities_Measured_Separately\"].append(\"NO\")\n",
    "df_json[\"Algorithm\"].append(\"Logistic Regression\")\n",
    "df_json[\"Accuracy\"].append(accuracy)\n",
    "df_json[\"Precision\"].append(precision)\n",
    "df_json[\"Recall\"].append(recall)\n",
    "df_json[\"F1\"].append(f1)"
   ]
  },
  {
   "cell_type": "markdown",
   "id": "a4b8307d-be7e-4159-83a4-e0d379746d63",
   "metadata": {},
   "source": [
    "## Now try the same thing with extremity measurements separately"
   ]
  },
  {
   "cell_type": "code",
   "execution_count": 7,
   "id": "19f1da3e-1ef2-445b-af14-7984fbed9189",
   "metadata": {},
   "outputs": [
    {
     "name": "stdout",
     "output_type": "stream",
     "text": [
      "Precision : 0.7288653733098177\n",
      "Recall    : 0.8367980561555075\n",
      "Accuracy  : 0.7650715145034086\n",
      "F1-score  : 0.7791114183372085\n"
     ]
    }
   ],
   "source": [
    "columns_to_consider = [c for c in master_df.columns if c != 'extended.extension']\n",
    "\n",
    "interesting_df = master_df[columns_to_consider]\n",
    "\n",
    "X = interesting_df[[c for c in interesting_df.columns if c.startswith('baseline')]]\n",
    "X = interesting_df[[c for c in interesting_df.columns if c != 'is_encrypted']]\n",
    "X = X[baseline_columns + advanced_columns]\n",
    "\n",
    "X = X[[c for c in X.columns if c != 'is_encrypted']]\n",
    "\n",
    "# get rid of tail and head metrics\n",
    "# X = X[[c for c in X.columns if \"begin\" not in c and \"head\" not in c]]\n",
    "# X = X[[c for c in X.columns if \"tail\" not in c and \"end\" not in c]]\n",
    "\n",
    "X = X[[c for c in X.columns if \"kurtosis\" not in c and \"skew\" not in c]]\n",
    "\n",
    "y = interesting_df['is_encrypted']\n",
    "X_train, X_test, y_train, y_test = train_test_split(X, y, test_size=0.10, random_state=42)\n",
    "\n",
    "rfc = RandomForestClassifier(n_jobs=-1)\n",
    "estimators = [('std,', MinMaxScaler()), ('LogisticRegressor', LogisticRegression(n_jobs=10,  max_iter=1000))]\n",
    "pipeline = Pipeline(estimators)\n",
    "pipeline.fit(X_train, y_train)\n",
    "y_pred = pipeline.predict(X_test)\n",
    "precision, recall, fscore, support = precision_recall_fscore_support(y_test, y_pred)\n",
    "f1 = f1_score(y_test, y_pred)\n",
    "precision = precision_score(y_test, y_pred)\n",
    "recall = recall_score(y_test, y_pred)\n",
    "accuracy = accuracy_score(y_test, y_pred)\n",
    "\n",
    "print(f\"Precision : {precision}\")\n",
    "print(f\"Recall    : {recall}\")\n",
    "print(f\"Accuracy  : {accuracy}\")\n",
    "print(f\"F1-score  : {f1}\")\n",
    "\n",
    "\n",
    "df_json[\"Extremities_Measured_Separately\"].append(\"YES\")\n",
    "df_json[\"Algorithm\"].append(\"Logistic Regression\")\n",
    "df_json[\"Accuracy\"].append(accuracy)\n",
    "df_json[\"Precision\"].append(precision)\n",
    "df_json[\"Recall\"].append(recall)\n",
    "df_json[\"F1\"].append(f1)"
   ]
  },
  {
   "cell_type": "code",
   "execution_count": 8,
   "id": "d5609897-29be-4ae1-a08f-1272222a3960",
   "metadata": {},
   "outputs": [
    {
     "name": "stdout",
     "output_type": "stream",
     "text": [
      "Precision : 0.6343927075634392\n",
      "Recall    : 0.6951943844492441\n",
      "Accuracy  : 0.6507151450340863\n",
      "F1-score  : 0.6634033234574263\n"
     ]
    }
   ],
   "source": [
    "#columns_to_consider = [c for c in master_df.columns]\n",
    "#columns_to_consider = [c for c in master_df.columns if c.startswith(\"baseline\")]\n",
    "#columns_to_consider.append('is_encrypted')\n",
    "columns_to_consider = [c for c in master_df.columns if c != 'extended.extension']\n",
    "\n",
    "\n",
    "interesting_df = master_df[columns_to_consider]\n",
    "\n",
    "X = interesting_df[[c for c in interesting_df.columns if c.startswith('baseline')]]\n",
    "X = interesting_df[[c for c in interesting_df.columns if c != 'is_encrypted']]\n",
    "X = X[baseline_columns + advanced_columns]\n",
    "\n",
    "X = X[[c for c in X.columns if c != 'is_encrypted']]\n",
    "\n",
    "# get rid of tail and head metrics\n",
    "X = X[[c for c in X.columns if \"begin\" not in c and \"head\" not in c]]\n",
    "X = X[[c for c in X.columns if \"tail\" not in c and \"end\" not in c]]\n",
    "\n",
    "X = X[[c for c in X.columns if \"kurtosis\" not in c and \"skew\" not in c]]\n",
    "\n",
    "y = interesting_df['is_encrypted']\n",
    "X_train, X_test, y_train, y_test = train_test_split(X, y, test_size=0.10, random_state=42)\n",
    "\n",
    "# -----------------------------------\n",
    "\n",
    "\n",
    "rfc = RandomForestClassifier(n_jobs=-1)\n",
    "estimators = [('std,', MinMaxScaler()), ('RFC', rfc)]\n",
    "pipeline = Pipeline(estimators)\n",
    "pipeline.fit(X_train, y_train)\n",
    "y_pred = pipeline.predict(X_test)\n",
    "precision, recall, fscore, support = precision_recall_fscore_support(y_test, y_pred)\n",
    "f1 = f1_score(y_test, y_pred)\n",
    "precision = precision_score(y_test, y_pred)\n",
    "recall = recall_score(y_test, y_pred)\n",
    "accuracy = accuracy_score(y_test, y_pred)\n",
    "\n",
    "print(f\"Precision : {precision}\")\n",
    "print(f\"Recall    : {recall}\")\n",
    "print(f\"Accuracy  : {accuracy}\")\n",
    "print(f\"F1-score  : {f1}\")\n",
    "\n",
    "df_json[\"Extremities_Measured_Separately\"].append(\"NO\")\n",
    "df_json[\"Algorithm\"].append(\"Random Forest\")\n",
    "df_json[\"Accuracy\"].append(accuracy)\n",
    "df_json[\"Precision\"].append(precision)\n",
    "df_json[\"Recall\"].append(recall)\n",
    "df_json[\"F1\"].append(f1)"
   ]
  },
  {
   "cell_type": "code",
   "execution_count": 9,
   "id": "5e39d2e2-63d3-4136-9f56-b48b400ab343",
   "metadata": {},
   "outputs": [
    {
     "data": {
      "text/plain": [
       "<BarContainer object of 4 artists>"
      ]
     },
     "execution_count": 9,
     "metadata": {},
     "output_type": "execute_result"
    },
    {
     "data": {
      "image/png": "[encoded data removed]",
      "text/plain": [
       "<Figure size 720x360 with 1 Axes>"
      ]
     },
     "metadata": {
      "needs_background": "light"
     },
     "output_type": "display_data"
    }
   ],
   "source": [
    "plt.rcParams[\"figure.figsize\"] = (10,5)\n",
    "\n",
    "columns = np.array([c for c in X_train.columns])\n",
    "sort_array = np.argsort(rfc.feature_importances_)\n",
    "      \n",
    "plt.barh(X_train.columns[sort_array], rfc.feature_importances_[sort_array])"
   ]
  },
  {
   "cell_type": "code",
   "execution_count": 10,
   "id": "ea42049b-2f85-4d92-a7f2-95a1ecb6c1a3",
   "metadata": {},
   "outputs": [
    {
     "name": "stdout",
     "output_type": "stream",
     "text": [
      "Precision : 0.7494177284559529\n",
      "Recall    : 0.7383909287257019\n",
      "Accuracy  : 0.7482288464109076\n",
      "F1-score  : 0.7438634663765554\n"
     ]
    }
   ],
   "source": [
    "#columns_to_consider = [c for c in master_df.columns]\n",
    "#columns_to_consider = [c for c in master_df.columns if c.startswith(\"baseline\")]\n",
    "#columns_to_consider.append('is_encrypted')\n",
    "columns_to_consider = [c for c in master_df.columns if c != 'extended.extension']\n",
    "\n",
    "\n",
    "interesting_df = master_df[columns_to_consider]\n",
    "\n",
    "X = interesting_df[[c for c in interesting_df.columns if c.startswith('baseline')]]\n",
    "X = interesting_df[[c for c in interesting_df.columns if c != 'is_encrypted']]\n",
    "X = X[baseline_columns + advanced_columns]\n",
    "\n",
    "\n",
    "X = X[[c for c in X.columns if c != 'is_encrypted']]\n",
    "\n",
    "# get rid of tail and head metrics\n",
    "#X = X[[c for c in X.columns if \"begin\" not in c and \"head\" not in c]]\n",
    "#X = X[[c for c in X.columns if \"tail\" not in c and \"end\" not in c]]\n",
    "\n",
    "X = X[[c for c in X.columns if \"kurtosis\" not in c and \"skew\" not in c]]\n",
    "\n",
    "y = interesting_df['is_encrypted']\n",
    "X_train, X_test, y_train, y_test = train_test_split(X, y, test_size=0.10, random_state=42)\n",
    "\n",
    "# -----------------------------------\n",
    "\n",
    "\n",
    "rfc = RandomForestClassifier(n_jobs=-1)\n",
    "estimators = [('std,', MinMaxScaler()), ('RFC', rfc)]\n",
    "pipeline = Pipeline(estimators)\n",
    "pipeline.fit(X_train, y_train)\n",
    "y_pred = pipeline.predict(X_test)\n",
    "precision, recall, fscore, support = precision_recall_fscore_support(y_test, y_pred)\n",
    "f1 = f1_score(y_test, y_pred)\n",
    "precision = precision_score(y_test, y_pred)\n",
    "recall = recall_score(y_test, y_pred)\n",
    "accuracy = accuracy_score(y_test, y_pred)\n",
    "\n",
    "print(f\"Precision : {precision}\")\n",
    "print(f\"Recall    : {recall}\")\n",
    "print(f\"Accuracy  : {accuracy}\")\n",
    "print(f\"F1-score  : {f1}\")\n",
    "\n",
    "df_json[\"Extremities_Measured_Separately\"].append(\"YES\")\n",
    "df_json[\"Algorithm\"].append(\"Random Forest\")\n",
    "df_json[\"Accuracy\"].append(accuracy)\n",
    "df_json[\"Precision\"].append(precision)\n",
    "df_json[\"Recall\"].append(recall)\n",
    "df_json[\"F1\"].append(f1)"
   ]
  },
  {
   "cell_type": "code",
   "execution_count": 11,
   "id": "4cf199fc-057c-4a2b-be34-a339a968441d",
   "metadata": {},
   "outputs": [
    {
     "data": {
      "text/plain": [
       "<BarContainer object of 10 artists>"
      ]
     },
     "execution_count": 11,
     "metadata": {},
     "output_type": "execute_result"
    },
    {
     "data": {
      "image/png": "[encoded data removed]",
      "text/plain": [
       "<Figure size 720x360 with 1 Axes>"
      ]
     },
     "metadata": {
      "needs_background": "light"
     },
     "output_type": "display_data"
    }
   ],
   "source": [
    "plt.rcParams[\"figure.figsize\"] = (10,5)\n",
    "\n",
    "columns = np.array([c for c in X_train.columns])\n",
    "sort_array = np.argsort(rfc.feature_importances_)\n",
    "      \n",
    "plt.barh(X_train.columns[sort_array], rfc.feature_importances_[sort_array])"
   ]
  },
  {
   "cell_type": "code",
   "execution_count": 12,
   "id": "dc30997e-4d16-48a3-b473-937deff69c71",
   "metadata": {},
   "outputs": [],
   "source": [
    "df = pd.DataFrame(df_json)\n"
   ]
  },
  {
   "cell_type": "code",
   "execution_count": 13,
   "id": "4bfa6fbe-4af8-400a-a96d-0f1f53d04e5e",
   "metadata": {},
   "outputs": [
    {
     "data": {
      "text/html": [
       "<div>\n",
       "<style scoped>\n",
       "    .dataframe tbody tr th:only-of-type {\n",
       "        vertical-align: middle;\n",
       "    }\n",
       "\n",
       "    .dataframe tbody tr th {\n",
       "        vertical-align: top;\n",
       "    }\n",
       "\n",
       "    .dataframe thead th {\n",
       "        text-align: right;\n",
       "    }\n",
       "</style>\n",
       "<table border=\"1\" class=\"dataframe\">\n",
       "  <thead>\n",
       "    <tr style=\"text-align: right;\">\n",
       "      <th></th>\n",
       "      <th>Extremities_Measured_Separately</th>\n",
       "      <th>Algorithm</th>\n",
       "      <th>Accuracy</th>\n",
       "      <th>Precision</th>\n",
       "      <th>Recall</th>\n",
       "      <th>F1</th>\n",
       "    </tr>\n",
       "  </thead>\n",
       "  <tbody>\n",
       "    <tr>\n",
       "      <th>0</th>\n",
       "      <td>NO</td>\n",
       "      <td>Logistic Regression</td>\n",
       "      <td>0.669296</td>\n",
       "      <td>0.613218</td>\n",
       "      <td>0.899298</td>\n",
       "      <td>0.729203</td>\n",
       "    </tr>\n",
       "    <tr>\n",
       "      <th>1</th>\n",
       "      <td>YES</td>\n",
       "      <td>Logistic Regression</td>\n",
       "      <td>0.765072</td>\n",
       "      <td>0.728865</td>\n",
       "      <td>0.836798</td>\n",
       "      <td>0.779111</td>\n",
       "    </tr>\n",
       "    <tr>\n",
       "      <th>2</th>\n",
       "      <td>NO</td>\n",
       "      <td>Random Forest</td>\n",
       "      <td>0.650715</td>\n",
       "      <td>0.634393</td>\n",
       "      <td>0.695194</td>\n",
       "      <td>0.663403</td>\n",
       "    </tr>\n",
       "    <tr>\n",
       "      <th>3</th>\n",
       "      <td>YES</td>\n",
       "      <td>Random Forest</td>\n",
       "      <td>0.748229</td>\n",
       "      <td>0.749418</td>\n",
       "      <td>0.738391</td>\n",
       "      <td>0.743863</td>\n",
       "    </tr>\n",
       "  </tbody>\n",
       "</table>\n",
       "</div>"
      ],
      "text/plain": [
       "  Extremities_Measured_Separately            Algorithm  Accuracy  Precision  \\\n",
       "0                              NO  Logistic Regression  0.669296   0.613218   \n",
       "1                             YES  Logistic Regression  0.765072   0.728865   \n",
       "2                              NO        Random Forest  0.650715   0.634393   \n",
       "3                             YES        Random Forest  0.748229   0.749418   \n",
       "\n",
       "     Recall        F1  \n",
       "0  0.899298  0.729203  \n",
       "1  0.836798  0.779111  \n",
       "2  0.695194  0.663403  \n",
       "3  0.738391  0.743863  "
      ]
     },
     "execution_count": 13,
     "metadata": {},
     "output_type": "execute_result"
    }
   ],
   "source": [
    "df"
   ]
  },
  {
   "cell_type": "code",
   "execution_count": 14,
   "id": "f5d90d3a-10f3-463d-9dd5-f515f14ed8db",
   "metadata": {},
   "outputs": [
    {
     "name": "stdout",
     "output_type": "stream",
     "text": [
      "\\begin{tabular}{lllrrrr}\n",
      "\\toprule\n",
      "{} & Extremities\\_Measured\\_Separately &            Algorithm &  Accuracy &  Precision &    Recall &        F1 \\\\\n",
      "\\midrule\n",
      "0 &                              NO &  Logistic Regression &  0.669296 &   0.613218 &  0.899298 &  0.729203 \\\\\n",
      "1 &                             YES &  Logistic Regression &  0.765072 &   0.728865 &  0.836798 &  0.779111 \\\\\n",
      "2 &                              NO &        Random Forest &  0.650715 &   0.634393 &  0.695194 &  0.663403 \\\\\n",
      "3 &                             YES &        Random Forest &  0.748229 &   0.749418 &  0.738391 &  0.743863 \\\\\n",
      "\\bottomrule\n",
      "\\end{tabular}\n",
      "\n"
     ]
    }
   ],
   "source": [
    "print(df.to_latex())"
   ]
  },
  {
   "cell_type": "markdown",
   "id": "2719d366-ae5d-4312-b330-80e5e4a1d59b",
   "metadata": {},
   "source": [
    "### Now add kurtosis and skew to the same thing and measure again"
   ]
  },
  {
   "cell_type": "code",
   "execution_count": 15,
   "id": "f4de1b46-0227-46fa-a6d9-18100c407380",
   "metadata": {},
   "outputs": [
    {
     "name": "stdout",
     "output_type": "stream",
     "text": [
      "Precision : 0.6131467501380962\n",
      "Recall    : 0.8990280777537797\n",
      "Accuracy  : 0.6691618767544446\n",
      "F1-score  : 0.7290640394088671\n"
     ]
    }
   ],
   "source": [
    "#columns_to_consider = [c for c in master_df.columns]\n",
    "#columns_to_consider = [c for c in master_df.columns if c.startswith(\"baseline\")]\n",
    "#columns_to_consider.append('is_encrypted')\n",
    "columns_to_consider = [c for c in master_df.columns if c != 'extended.extension']\n",
    "\n",
    "\n",
    "interesting_df = master_df[columns_to_consider]\n",
    "\n",
    "X = interesting_df[[c for c in interesting_df.columns if c.startswith('baseline')]]\n",
    "X = interesting_df[[c for c in interesting_df.columns if c != 'is_encrypted']]\n",
    "X = X[baseline_columns + advanced_columns]\n",
    "\n",
    "\n",
    "X = X[[c for c in X.columns if c != 'is_encrypted']]\n",
    "\n",
    "# get rid of tail and head metrics\n",
    "X = X[[c for c in X.columns if \"begin\" not in c and \"head\" not in c]]\n",
    "X = X[[c for c in X.columns if \"tail\" not in c and \"end\" not in c]]\n",
    "\n",
    "# X = X[[c for c in X.columns if \"kurtosis\" not in c and \"skew\" not in c]]\n",
    "\n",
    "y = interesting_df['is_encrypted']\n",
    "X_train, X_test, y_train, y_test = train_test_split(X, y, test_size=0.10, random_state=42)\n",
    "\n",
    "# ---------------------------------------------------------------\n",
    "\n",
    "rfc = RandomForestClassifier(n_jobs=-1)\n",
    "estimators = [('std,', MinMaxScaler()), ('LogisticRegressor', LogisticRegression(n_jobs=10, max_iter=1000))]\n",
    "pipeline = Pipeline(estimators)\n",
    "pipeline.fit(X_train, y_train)\n",
    "y_pred = pipeline.predict(X_test)\n",
    "precision, recall, fscore, support = precision_recall_fscore_support(y_test, y_pred)\n",
    "f1 = f1_score(y_test, y_pred)\n",
    "precision = precision_score(y_test, y_pred)\n",
    "recall = recall_score(y_test, y_pred)\n",
    "accuracy = accuracy_score(y_test, y_pred)\n",
    "\n",
    "print(f\"Precision : {precision}\")\n",
    "print(f\"Recall    : {recall}\")\n",
    "print(f\"Accuracy  : {accuracy}\")\n",
    "print(f\"F1-score  : {f1}\")\n",
    "\n",
    "df_json2 = {\n",
    "    \"Extremities_Measured_Separately\": [],\n",
    "    \"Algorithm\": [],\n",
    "    \"Accuracy\": [],\n",
    "    \"Precision\": [],\n",
    "    \"Recall\": [],\n",
    "    \"F1\": []\n",
    "}\n",
    "\n",
    "df_json2[\"Extremities_Measured_Separately\"].append(\"NO\")\n",
    "df_json2[\"Algorithm\"].append(\"Logistic Regression\")\n",
    "df_json2[\"Accuracy\"].append(accuracy)\n",
    "df_json2[\"Precision\"].append(precision)\n",
    "df_json2[\"Recall\"].append(recall)\n",
    "df_json2[\"F1\"].append(f1)"
   ]
  },
  {
   "cell_type": "code",
   "execution_count": 16,
   "id": "acfea0e5-1975-4be6-94b8-1d17ee189b7f",
   "metadata": {},
   "outputs": [
    {
     "name": "stdout",
     "output_type": "stream",
     "text": [
      "Precision : 0.7370627695256349\n",
      "Recall    : 0.8305885529157667\n",
      "Accuracy  : 0.769415853495522\n",
      "F1-score  : 0.781035795887281\n"
     ]
    }
   ],
   "source": [
    "#columns_to_consider = [c for c in master_df.columns]\n",
    "#columns_to_consider = [c for c in master_df.columns if c.startswith(\"baseline\")]\n",
    "#columns_to_consider.append('is_encrypted')\n",
    "columns_to_consider = [c for c in master_df.columns if c != 'extended.extension']\n",
    "\n",
    "\n",
    "interesting_df = master_df[columns_to_consider]\n",
    "\n",
    "X = interesting_df[[c for c in interesting_df.columns if c.startswith('baseline')]]\n",
    "X = interesting_df[[c for c in interesting_df.columns if c != 'is_encrypted']]\n",
    "X = X[baseline_columns + advanced_columns]\n",
    "\n",
    "\n",
    "X = X[[c for c in X.columns if c != 'is_encrypted']]\n",
    "\n",
    "# get rid of tail and head metrics\n",
    "# X = X[[c for c in X.columns if \"begin\" not in c and \"head\" not in c]]\n",
    "# X = X[[c for c in X.columns if \"tail\" not in c and \"end\" not in c]]\n",
    "\n",
    "# X = X[[c for c in X.columns if \"kurtosis\" not in c and \"skew\" not in c]]\n",
    "\n",
    "y = interesting_df['is_encrypted']\n",
    "X_train, X_test, y_train, y_test = train_test_split(X, y, test_size=0.10, random_state=42)\n",
    "\n",
    "# ---------------------------------------------------------------\n",
    "\n",
    "rfc = RandomForestClassifier(n_jobs=-1)\n",
    "estimators = [('std,', MinMaxScaler()), ('LogisticRegressor', LogisticRegression(n_jobs=10, max_iter=1000))]\n",
    "#estimators = [('std,', MinMaxScaler()), ('RFC', rfc)]\n",
    "pipeline = Pipeline(estimators)\n",
    "pipeline.fit(X_train, y_train)\n",
    "y_pred = pipeline.predict(X_test)\n",
    "precision, recall, fscore, support = precision_recall_fscore_support(y_test, y_pred)\n",
    "f1 = f1_score(y_test, y_pred)\n",
    "precision = precision_score(y_test, y_pred)\n",
    "recall = recall_score(y_test, y_pred)\n",
    "accuracy = accuracy_score(y_test, y_pred)\n",
    "\n",
    "print(f\"Precision : {precision}\")\n",
    "print(f\"Recall    : {recall}\")\n",
    "print(f\"Accuracy  : {accuracy}\")\n",
    "print(f\"F1-score  : {f1}\")\n",
    "\n",
    "\n",
    "df_json2[\"Extremities_Measured_Separately\"].append(\"YES\")\n",
    "df_json2[\"Algorithm\"].append(\"Logistic Regression\")\n",
    "df_json2[\"Accuracy\"].append(accuracy)\n",
    "df_json2[\"Precision\"].append(precision)\n",
    "df_json2[\"Recall\"].append(recall)\n",
    "df_json2[\"F1\"].append(f1)"
   ]
  },
  {
   "cell_type": "code",
   "execution_count": 17,
   "id": "b6851708-b4a8-4531-868a-1714f5efc8d9",
   "metadata": {},
   "outputs": [
    {
     "name": "stdout",
     "output_type": "stream",
     "text": [
      "Precision : 0.6299686822452422\n",
      "Recall    : 0.7059935205183585\n",
      "Accuracy  : 0.6491110814062291\n",
      "F1-score  : 0.6658179503500955\n"
     ]
    }
   ],
   "source": [
    "#columns_to_consider = [c for c in master_df.columns]\n",
    "#columns_to_consider = [c for c in master_df.columns if c.startswith(\"baseline\")]\n",
    "#columns_to_consider.append('is_encrypted')\n",
    "columns_to_consider = [c for c in master_df.columns if c != 'extended.extension']\n",
    "\n",
    "\n",
    "interesting_df = master_df[columns_to_consider]\n",
    "\n",
    "X = interesting_df[[c for c in interesting_df.columns if c.startswith('baseline')]]\n",
    "X = interesting_df[[c for c in interesting_df.columns if c != 'is_encrypted']]\n",
    "X = X[baseline_columns + advanced_columns]\n",
    "X = X[[c for c in X.columns if c != 'is_encrypted']]\n",
    "\n",
    "# get rid of tail and head metrics\n",
    "X = X[[c for c in X.columns if \"begin\" not in c and \"head\" not in c]]\n",
    "X = X[[c for c in X.columns if \"tail\" not in c and \"end\" not in c]]\n",
    "\n",
    "# X = X[[c for c in X.columns if \"kurtosis\" not in c and \"skew\" not in c]]\n",
    "\n",
    "y = interesting_df['is_encrypted']\n",
    "X_train, X_test, y_train, y_test = train_test_split(X, y, test_size=0.10, random_state=42)\n",
    "\n",
    "# ---------------------------------------------------------------\n",
    "\n",
    "rfc = RandomForestClassifier(n_jobs=-1)\n",
    "#estimators = [('std,', MinMaxScaler()), ('LogisticRegressor', LogisticRegression(n_jobs=10, max_iter=1000))]\n",
    "estimators = [('std,', MinMaxScaler()), ('RFC', rfc)]\n",
    "pipeline = Pipeline(estimators)\n",
    "pipeline.fit(X_train, y_train)\n",
    "y_pred = pipeline.predict(X_test)\n",
    "precision, recall, fscore, support = precision_recall_fscore_support(y_test, y_pred)\n",
    "f1 = f1_score(y_test, y_pred)\n",
    "precision = precision_score(y_test, y_pred)\n",
    "recall = recall_score(y_test, y_pred)\n",
    "accuracy = accuracy_score(y_test, y_pred)\n",
    "\n",
    "print(f\"Precision : {precision}\")\n",
    "print(f\"Recall    : {recall}\")\n",
    "print(f\"Accuracy  : {accuracy}\")\n",
    "print(f\"F1-score  : {f1}\")\n",
    "\n",
    "df_json2[\"Extremities_Measured_Separately\"].append(\"NO\")\n",
    "df_json2[\"Algorithm\"].append(\"Random Forest\")\n",
    "df_json2[\"Accuracy\"].append(accuracy)\n",
    "df_json2[\"Precision\"].append(precision)\n",
    "df_json2[\"Recall\"].append(recall)\n",
    "df_json2[\"F1\"].append(f1)"
   ]
  },
  {
   "cell_type": "code",
   "execution_count": 18,
   "id": "6b5bf012-635c-4443-b02c-49ac8997a5df",
   "metadata": {},
   "outputs": [
    {
     "data": {
      "text/plain": [
       "<BarContainer object of 6 artists>"
      ]
     },
     "execution_count": 18,
     "metadata": {},
     "output_type": "execute_result"
    },
    {
     "data": {
      "image/png": "[encoded data removed]",
      "text/plain": [
       "<Figure size 720x360 with 1 Axes>"
      ]
     },
     "metadata": {
      "needs_background": "light"
     },
     "output_type": "display_data"
    }
   ],
   "source": [
    "plt.rcParams[\"figure.figsize\"] = (10,5)\n",
    "\n",
    "columns = np.array([c for c in X_train.columns])\n",
    "sort_array = np.argsort(rfc.feature_importances_)\n",
    "      \n",
    "plt.barh(X_train.columns[sort_array], rfc.feature_importances_[sort_array])"
   ]
  },
  {
   "cell_type": "code",
   "execution_count": 19,
   "id": "30bdc618-d6a5-4d9e-8d58-70666b6d66a1",
   "metadata": {},
   "outputs": [
    {
     "name": "stdout",
     "output_type": "stream",
     "text": [
      "Precision : 0.7515408848103\n",
      "Recall    : 0.7406857451403888\n",
      "Accuracy  : 0.7503675979147173\n",
      "F1-score  : 0.7460738323475423\n"
     ]
    }
   ],
   "source": [
    "#columns_to_consider = [c for c in master_df.columns]\n",
    "#columns_to_consider = [c for c in master_df.columns if c.startswith(\"baseline\")]\n",
    "#columns_to_consider.append('is_encrypted')\n",
    "columns_to_consider = [c for c in master_df.columns if c != 'extended.extension']\n",
    "\n",
    "\n",
    "interesting_df = master_df[columns_to_consider]\n",
    "\n",
    "X = interesting_df[[c for c in interesting_df.columns if c.startswith('baseline')]]\n",
    "X = interesting_df[[c for c in interesting_df.columns if c != 'is_encrypted']]\n",
    "X = X[baseline_columns + advanced_columns]\n",
    "\n",
    "X = X[[c for c in X.columns if c != 'is_encrypted']]\n",
    "\n",
    "# get rid of tail and head metrics\n",
    "# X = X[[c for c in X.columns if \"begin\" not in c and \"head\" not in c]]\n",
    "# X = X[[c for c in X.columns if \"tail\" not in c and \"end\" not in c]]\n",
    "\n",
    "# X = X[[c for c in X.columns if \"kurtosis\" not in c and \"skew\" not in c]]\n",
    "\n",
    "y = interesting_df['is_encrypted']\n",
    "X_train, X_test, y_train, y_test = train_test_split(X, y, test_size=0.10, random_state=42)\n",
    "\n",
    "# ---------------------------------------------------------------\n",
    "\n",
    "rfc = RandomForestClassifier(n_jobs=-1)\n",
    "#estimators = [('std,', MinMaxScaler()), ('LogisticRegressor', LogisticRegression(n_jobs=10, max_iter=1000))]\n",
    "estimators = [('std,', MinMaxScaler()), ('RFC', rfc)]\n",
    "pipeline = Pipeline(estimators)\n",
    "pipeline.fit(X_train, y_train)\n",
    "y_pred = pipeline.predict(X_test)\n",
    "precision, recall, fscore, support = precision_recall_fscore_support(y_test, y_pred)\n",
    "f1 = f1_score(y_test, y_pred)\n",
    "precision = precision_score(y_test, y_pred)\n",
    "recall = recall_score(y_test, y_pred)\n",
    "accuracy = accuracy_score(y_test, y_pred)\n",
    "\n",
    "print(f\"Precision : {precision}\")\n",
    "print(f\"Recall    : {recall}\")\n",
    "print(f\"Accuracy  : {accuracy}\")\n",
    "print(f\"F1-score  : {f1}\")\n",
    "\n",
    "df_json2[\"Extremities_Measured_Separately\"].append(\"YES\")\n",
    "df_json2[\"Algorithm\"].append(\"Random Forest\")\n",
    "df_json2[\"Accuracy\"].append(accuracy)\n",
    "df_json2[\"Precision\"].append(precision)\n",
    "df_json2[\"Recall\"].append(recall)\n",
    "df_json2[\"F1\"].append(f1)"
   ]
  },
  {
   "cell_type": "code",
   "execution_count": 20,
   "id": "99b18fc2-57ad-4d11-bee1-a7908f96600e",
   "metadata": {},
   "outputs": [
    {
     "data": {
      "text/plain": [
       "<BarContainer object of 16 artists>"
      ]
     },
     "execution_count": 20,
     "metadata": {},
     "output_type": "execute_result"
    },
    {
     "data": {
      "image/png": "[encoded data removed]",
      "text/plain": [
       "<Figure size 720x360 with 1 Axes>"
      ]
     },
     "metadata": {
      "needs_background": "light"
     },
     "output_type": "display_data"
    }
   ],
   "source": [
    "plt.rcParams[\"figure.figsize\"] = (10,5)\n",
    "\n",
    "columns = np.array([c for c in X_train.columns])\n",
    "sort_array = np.argsort(rfc.feature_importances_)\n",
    "      \n",
    "plt.barh(X_train.columns[sort_array], rfc.feature_importances_[sort_array])"
   ]
  },
  {
   "cell_type": "code",
   "execution_count": 21,
   "id": "9182b8b8-1bf9-414c-a074-763bf88c4fc9",
   "metadata": {},
   "outputs": [
    {
     "data": {
      "text/html": [
       "<div>\n",
       "<style scoped>\n",
       "    .dataframe tbody tr th:only-of-type {\n",
       "        vertical-align: middle;\n",
       "    }\n",
       "\n",
       "    .dataframe tbody tr th {\n",
       "        vertical-align: top;\n",
       "    }\n",
       "\n",
       "    .dataframe thead th {\n",
       "        text-align: right;\n",
       "    }\n",
       "</style>\n",
       "<table border=\"1\" class=\"dataframe\">\n",
       "  <thead>\n",
       "    <tr style=\"text-align: right;\">\n",
       "      <th></th>\n",
       "      <th>Extremities_Measured_Separately</th>\n",
       "      <th>Algorithm</th>\n",
       "      <th>Accuracy</th>\n",
       "      <th>Precision</th>\n",
       "      <th>Recall</th>\n",
       "      <th>F1</th>\n",
       "    </tr>\n",
       "  </thead>\n",
       "  <tbody>\n",
       "    <tr>\n",
       "      <th>0</th>\n",
       "      <td>NO</td>\n",
       "      <td>Logistic Regression</td>\n",
       "      <td>0.669162</td>\n",
       "      <td>0.613147</td>\n",
       "      <td>0.899028</td>\n",
       "      <td>0.729064</td>\n",
       "    </tr>\n",
       "    <tr>\n",
       "      <th>1</th>\n",
       "      <td>YES</td>\n",
       "      <td>Logistic Regression</td>\n",
       "      <td>0.769416</td>\n",
       "      <td>0.737063</td>\n",
       "      <td>0.830589</td>\n",
       "      <td>0.781036</td>\n",
       "    </tr>\n",
       "    <tr>\n",
       "      <th>2</th>\n",
       "      <td>NO</td>\n",
       "      <td>Random Forest</td>\n",
       "      <td>0.649111</td>\n",
       "      <td>0.629969</td>\n",
       "      <td>0.705994</td>\n",
       "      <td>0.665818</td>\n",
       "    </tr>\n",
       "    <tr>\n",
       "      <th>3</th>\n",
       "      <td>YES</td>\n",
       "      <td>Random Forest</td>\n",
       "      <td>0.750368</td>\n",
       "      <td>0.751541</td>\n",
       "      <td>0.740686</td>\n",
       "      <td>0.746074</td>\n",
       "    </tr>\n",
       "  </tbody>\n",
       "</table>\n",
       "</div>"
      ],
      "text/plain": [
       "  Extremities_Measured_Separately            Algorithm  Accuracy  Precision  \\\n",
       "0                              NO  Logistic Regression  0.669162   0.613147   \n",
       "1                             YES  Logistic Regression  0.769416   0.737063   \n",
       "2                              NO        Random Forest  0.649111   0.629969   \n",
       "3                             YES        Random Forest  0.750368   0.751541   \n",
       "\n",
       "     Recall        F1  \n",
       "0  0.899028  0.729064  \n",
       "1  0.830589  0.781036  \n",
       "2  0.705994  0.665818  \n",
       "3  0.740686  0.746074  "
      ]
     },
     "execution_count": 21,
     "metadata": {},
     "output_type": "execute_result"
    }
   ],
   "source": [
    "df2 = pd.DataFrame(df_json2)\n",
    "df2"
   ]
  },
  {
   "cell_type": "code",
   "execution_count": 22,
   "id": "e7eee1a1-ebea-4055-adea-da418c74122f",
   "metadata": {},
   "outputs": [
    {
     "name": "stdout",
     "output_type": "stream",
     "text": [
      "\\begin{tabular}{lllrrrr}\n",
      "\\toprule\n",
      "{} & Extremities\\_Measured\\_Separately &            Algorithm &  Accuracy &  Precision &    Recall &        F1 \\\\\n",
      "\\midrule\n",
      "0 &                              NO &  Logistic Regression &  0.669162 &   0.613147 &  0.899028 &  0.729064 \\\\\n",
      "1 &                             YES &  Logistic Regression &  0.769416 &   0.737063 &  0.830589 &  0.781036 \\\\\n",
      "2 &                              NO &        Random Forest &  0.649111 &   0.629969 &  0.705994 &  0.665818 \\\\\n",
      "3 &                             YES &        Random Forest &  0.750368 &   0.751541 &  0.740686 &  0.746074 \\\\\n",
      "\\bottomrule\n",
      "\\end{tabular}\n",
      "\n"
     ]
    }
   ],
   "source": [
    "print(df2.to_latex())"
   ]
  },
  {
   "cell_type": "code",
   "execution_count": 23,
   "id": "38895bac-986c-4fd6-b915-59ab96bc47fb",
   "metadata": {},
   "outputs": [
    {
     "data": {
      "text/html": [
       "<div>\n",
       "<style scoped>\n",
       "    .dataframe tbody tr th:only-of-type {\n",
       "        vertical-align: middle;\n",
       "    }\n",
       "\n",
       "    .dataframe tbody tr th {\n",
       "        vertical-align: top;\n",
       "    }\n",
       "\n",
       "    .dataframe thead th {\n",
       "        text-align: right;\n",
       "    }\n",
       "</style>\n",
       "<table border=\"1\" class=\"dataframe\">\n",
       "  <thead>\n",
       "    <tr style=\"text-align: right;\">\n",
       "      <th></th>\n",
       "      <th>Extremities_Measured_Separately</th>\n",
       "      <th>Algorithm</th>\n",
       "      <th>Accuracy</th>\n",
       "      <th>Precision</th>\n",
       "      <th>Recall</th>\n",
       "      <th>F1</th>\n",
       "    </tr>\n",
       "  </thead>\n",
       "  <tbody>\n",
       "    <tr>\n",
       "      <th>0</th>\n",
       "      <td>NO</td>\n",
       "      <td>Logistic Regression</td>\n",
       "      <td>0.669296</td>\n",
       "      <td>0.613218</td>\n",
       "      <td>0.899298</td>\n",
       "      <td>0.729203</td>\n",
       "    </tr>\n",
       "    <tr>\n",
       "      <th>1</th>\n",
       "      <td>YES</td>\n",
       "      <td>Logistic Regression</td>\n",
       "      <td>0.765072</td>\n",
       "      <td>0.728865</td>\n",
       "      <td>0.836798</td>\n",
       "      <td>0.779111</td>\n",
       "    </tr>\n",
       "    <tr>\n",
       "      <th>2</th>\n",
       "      <td>NO</td>\n",
       "      <td>Random Forest</td>\n",
       "      <td>0.650715</td>\n",
       "      <td>0.634393</td>\n",
       "      <td>0.695194</td>\n",
       "      <td>0.663403</td>\n",
       "    </tr>\n",
       "    <tr>\n",
       "      <th>3</th>\n",
       "      <td>YES</td>\n",
       "      <td>Random Forest</td>\n",
       "      <td>0.748229</td>\n",
       "      <td>0.749418</td>\n",
       "      <td>0.738391</td>\n",
       "      <td>0.743863</td>\n",
       "    </tr>\n",
       "  </tbody>\n",
       "</table>\n",
       "</div>"
      ],
      "text/plain": [
       "  Extremities_Measured_Separately            Algorithm  Accuracy  Precision  \\\n",
       "0                              NO  Logistic Regression  0.669296   0.613218   \n",
       "1                             YES  Logistic Regression  0.765072   0.728865   \n",
       "2                              NO        Random Forest  0.650715   0.634393   \n",
       "3                             YES        Random Forest  0.748229   0.749418   \n",
       "\n",
       "     Recall        F1  \n",
       "0  0.899298  0.729203  \n",
       "1  0.836798  0.779111  \n",
       "2  0.695194  0.663403  \n",
       "3  0.738391  0.743863  "
      ]
     },
     "execution_count": 23,
     "metadata": {},
     "output_type": "execute_result"
    }
   ],
   "source": [
    "df"
   ]
  },
  {
   "cell_type": "code",
   "execution_count": 24,
   "id": "ba09e035-75fd-4c38-a57c-9a8abda7b25f",
   "metadata": {},
   "outputs": [
    {
     "name": "stdout",
     "output_type": "stream",
     "text": [
      "\\begin{tabular}{lllrrrr}\n",
      "\\toprule\n",
      "{} & Extremities\\_Measured\\_Separately &            Algorithm &  Accuracy &  Precision &    Recall &        F1 \\\\\n",
      "\\midrule\n",
      "0 &                              NO &  Logistic Regression &  0.669296 &   0.613218 &  0.899298 &  0.729203 \\\\\n",
      "1 &                             YES &  Logistic Regression &  0.765072 &   0.728865 &  0.836798 &  0.779111 \\\\\n",
      "2 &                              NO &        Random Forest &  0.650715 &   0.634393 &  0.695194 &  0.663403 \\\\\n",
      "3 &                             YES &        Random Forest &  0.748229 &   0.749418 &  0.738391 &  0.743863 \\\\\n",
      "\\bottomrule\n",
      "\\end{tabular}\n",
      "\n"
     ]
    }
   ],
   "source": [
    "print(df.to_latex())"
   ]
  },
  {
   "cell_type": "code",
   "execution_count": 25,
   "id": "0af2f040-403b-4162-8129-ed3657fa0ec2",
   "metadata": {},
   "outputs": [
    {
     "data": {
      "text/html": [
       "<div>\n",
       "<style scoped>\n",
       "    .dataframe tbody tr th:only-of-type {\n",
       "        vertical-align: middle;\n",
       "    }\n",
       "\n",
       "    .dataframe tbody tr th {\n",
       "        vertical-align: top;\n",
       "    }\n",
       "\n",
       "    .dataframe thead th {\n",
       "        text-align: right;\n",
       "    }\n",
       "</style>\n",
       "<table border=\"1\" class=\"dataframe\">\n",
       "  <thead>\n",
       "    <tr style=\"text-align: right;\">\n",
       "      <th></th>\n",
       "      <th>count</th>\n",
       "      <th>mean</th>\n",
       "      <th>std</th>\n",
       "      <th>min</th>\n",
       "      <th>25%</th>\n",
       "      <th>50%</th>\n",
       "      <th>75%</th>\n",
       "      <th>max</th>\n",
       "    </tr>\n",
       "  </thead>\n",
       "  <tbody>\n",
       "    <tr>\n",
       "      <th>Accuracy</th>\n",
       "      <td>4.0</td>\n",
       "      <td>0.709514</td>\n",
       "      <td>0.059257</td>\n",
       "      <td>0.649111</td>\n",
       "      <td>0.664149</td>\n",
       "      <td>0.709765</td>\n",
       "      <td>0.755130</td>\n",
       "      <td>0.769416</td>\n",
       "    </tr>\n",
       "    <tr>\n",
       "      <th>Precision</th>\n",
       "      <td>4.0</td>\n",
       "      <td>0.682930</td>\n",
       "      <td>0.071443</td>\n",
       "      <td>0.613147</td>\n",
       "      <td>0.625763</td>\n",
       "      <td>0.683516</td>\n",
       "      <td>0.740682</td>\n",
       "      <td>0.751541</td>\n",
       "    </tr>\n",
       "    <tr>\n",
       "      <th>Recall</th>\n",
       "      <td>4.0</td>\n",
       "      <td>0.794074</td>\n",
       "      <td>0.087478</td>\n",
       "      <td>0.705994</td>\n",
       "      <td>0.732013</td>\n",
       "      <td>0.785637</td>\n",
       "      <td>0.847698</td>\n",
       "      <td>0.899028</td>\n",
       "    </tr>\n",
       "    <tr>\n",
       "      <th>F1</th>\n",
       "      <td>4.0</td>\n",
       "      <td>0.730498</td>\n",
       "      <td>0.048243</td>\n",
       "      <td>0.665818</td>\n",
       "      <td>0.713253</td>\n",
       "      <td>0.737569</td>\n",
       "      <td>0.754814</td>\n",
       "      <td>0.781036</td>\n",
       "    </tr>\n",
       "  </tbody>\n",
       "</table>\n",
       "</div>"
      ],
      "text/plain": [
       "           count      mean       std       min       25%       50%       75%  \\\n",
       "Accuracy     4.0  0.709514  0.059257  0.649111  0.664149  0.709765  0.755130   \n",
       "Precision    4.0  0.682930  0.071443  0.613147  0.625763  0.683516  0.740682   \n",
       "Recall       4.0  0.794074  0.087478  0.705994  0.732013  0.785637  0.847698   \n",
       "F1           4.0  0.730498  0.048243  0.665818  0.713253  0.737569  0.754814   \n",
       "\n",
       "                max  \n",
       "Accuracy   0.769416  \n",
       "Precision  0.751541  \n",
       "Recall     0.899028  \n",
       "F1         0.781036  "
      ]
     },
     "execution_count": 25,
     "metadata": {},
     "output_type": "execute_result"
    }
   ],
   "source": [
    "df2.describe().T"
   ]
  },
  {
   "cell_type": "code",
   "execution_count": 26,
   "id": "1139a21d-4530-4783-a0a4-f14abae5e8cd",
   "metadata": {},
   "outputs": [
    {
     "data": {
      "text/html": [
       "<div>\n",
       "<style scoped>\n",
       "    .dataframe tbody tr th:only-of-type {\n",
       "        vertical-align: middle;\n",
       "    }\n",
       "\n",
       "    .dataframe tbody tr th {\n",
       "        vertical-align: top;\n",
       "    }\n",
       "\n",
       "    .dataframe thead th {\n",
       "        text-align: right;\n",
       "    }\n",
       "</style>\n",
       "<table border=\"1\" class=\"dataframe\">\n",
       "  <thead>\n",
       "    <tr style=\"text-align: right;\">\n",
       "      <th></th>\n",
       "      <th>count</th>\n",
       "      <th>mean</th>\n",
       "      <th>std</th>\n",
       "      <th>min</th>\n",
       "      <th>25%</th>\n",
       "      <th>50%</th>\n",
       "      <th>75%</th>\n",
       "      <th>max</th>\n",
       "    </tr>\n",
       "  </thead>\n",
       "  <tbody>\n",
       "    <tr>\n",
       "      <th>Accuracy</th>\n",
       "      <td>4.0</td>\n",
       "      <td>0.708328</td>\n",
       "      <td>0.056729</td>\n",
       "      <td>0.650715</td>\n",
       "      <td>0.664650</td>\n",
       "      <td>0.708762</td>\n",
       "      <td>0.752440</td>\n",
       "      <td>0.765072</td>\n",
       "    </tr>\n",
       "    <tr>\n",
       "      <th>Precision</th>\n",
       "      <td>4.0</td>\n",
       "      <td>0.681473</td>\n",
       "      <td>0.067670</td>\n",
       "      <td>0.613218</td>\n",
       "      <td>0.629099</td>\n",
       "      <td>0.681629</td>\n",
       "      <td>0.734003</td>\n",
       "      <td>0.749418</td>\n",
       "    </tr>\n",
       "    <tr>\n",
       "      <th>Recall</th>\n",
       "      <td>4.0</td>\n",
       "      <td>0.792420</td>\n",
       "      <td>0.092672</td>\n",
       "      <td>0.695194</td>\n",
       "      <td>0.727592</td>\n",
       "      <td>0.787594</td>\n",
       "      <td>0.852423</td>\n",
       "      <td>0.899298</td>\n",
       "    </tr>\n",
       "    <tr>\n",
       "      <th>F1</th>\n",
       "      <td>4.0</td>\n",
       "      <td>0.728895</td>\n",
       "      <td>0.048425</td>\n",
       "      <td>0.663403</td>\n",
       "      <td>0.712753</td>\n",
       "      <td>0.736533</td>\n",
       "      <td>0.752675</td>\n",
       "      <td>0.779111</td>\n",
       "    </tr>\n",
       "  </tbody>\n",
       "</table>\n",
       "</div>"
      ],
      "text/plain": [
       "           count      mean       std       min       25%       50%       75%  \\\n",
       "Accuracy     4.0  0.708328  0.056729  0.650715  0.664650  0.708762  0.752440   \n",
       "Precision    4.0  0.681473  0.067670  0.613218  0.629099  0.681629  0.734003   \n",
       "Recall       4.0  0.792420  0.092672  0.695194  0.727592  0.787594  0.852423   \n",
       "F1           4.0  0.728895  0.048425  0.663403  0.712753  0.736533  0.752675   \n",
       "\n",
       "                max  \n",
       "Accuracy   0.765072  \n",
       "Precision  0.749418  \n",
       "Recall     0.899298  \n",
       "F1         0.779111  "
      ]
     },
     "execution_count": 26,
     "metadata": {},
     "output_type": "execute_result"
    }
   ],
   "source": [
    "df.describe().T"
   ]
  },
  {
   "cell_type": "code",
   "execution_count": 27,
   "id": "873bcd9a-e34a-4637-a477-3acf5747992d",
   "metadata": {},
   "outputs": [
    {
     "name": "stderr",
     "output_type": "stream",
     "text": [
      "/var/folders/z1/hfz3q2b52bx3hb8nh0z1q89c0000gp/T/ipykernel_26104/3964534304.py:1: FutureWarning: Dropping of nuisance columns in DataFrame reductions (with 'numeric_only=None') is deprecated; in a future version this will raise TypeError.  Select only valid columns before calling the reduction.\n",
      "  df3 = pd.DataFrame({\"With Skew and Kurtosis (averages)\": df2.mean(), \"Without Skew and Kurtosis (averages)\": df.mean()}).T\n"
     ]
    }
   ],
   "source": [
    "df3 = pd.DataFrame({\"With Skew and Kurtosis (averages)\": df2.mean(), \"Without Skew and Kurtosis (averages)\": df.mean()}).T"
   ]
  },
  {
   "cell_type": "code",
   "execution_count": 28,
   "id": "5adeba59-1fcf-48b1-bc63-b9ff858515fc",
   "metadata": {},
   "outputs": [
    {
     "data": {
      "text/html": [
       "<div>\n",
       "<style scoped>\n",
       "    .dataframe tbody tr th:only-of-type {\n",
       "        vertical-align: middle;\n",
       "    }\n",
       "\n",
       "    .dataframe tbody tr th {\n",
       "        vertical-align: top;\n",
       "    }\n",
       "\n",
       "    .dataframe thead th {\n",
       "        text-align: right;\n",
       "    }\n",
       "</style>\n",
       "<table border=\"1\" class=\"dataframe\">\n",
       "  <thead>\n",
       "    <tr style=\"text-align: right;\">\n",
       "      <th></th>\n",
       "      <th>Accuracy</th>\n",
       "      <th>Precision</th>\n",
       "      <th>Recall</th>\n",
       "      <th>F1</th>\n",
       "    </tr>\n",
       "  </thead>\n",
       "  <tbody>\n",
       "    <tr>\n",
       "      <th>With Skew and Kurtosis (averages)</th>\n",
       "      <td>0.709514</td>\n",
       "      <td>0.682930</td>\n",
       "      <td>0.794074</td>\n",
       "      <td>0.730498</td>\n",
       "    </tr>\n",
       "    <tr>\n",
       "      <th>Without Skew and Kurtosis (averages)</th>\n",
       "      <td>0.708328</td>\n",
       "      <td>0.681473</td>\n",
       "      <td>0.792420</td>\n",
       "      <td>0.728895</td>\n",
       "    </tr>\n",
       "  </tbody>\n",
       "</table>\n",
       "</div>"
      ],
      "text/plain": [
       "                                      Accuracy  Precision    Recall        F1\n",
       "With Skew and Kurtosis (averages)     0.709514   0.682930  0.794074  0.730498\n",
       "Without Skew and Kurtosis (averages)  0.708328   0.681473  0.792420  0.728895"
      ]
     },
     "execution_count": 28,
     "metadata": {},
     "output_type": "execute_result"
    }
   ],
   "source": [
    "df3"
   ]
  },
  {
   "cell_type": "code",
   "execution_count": 29,
   "id": "d0c0317b-e871-469e-a729-6f0cdeefea81",
   "metadata": {},
   "outputs": [
    {
     "name": "stdout",
     "output_type": "stream",
     "text": [
      "\\begin{tabular}{lrrrr}\n",
      "\\toprule\n",
      "{} &  Accuracy &  Precision &    Recall &        F1 \\\\\n",
      "\\midrule\n",
      "With Skew and Kurtosis (averages)    &  0.709514 &   0.682930 &  0.794074 &  0.730498 \\\\\n",
      "Without Skew and Kurtosis (averages) &  0.708328 &   0.681473 &  0.792420 &  0.728895 \\\\\n",
      "\\bottomrule\n",
      "\\end{tabular}\n",
      "\n"
     ]
    }
   ],
   "source": [
    "print(df3.to_latex())"
   ]
  },
  {
   "cell_type": "code",
   "execution_count": 30,
   "id": "d08b5a3f-83af-4bd3-88fb-39b84177c3d6",
   "metadata": {},
   "outputs": [],
   "source": [
    "df.to_csv(\"extremity-compared-without-kurtosis.csv\")\n",
    "df2.to_csv(\"extremity-compared-with-kurtosis.csv\")\n",
    "df3.to_csv(\"with-and-without-kurtosis.csv\")"
   ]
  },
  {
   "cell_type": "code",
   "execution_count": 31,
   "id": "a2f91b8d-cf02-4b36-9e5c-af959d7681ed",
   "metadata": {},
   "outputs": [],
   "source": [
    "df[\"Kurtosis and Skew Used\"] = 0\n",
    "df2[\"Kurtosis and Skew Used\"] = 1"
   ]
  },
  {
   "cell_type": "code",
   "execution_count": 32,
   "id": "c882cffe-aad1-4d07-be8c-0fe9a43663e7",
   "metadata": {},
   "outputs": [],
   "source": [
    "df_final = pd.concat([df, df2])"
   ]
  },
  {
   "cell_type": "code",
   "execution_count": 33,
   "id": "51f23a33-44be-426f-a49f-7ce5ec6ecaab",
   "metadata": {},
   "outputs": [],
   "source": [
    "df_final[\"Extremities Measured Separately\"] = df_final[\"Extremities_Measured_Separately\"]\n",
    "df_final = df_final.drop(\"Extremities_Measured_Separately\", axis=1)"
   ]
  },
  {
   "cell_type": "code",
   "execution_count": 34,
   "id": "80f27dcb-b0b8-4205-b6d6-afad3d956292",
   "metadata": {},
   "outputs": [],
   "source": [
    "df_final = df_final.reset_index()"
   ]
  },
  {
   "cell_type": "code",
   "execution_count": null,
   "id": "e17fbea3-01b8-472c-b797-f3f3dbc6e90c",
   "metadata": {},
   "outputs": [],
   "source": []
  },
  {
   "cell_type": "code",
   "execution_count": 35,
   "id": "320ee675-77ca-4ca0-9bd3-10c33820555e",
   "metadata": {},
   "outputs": [
    {
     "name": "stdout",
     "output_type": "stream",
     "text": [
      "\\begin{tabular}{lrlrrrrrl}\n",
      "\\toprule\n",
      "{} &  index &            Algorithm &  Accuracy &  Precision &    Recall &        F1 &  Kurtosis and Skew Used & Extremities Measured Separately \\\\\n",
      "\\midrule\n",
      "0 &      0 &  Logistic Regression &  0.669296 &   0.613218 &  0.899298 &  0.729203 &                       0 &                              NO \\\\\n",
      "1 &      1 &  Logistic Regression &  0.765072 &   0.728865 &  0.836798 &  0.779111 &                       0 &                             YES \\\\\n",
      "2 &      2 &        Random Forest &  0.650715 &   0.634393 &  0.695194 &  0.663403 &                       0 &                              NO \\\\\n",
      "3 &      3 &        Random Forest &  0.748229 &   0.749418 &  0.738391 &  0.743863 &                       0 &                             YES \\\\\n",
      "4 &      0 &  Logistic Regression &  0.669162 &   0.613147 &  0.899028 &  0.729064 &                       1 &                              NO \\\\\n",
      "5 &      1 &  Logistic Regression &  0.769416 &   0.737063 &  0.830589 &  0.781036 &                       1 &                             YES \\\\\n",
      "6 &      2 &        Random Forest &  0.649111 &   0.629969 &  0.705994 &  0.665818 &                       1 &                              NO \\\\\n",
      "7 &      3 &        Random Forest &  0.750368 &   0.751541 &  0.740686 &  0.746074 &                       1 &                             YES \\\\\n",
      "\\bottomrule\n",
      "\\end{tabular}\n",
      "\n"
     ]
    }
   ],
   "source": [
    "print(df_final.to_latex())"
   ]
  },
  {
   "cell_type": "code",
   "execution_count": 36,
   "id": "6df05040-e3c4-4164-b720-eed1fc6d848a",
   "metadata": {},
   "outputs": [],
   "source": [
    "df_final = df_final.drop(\"index\", axis=1)"
   ]
  },
  {
   "cell_type": "code",
   "execution_count": 38,
   "id": "fd56a703-850c-4eda-9c4d-10589297c426",
   "metadata": {},
   "outputs": [
    {
     "data": {
      "text/html": [
       "<div>\n",
       "<style scoped>\n",
       "    .dataframe tbody tr th:only-of-type {\n",
       "        vertical-align: middle;\n",
       "    }\n",
       "\n",
       "    .dataframe tbody tr th {\n",
       "        vertical-align: top;\n",
       "    }\n",
       "\n",
       "    .dataframe thead th {\n",
       "        text-align: right;\n",
       "    }\n",
       "</style>\n",
       "<table border=\"1\" class=\"dataframe\">\n",
       "  <thead>\n",
       "    <tr style=\"text-align: right;\">\n",
       "      <th></th>\n",
       "      <th>Algorithm</th>\n",
       "      <th>Accuracy</th>\n",
       "      <th>Precision</th>\n",
       "      <th>Recall</th>\n",
       "      <th>F1</th>\n",
       "      <th>Kurtosis and Skew Used</th>\n",
       "      <th>Extremities Measured Separately</th>\n",
       "    </tr>\n",
       "  </thead>\n",
       "  <tbody>\n",
       "    <tr>\n",
       "      <th>0</th>\n",
       "      <td>Logistic Regression</td>\n",
       "      <td>0.669296</td>\n",
       "      <td>0.613218</td>\n",
       "      <td>0.899298</td>\n",
       "      <td>0.729203</td>\n",
       "      <td>0</td>\n",
       "      <td>NO</td>\n",
       "    </tr>\n",
       "    <tr>\n",
       "      <th>1</th>\n",
       "      <td>Logistic Regression</td>\n",
       "      <td>0.765072</td>\n",
       "      <td>0.728865</td>\n",
       "      <td>0.836798</td>\n",
       "      <td>0.779111</td>\n",
       "      <td>0</td>\n",
       "      <td>YES</td>\n",
       "    </tr>\n",
       "    <tr>\n",
       "      <th>2</th>\n",
       "      <td>Random Forest</td>\n",
       "      <td>0.650715</td>\n",
       "      <td>0.634393</td>\n",
       "      <td>0.695194</td>\n",
       "      <td>0.663403</td>\n",
       "      <td>0</td>\n",
       "      <td>NO</td>\n",
       "    </tr>\n",
       "    <tr>\n",
       "      <th>3</th>\n",
       "      <td>Random Forest</td>\n",
       "      <td>0.748229</td>\n",
       "      <td>0.749418</td>\n",
       "      <td>0.738391</td>\n",
       "      <td>0.743863</td>\n",
       "      <td>0</td>\n",
       "      <td>YES</td>\n",
       "    </tr>\n",
       "    <tr>\n",
       "      <th>4</th>\n",
       "      <td>Logistic Regression</td>\n",
       "      <td>0.669162</td>\n",
       "      <td>0.613147</td>\n",
       "      <td>0.899028</td>\n",
       "      <td>0.729064</td>\n",
       "      <td>1</td>\n",
       "      <td>NO</td>\n",
       "    </tr>\n",
       "    <tr>\n",
       "      <th>5</th>\n",
       "      <td>Logistic Regression</td>\n",
       "      <td>0.769416</td>\n",
       "      <td>0.737063</td>\n",
       "      <td>0.830589</td>\n",
       "      <td>0.781036</td>\n",
       "      <td>1</td>\n",
       "      <td>YES</td>\n",
       "    </tr>\n",
       "    <tr>\n",
       "      <th>6</th>\n",
       "      <td>Random Forest</td>\n",
       "      <td>0.649111</td>\n",
       "      <td>0.629969</td>\n",
       "      <td>0.705994</td>\n",
       "      <td>0.665818</td>\n",
       "      <td>1</td>\n",
       "      <td>NO</td>\n",
       "    </tr>\n",
       "    <tr>\n",
       "      <th>7</th>\n",
       "      <td>Random Forest</td>\n",
       "      <td>0.750368</td>\n",
       "      <td>0.751541</td>\n",
       "      <td>0.740686</td>\n",
       "      <td>0.746074</td>\n",
       "      <td>1</td>\n",
       "      <td>YES</td>\n",
       "    </tr>\n",
       "  </tbody>\n",
       "</table>\n",
       "</div>"
      ],
      "text/plain": [
       "             Algorithm  Accuracy  Precision    Recall        F1  \\\n",
       "0  Logistic Regression  0.669296   0.613218  0.899298  0.729203   \n",
       "1  Logistic Regression  0.765072   0.728865  0.836798  0.779111   \n",
       "2        Random Forest  0.650715   0.634393  0.695194  0.663403   \n",
       "3        Random Forest  0.748229   0.749418  0.738391  0.743863   \n",
       "4  Logistic Regression  0.669162   0.613147  0.899028  0.729064   \n",
       "5  Logistic Regression  0.769416   0.737063  0.830589  0.781036   \n",
       "6        Random Forest  0.649111   0.629969  0.705994  0.665818   \n",
       "7        Random Forest  0.750368   0.751541  0.740686  0.746074   \n",
       "\n",
       "   Kurtosis and Skew Used Extremities Measured Separately  \n",
       "0                       0                              NO  \n",
       "1                       0                             YES  \n",
       "2                       0                              NO  \n",
       "3                       0                             YES  \n",
       "4                       1                              NO  \n",
       "5                       1                             YES  \n",
       "6                       1                              NO  \n",
       "7                       1                             YES  "
      ]
     },
     "execution_count": 38,
     "metadata": {},
     "output_type": "execute_result"
    }
   ],
   "source": [
    "df_final"
   ]
  },
  {
   "cell_type": "code",
   "execution_count": 39,
   "id": "341ec1fd-5029-436c-8703-45e204af9124",
   "metadata": {},
   "outputs": [
    {
     "name": "stdout",
     "output_type": "stream",
     "text": [
      "\\begin{tabular}{llrrrrrl}\n",
      "\\toprule\n",
      "{} &            Algorithm &  Accuracy &  Precision &    Recall &        F1 &  Kurtosis and Skew Used & Extremities Measured Separately \\\\\n",
      "\\midrule\n",
      "0 &  Logistic Regression &  0.669296 &   0.613218 &  0.899298 &  0.729203 &                       0 &                              NO \\\\\n",
      "1 &  Logistic Regression &  0.765072 &   0.728865 &  0.836798 &  0.779111 &                       0 &                             YES \\\\\n",
      "2 &        Random Forest &  0.650715 &   0.634393 &  0.695194 &  0.663403 &                       0 &                              NO \\\\\n",
      "3 &        Random Forest &  0.748229 &   0.749418 &  0.738391 &  0.743863 &                       0 &                             YES \\\\\n",
      "4 &  Logistic Regression &  0.669162 &   0.613147 &  0.899028 &  0.729064 &                       1 &                              NO \\\\\n",
      "5 &  Logistic Regression &  0.769416 &   0.737063 &  0.830589 &  0.781036 &                       1 &                             YES \\\\\n",
      "6 &        Random Forest &  0.649111 &   0.629969 &  0.705994 &  0.665818 &                       1 &                              NO \\\\\n",
      "7 &        Random Forest &  0.750368 &   0.751541 &  0.740686 &  0.746074 &                       1 &                             YES \\\\\n",
      "\\bottomrule\n",
      "\\end{tabular}\n",
      "\n"
     ]
    }
   ],
   "source": [
    "print(df_final.to_latex())"
   ]
  },
  {
   "cell_type": "code",
   "execution_count": 40,
   "id": "7cabea31-355a-4abc-bf51-ca6a85f4f71d",
   "metadata": {},
   "outputs": [],
   "source": [
    "df_final.to_csv(\"extremity-kurtosis-skew-measured.csv\")"
   ]
  },
  {
   "cell_type": "code",
   "execution_count": 41,
   "id": "420b0e15-dc3a-4df5-acd9-74473ffcc358",
   "metadata": {},
   "outputs": [
    {
     "data": {
      "text/html": [
       "<div>\n",
       "<style scoped>\n",
       "    .dataframe tbody tr th:only-of-type {\n",
       "        vertical-align: middle;\n",
       "    }\n",
       "\n",
       "    .dataframe tbody tr th {\n",
       "        vertical-align: top;\n",
       "    }\n",
       "\n",
       "    .dataframe thead th {\n",
       "        text-align: right;\n",
       "    }\n",
       "</style>\n",
       "<table border=\"1\" class=\"dataframe\">\n",
       "  <thead>\n",
       "    <tr style=\"text-align: right;\">\n",
       "      <th></th>\n",
       "      <th>Algorithm</th>\n",
       "      <th>Accuracy</th>\n",
       "      <th>Precision</th>\n",
       "      <th>Recall</th>\n",
       "      <th>F1</th>\n",
       "      <th>Kurtosis and Skew Used</th>\n",
       "      <th>Extremities Measured Separately</th>\n",
       "    </tr>\n",
       "  </thead>\n",
       "  <tbody>\n",
       "    <tr>\n",
       "      <th>0</th>\n",
       "      <td>Logistic Regression</td>\n",
       "      <td>0.669296</td>\n",
       "      <td>0.613218</td>\n",
       "      <td>0.899298</td>\n",
       "      <td>0.729203</td>\n",
       "      <td>0</td>\n",
       "      <td>NO</td>\n",
       "    </tr>\n",
       "    <tr>\n",
       "      <th>1</th>\n",
       "      <td>Logistic Regression</td>\n",
       "      <td>0.765072</td>\n",
       "      <td>0.728865</td>\n",
       "      <td>0.836798</td>\n",
       "      <td>0.779111</td>\n",
       "      <td>0</td>\n",
       "      <td>YES</td>\n",
       "    </tr>\n",
       "    <tr>\n",
       "      <th>4</th>\n",
       "      <td>Logistic Regression</td>\n",
       "      <td>0.669162</td>\n",
       "      <td>0.613147</td>\n",
       "      <td>0.899028</td>\n",
       "      <td>0.729064</td>\n",
       "      <td>1</td>\n",
       "      <td>NO</td>\n",
       "    </tr>\n",
       "    <tr>\n",
       "      <th>5</th>\n",
       "      <td>Logistic Regression</td>\n",
       "      <td>0.769416</td>\n",
       "      <td>0.737063</td>\n",
       "      <td>0.830589</td>\n",
       "      <td>0.781036</td>\n",
       "      <td>1</td>\n",
       "      <td>YES</td>\n",
       "    </tr>\n",
       "  </tbody>\n",
       "</table>\n",
       "</div>"
      ],
      "text/plain": [
       "             Algorithm  Accuracy  Precision    Recall        F1  \\\n",
       "0  Logistic Regression  0.669296   0.613218  0.899298  0.729203   \n",
       "1  Logistic Regression  0.765072   0.728865  0.836798  0.779111   \n",
       "4  Logistic Regression  0.669162   0.613147  0.899028  0.729064   \n",
       "5  Logistic Regression  0.769416   0.737063  0.830589  0.781036   \n",
       "\n",
       "   Kurtosis and Skew Used Extremities Measured Separately  \n",
       "0                       0                              NO  \n",
       "1                       0                             YES  \n",
       "4                       1                              NO  \n",
       "5                       1                             YES  "
      ]
     },
     "execution_count": 41,
     "metadata": {},
     "output_type": "execute_result"
    }
   ],
   "source": [
    "df_final[df_final[\"Algorithm\"] == \"Logistic Regression\"]"
   ]
  },
  {
   "cell_type": "code",
   "execution_count": 42,
   "id": "e1a61350-d22f-4abb-804d-5e53a7a5b02c",
   "metadata": {},
   "outputs": [
    {
     "data": {
      "text/html": [
       "<div>\n",
       "<style scoped>\n",
       "    .dataframe tbody tr th:only-of-type {\n",
       "        vertical-align: middle;\n",
       "    }\n",
       "\n",
       "    .dataframe tbody tr th {\n",
       "        vertical-align: top;\n",
       "    }\n",
       "\n",
       "    .dataframe thead th {\n",
       "        text-align: right;\n",
       "    }\n",
       "</style>\n",
       "<table border=\"1\" class=\"dataframe\">\n",
       "  <thead>\n",
       "    <tr style=\"text-align: right;\">\n",
       "      <th></th>\n",
       "      <th>Algorithm</th>\n",
       "      <th>Accuracy</th>\n",
       "      <th>Precision</th>\n",
       "      <th>Recall</th>\n",
       "      <th>F1</th>\n",
       "      <th>Kurtosis and Skew Used</th>\n",
       "      <th>Extremities Measured Separately</th>\n",
       "    </tr>\n",
       "  </thead>\n",
       "  <tbody>\n",
       "    <tr>\n",
       "      <th>2</th>\n",
       "      <td>Random Forest</td>\n",
       "      <td>0.650715</td>\n",
       "      <td>0.634393</td>\n",
       "      <td>0.695194</td>\n",
       "      <td>0.663403</td>\n",
       "      <td>0</td>\n",
       "      <td>NO</td>\n",
       "    </tr>\n",
       "    <tr>\n",
       "      <th>3</th>\n",
       "      <td>Random Forest</td>\n",
       "      <td>0.748229</td>\n",
       "      <td>0.749418</td>\n",
       "      <td>0.738391</td>\n",
       "      <td>0.743863</td>\n",
       "      <td>0</td>\n",
       "      <td>YES</td>\n",
       "    </tr>\n",
       "    <tr>\n",
       "      <th>6</th>\n",
       "      <td>Random Forest</td>\n",
       "      <td>0.649111</td>\n",
       "      <td>0.629969</td>\n",
       "      <td>0.705994</td>\n",
       "      <td>0.665818</td>\n",
       "      <td>1</td>\n",
       "      <td>NO</td>\n",
       "    </tr>\n",
       "    <tr>\n",
       "      <th>7</th>\n",
       "      <td>Random Forest</td>\n",
       "      <td>0.750368</td>\n",
       "      <td>0.751541</td>\n",
       "      <td>0.740686</td>\n",
       "      <td>0.746074</td>\n",
       "      <td>1</td>\n",
       "      <td>YES</td>\n",
       "    </tr>\n",
       "  </tbody>\n",
       "</table>\n",
       "</div>"
      ],
      "text/plain": [
       "       Algorithm  Accuracy  Precision    Recall        F1  \\\n",
       "2  Random Forest  0.650715   0.634393  0.695194  0.663403   \n",
       "3  Random Forest  0.748229   0.749418  0.738391  0.743863   \n",
       "6  Random Forest  0.649111   0.629969  0.705994  0.665818   \n",
       "7  Random Forest  0.750368   0.751541  0.740686  0.746074   \n",
       "\n",
       "   Kurtosis and Skew Used Extremities Measured Separately  \n",
       "2                       0                              NO  \n",
       "3                       0                             YES  \n",
       "6                       1                              NO  \n",
       "7                       1                             YES  "
      ]
     },
     "execution_count": 42,
     "metadata": {},
     "output_type": "execute_result"
    }
   ],
   "source": [
    "df_final[df_final[\"Algorithm\"] != \"Logistic Regression\"]"
   ]
  },
  {
   "cell_type": "code",
   "execution_count": 43,
   "id": "08c683a9-77e8-45a6-95b6-8916f3062d27",
   "metadata": {},
   "outputs": [],
   "source": [
    "baseline_columns = [c for c in master_df.columns if \"baseline\" in c.lower() and \"filesize\" not in c.lower()]\n",
    "advanced_columns = [c for c in master_df.columns if \"kurtosis\" in c.lower() or \"skew\" in c.lower()]"
   ]
  },
  {
   "cell_type": "code",
   "execution_count": null,
   "id": "e246804d-0c4d-4441-8953-49cca618711d",
   "metadata": {},
   "outputs": [],
   "source": []
  }
 ],
 "metadata": {
  "kernelspec": {
   "display_name": "Python 3 (ipykernel)",
   "language": "python",
   "name": "python3"
  },
  "language_info": {
   "codemirror_mode": {
    "name": "ipython",
    "version": 3
   },
   "file_extension": ".py",
   "mimetype": "text/x-python",
   "name": "python",
   "nbconvert_exporter": "python",
   "pygments_lexer": "ipython3",
   "version": "3.9.7"
  },
  "widgets": {
   "application/vnd.jupyter.widget-state+json": {
    "state": {},
    "version_major": 2,
    "version_minor": 0
   }
  }
 },
 "nbformat": 4,
 "nbformat_minor": 5
}
