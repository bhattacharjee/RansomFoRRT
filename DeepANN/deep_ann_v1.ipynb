{
  "nbformat": 4,
  "nbformat_minor": 0,
  "metadata": {
    "colab": {
      "name": "deep-ann-v1.ipynb",
      "provenance": [],
      "machine_shape": "hm",
      "authorship_tag": "ABX9TyM2jFjSNML20Wm/gJBlv4qn",
      "include_colab_link": true
    },
    "kernelspec": {
      "name": "python3",
      "display_name": "Python 3"
    },
    "language_info": {
      "name": "python"
    },
    "accelerator": "GPU"
  },
  "cells": [
    {
      "cell_type": "markdown",
      "metadata": {
        "id": "view-in-github",
        "colab_type": "text"
      },
      "source": [
        "<a href=\"https://colab.research.google.com/github/bhattacharjee/msc-ai-project/blob/main/DeepANN/deep_ann_v1.ipynb\" target=\"_parent\"><img src=\"https://colab.research.google.com/assets/colab-badge.svg\" alt=\"Open In Colab\"/></a>"
      ]
    },
    {
      "cell_type": "code",
      "execution_count": 16,
      "metadata": {
        "colab": {
          "base_uri": "https://localhost:8080/"
        },
        "id": "mQP4gxMADtVr",
        "outputId": "3c327fda-2c87-4ded-e270-dfab6d03dc22"
      },
      "outputs": [
        {
          "output_type": "stream",
          "name": "stdout",
          "text": [
            "Drive already mounted at /content/drive; to attempt to forcibly remount, call drive.mount(\"/content/drive\", force_remount=True).\n"
          ]
        }
      ],
      "source": [
        "USE_FLOAT32 = False\n",
        "REDUCE_DF_SIZE = True\n",
        "\n",
        "\n",
        "import tensorflow as tf\n",
        "from keras.utils import np_utils\n",
        "import numpy as np\n",
        "import pandas as pd\n",
        "import seaborn as sns\n",
        "import matplotlib.pyplot as plt\n",
        "import logging, sys, random, glob\n",
        "from google.colab import drive\n",
        "from functools import lru_cache\n",
        "import sklearn\n",
        "from sklearn.model_selection import train_test_split\n",
        "from sklearn.preprocessing import MinMaxScaler\n",
        "\n",
        "from tensorflow import keras as K\n",
        "import matplotlib.pyplot as plt\n",
        "import numpy as np\n",
        "import pandas as pd\n",
        "import tensorflow as tf\n",
        "\n",
        "from sklearn.metrics import accuracy_score, precision_score, recall_score\n",
        "from sklearn.model_selection import train_test_split\n",
        "from tensorflow.keras import layers, losses\n",
        "from tensorflow.keras.datasets import fashion_mnist\n",
        "from tensorflow.keras.models import Model\n",
        "import IPython\n",
        "\n",
        "from sklearn import svm, datasets\n",
        "from sklearn.metrics import roc_curve, auc\n",
        "from sklearn.metrics import roc_auc_score\n",
        "\n",
        "import gc\n",
        "\n",
        "\n",
        "drive.mount(\"/content/drive\")\n",
        "\n",
        "def set_random_seed():\n",
        "    np.random.seed(1)\n",
        "    random.seed(1)\n",
        "    tf.random.set_seed(1)\n",
        "\n",
        "root = logging.getLogger()\n",
        "root.setLevel(logging.INFO)\n",
        "handler = logging.StreamHandler(sys.stdout)\n",
        "handler.setLevel(logging.DEBUG)\n",
        "formatter = logging.Formatter('%(asctime)s - %(name)s - %(levelname)s - %(message)s')\n",
        "handler.setFormatter(formatter)\n",
        "root.addHandler(handler)\n",
        "\n",
        "!if [[ -d /content/drive/MyDrive/MSCPROJDATA && ! -d MSCPROJDATA ]]; then cp -r /content/drive/MyDrive/MSCPROJDATA .; fi"
      ]
    },
    {
      "cell_type": "code",
      "source": [
        "dataset_names = [\"baseline\", \"advanced-only\", \"fourier-only\", \"baseline-and-fourier\", \"advanced-and-fourier\", \"advanced\", \"fourier\"]\n",
        "def get_columns_from_df(thisdf):\n",
        "    baseline_columns = [c for c in thisdf.columns if c.startswith('baseline') and \"head\" not in c and \"tail\" not in c]\n",
        "    baseline_columns = [c for c in baseline_columns if \"filesize\" not in c]\n",
        "    baseline_columns = [c for c in baseline_columns if \"begin\" not in c and \"end\" not in c]\n",
        "\n",
        "    advanced_columns = [c for c in thisdf.columns if \"advanced\" in c]\n",
        "    advanced_columns = [c for c in advanced_columns if \"begin\" not in c and \"end\" not in c]\n",
        "    advanced_columns = [c for c in advanced_columns if \"head\" not in c and \"tail\" not in c]\n",
        "    advanced_columns = [c for c in advanced_columns if \"start\" not in c]\n",
        "    advanced_columns_only = list(set(advanced_columns))\n",
        "    advanced_columns = list(set(advanced_columns + baseline_columns))\n",
        "\n",
        "    fourier_columns = [c for c in thisdf.columns if \"fourier\" in c and \"value\" not in c]\n",
        "    fourier_columns = [c for c in fourier_columns if \"1byte\" in c]\n",
        "    fourier_columns = [c for c in fourier_columns if \"begin\" not in c and \"end\" not in c]\n",
        "    fourier_columns = [c for c in fourier_columns if \"head\" not in c and \"tail\" not in c]\n",
        "    fourier_columns = [c for c in fourier_columns if \"start\" not in c]\n",
        "    fourier_columns_only = list(set(fourier_columns))\n",
        "    fourier_columns = list(set(advanced_columns + fourier_columns))\n",
        "    \n",
        "    baseline_and_advanced = list(set(baseline_columns + advanced_columns_only))\n",
        "    baseline_and_fourier = list(set(baseline_columns + fourier_columns_only))\n",
        "    advanced_and_fourier = list(set(advanced_columns_only + fourier_columns_only))\n",
        "\n",
        "    all_columns = [c for c in thisdf.columns]\n",
        "    \n",
        "    return {\\\n",
        "        \"baseline\": baseline_columns,\\\n",
        "        \"advanced-only\": advanced_columns_only,\\\n",
        "        \"fourier-only\": fourier_columns_only,\\\n",
        "        \"baseline-and-fourier\": baseline_and_fourier,\\\n",
        "        \"advanced-and-fourier\": advanced_and_fourier,\\\n",
        "        \"advanced\": advanced_columns,\\\n",
        "        \"fourier\": fourier_columns,\\\n",
        "        \"all_columns\": all_columns,\n",
        "    }\n",
        "\n",
        "\n",
        "def reduce_df_size(df):\n",
        "    original_usage = df.memory_usage().sum() / (1024**2)\n",
        "    for col in df.columns:\n",
        "        if \"fourier.value\" in col or \\\n",
        "            \"tail\" in col or \\\n",
        "            \"head\" in col or \\\n",
        "            \"end\" in col or \\\n",
        "            \"begin\" in col:\n",
        "            df.drop([col], axis=1, inplace=True)\n",
        "            continue\n",
        "        if USE_FLOAT32:\n",
        "            if \"float64\" in str(df[col].dtype):\n",
        "                df[col] = df[col].astype('float32')\n",
        "        elif \"int64\" in str(df[col].dtype):\n",
        "            df[col] = df[col].astype(\"int8\")\n",
        "    new_usage = df.memory_usage().sum() / (1024**2)\n",
        "    print(f\"Reduced memory sage from {original_usage} to {new_usage}\")\n",
        "    return df\n",
        "\n",
        "def call_gc():\n",
        "    for i in range(3):\n",
        "        for j in range(3):\n",
        "            gc.collect(j)\n",
        "\n",
        "@lru_cache(maxsize=5)\n",
        "def load_datasets():\n",
        "    datasets = dict()\n",
        "    for file in glob.glob(\"MSCPROJDATA/**.parquet.gz\", recursive=True):\n",
        "        if not file.startswith(\"MSCPROJDATA/n1\"):\n",
        "            print(f\"Loading {file}\")\n",
        "            df = pd.read_parquet(file)\n",
        "            datasets[file] = df\n",
        "            df[\"is_encrypted\"] = 1 if \"encr\" in file.lower() else 0\n",
        "    \n",
        "            if REDUCE_DF_SIZE:\n",
        "                df = reduce_df_size(df)\n",
        "\n",
        "            df = df.sample(frac=1).reset_index(drop=True)\n",
        "            datasets[file] = df\n",
        "            call_gc()\n",
        "\n",
        "    return datasets\n",
        "\n",
        "@lru_cache(maxsize=5)\n",
        "def get_columns():\n",
        "    datasets = load_datasets()\n",
        "    df = list(datasets.values())[0]\n",
        "    return get_columns_from_df(df)\n",
        "\n",
        "_ = load_datasets()\n",
        "_ = get_columns()\n"
      ],
      "metadata": {
        "colab": {
          "base_uri": "https://localhost:8080/"
        },
        "id": "UxRiyNG5EAiU",
        "outputId": "cad976c3-8462-4223-8735-0eb2e91ffc17"
      },
      "execution_count": 17,
      "outputs": [
        {
          "output_type": "stream",
          "name": "stdout",
          "text": [
            "Loading MSCPROJDATA/plaintext.expanded.parquet.gz\n",
            "Reduced memory sage from 417.6138381958008 to 50.274044036865234\n",
            "Loading MSCPROJDATA/expanded.pyencrypted_v1.b32.parquet.gz\n",
            "Reduced memory sage from 417.6138381958008 to 47.575284004211426\n",
            "Loading MSCPROJDATA/plaintext.combined.parquet.gz\n",
            "Reduced memory sage from 417.6138381958008 to 50.274044036865234\n",
            "Loading MSCPROJDATA/expanded.pyencrypted_v1.parquet.gz\n",
            "Reduced memory sage from 417.6138381958008 to 49.19454002380371\n",
            "Loading MSCPROJDATA/expanded.pyencrypted_v2.parquet.gz\n",
            "Reduced memory sage from 417.6138381958008 to 48.65478801727295\n",
            "Loading MSCPROJDATA/expanded.plaintext.base32.parquet.gz\n",
            "Reduced memory sage from 417.6138381958008 to 48.65478801727295\n",
            "Loading MSCPROJDATA/plaintext.base32.combined.parquet.gz\n",
            "Reduced memory sage from 417.6138381958008 to 48.65478801727295\n",
            "Loading MSCPROJDATA/expanded.pyencrypted_v2.base32.parquet.gz\n",
            "Reduced memory sage from 417.6138381958008 to 48.65478801727295\n"
          ]
        }
      ]
    },
    {
      "cell_type": "code",
      "source": [
        "@lru_cache(maxsize=5)\n",
        "def get_train_test_df():\n",
        "    datasets = load_datasets()\n",
        "    df = pd.concat([v for v in datasets.values()])\n",
        "    print(df.describe().T)\n",
        "    x_cols = [str(c) for c in df.columns if \"is_encrypted\" != str(c)]\n",
        "    y_cols = \"is_encrypted\"\n",
        "\n",
        "    df = df.sample(frac=1).reset_index(drop=True)\n",
        "    df.fillna(0.0)\n",
        "\n",
        "    X = df[x_cols]\n",
        "    y = df[y_cols]\n",
        "\n",
        "    min_max_scaler = MinMaxScaler()\n",
        "    X = min_max_scaler.fit_transform(X)\n",
        "    X_train, X_test, y_train, y_test = train_test_split(X, y, test_size=0.2, random_state=42)\n",
        "\n",
        "    return X_train, X_test, y_train, y_test\n",
        "\n",
        "_ = get_train_test_df()"
      ],
      "metadata": {
        "id": "pMTF4z0nRNxM",
        "outputId": "d726ef26-15b7-4d7b-b930-409f55537e10",
        "colab": {
          "base_uri": "https://localhost:8080/"
        }
      },
      "execution_count": 21,
      "outputs": [
        {
          "output_type": "stream",
          "name": "stdout",
          "text": [
            "                                  count           mean           std  \\\n",
            "Unnamed: 0                     646824.0   9.378131e-01  7.390309e+01   \n",
            "baseline.shannon_entropy       646824.0   6.107507e+00  1.519591e+00   \n",
            "baseline.montecarlo_pi         646824.0   2.061952e+00  1.167288e+00   \n",
            "baseline.chisquare_full        646824.0   8.482973e+06  5.999312e+07   \n",
            "baseline.autocorrelation_full  646824.0   6.241427e-02  1.416467e-01   \n",
            "...                                 ...            ...           ...   \n",
            "fourier.stat.4byte.moment.12   646824.0  2.019296e+231           inf   \n",
            "fourier.stat.4byte.moment.13   646824.0  9.582912e+250           inf   \n",
            "fourier.stat.4byte.moment.14   646824.0  4.786819e+270           inf   \n",
            "fourier.stat.4byte.moment.15   646824.0  2.523486e+290           inf   \n",
            "is_encrypted                   646824.0   5.000000e-01  5.000004e-01   \n",
            "\n",
            "                                         min            25%            50%  \\\n",
            "Unnamed: 0                     -1.280000e+02  -6.300000e+01   4.000000e+00   \n",
            "baseline.shannon_entropy        5.512238e-01   5.028630e+00   5.035402e+00   \n",
            "baseline.montecarlo_pi          0.000000e+00   8.882083e-01   1.996152e+00   \n",
            "baseline.chisquare_full         3.345625e+01   1.134108e+05   5.234560e+05   \n",
            "baseline.autocorrelation_full  -7.980387e-01  -3.199540e-03   2.942791e-03   \n",
            "...                                      ...            ...            ...   \n",
            "fourier.stat.4byte.moment.12   6.769807e+150  3.793025e+196  2.889817e+203   \n",
            "fourier.stat.4byte.moment.13  -2.871500e+233  1.363865e+212  4.951330e+218   \n",
            "fourier.stat.4byte.moment.14   2.005402e+176  4.208894e+229  4.888899e+237   \n",
            "fourier.stat.4byte.moment.15  -5.125001e+269  1.043473e+245  4.176620e+252   \n",
            "is_encrypted                    0.000000e+00   0.000000e+00   5.000000e-01   \n",
            "\n",
            "                                         75%            max  \n",
            "Unnamed: 0                      6.400000e+01   1.270000e+02  \n",
            "baseline.shannon_entropy        7.962748e+00   7.999999e+00  \n",
            "baseline.montecarlo_pi          3.138460e+00   4.000000e+00  \n",
            "baseline.chisquare_full         2.936366e+06   8.698026e+09  \n",
            "baseline.autocorrelation_full   3.901061e-02   9.862110e-01  \n",
            "...                                      ...            ...  \n",
            "fourier.stat.4byte.moment.12   8.018905e+211  1.007987e+236  \n",
            "fourier.stat.4byte.moment.13   3.154718e+229  6.926559e+255  \n",
            "fourier.stat.4byte.moment.14   3.265193e+247  4.769036e+275  \n",
            "fourier.stat.4byte.moment.15   1.275992e+265  3.288471e+295  \n",
            "is_encrypted                    1.000000e+00   1.000000e+00  \n",
            "\n",
            "[84 rows x 8 columns]\n"
          ]
        }
      ]
    },
    {
      "cell_type": "code",
      "source": [
        "list(load_datasets().values())[0].columns"
      ],
      "metadata": {
        "id": "XP0qLonaFJnI",
        "outputId": "533b24c9-ce1a-4bfd-a7a9-f3e2c86b3320",
        "colab": {
          "base_uri": "https://localhost:8080/"
        }
      },
      "execution_count": 19,
      "outputs": [
        {
          "output_type": "execute_result",
          "data": {
            "text/plain": [
              "Index(['Unnamed: 0', 'baseline.shannon_entropy', 'baseline.montecarlo_pi',\n",
              "       'baseline.chisquare_full', 'baseline.autocorrelation_full',\n",
              "       'baseline.filesize', 'advanced.kurtosis_full', 'advanced.skew_full',\n",
              "       'advanced.moment_full.2', 'advanced.moment_full.3',\n",
              "       'advanced.moment_full.4', 'advanced.moment_full.5',\n",
              "       'advanced.moment_full.6', 'advanced.moment_full.7',\n",
              "       'advanced.moment_full.8', 'advanced.moment_full.9',\n",
              "       'advanced.moment_full.10', 'advanced.moment_full.11',\n",
              "       'advanced.moment_full.12', 'advanced.moment_full.13',\n",
              "       'advanced.moment_full.14', 'advanced.moment_full.15',\n",
              "       'advanced.dit.renyi.full.0', 'advanced.dit.renyi.full.1',\n",
              "       'advanced.dit.renyi.full.2', 'advanced.dit.renyi.full.3',\n",
              "       'advanced.dit.renyi.full.4', 'advanced.dit.renyi.full.5',\n",
              "       'advanced.dit.renyi.full.6', 'advanced.dit.renyi.full.7',\n",
              "       'advanced.dit.renyi.full.8', 'advanced.dit.renyi.full.9',\n",
              "       'advanced.dit.renyi.full.10', 'advanced.dit.renyi.full.inf',\n",
              "       'advanced.dit.shanon.full', 'advanced.dit.extropy.full',\n",
              "       'advanced.dit.tsallis.full.0', 'advanced.dit.tsallis.full.1',\n",
              "       'advanced.dit.tsallis.full.2', 'advanced.dit.tsallis.full.3',\n",
              "       'advanced.dit.tsallis.full.4', 'advanced.dit.tsallis.full.5',\n",
              "       'advanced.dit.tsallis.full.6', 'advanced.dit.tsallis.full.7',\n",
              "       'advanced.dit.tsallis.full.8', 'advanced.dit.tsallis.full.9',\n",
              "       'advanced.dit.tsallis.full.10', 'fourier.stat.1byte.autocorr',\n",
              "       'fourier.stat.1byte.mean', 'fourier.stat.1byte.std',\n",
              "       'fourier.stat.1byte.chisq', 'fourier.stat.1byte.moment.2',\n",
              "       'fourier.stat.1byte.moment.3', 'fourier.stat.1byte.moment.4',\n",
              "       'fourier.stat.1byte.moment.5', 'fourier.stat.1byte.moment.6',\n",
              "       'fourier.stat.1byte.moment.7', 'fourier.stat.1byte.moment.8',\n",
              "       'fourier.stat.1byte.moment.9', 'fourier.stat.1byte.moment.10',\n",
              "       'fourier.stat.1byte.moment.11', 'fourier.stat.1byte.moment.12',\n",
              "       'fourier.stat.1byte.moment.13', 'fourier.stat.1byte.moment.14',\n",
              "       'fourier.stat.1byte.moment.15', 'fourier.stat.4byte.autocorr',\n",
              "       'fourier.stat.4byte.mean', 'fourier.stat.4byte.std',\n",
              "       'fourier.stat.4byte.chisq', 'fourier.stat.4byte.moment.2',\n",
              "       'fourier.stat.4byte.moment.3', 'fourier.stat.4byte.moment.4',\n",
              "       'fourier.stat.4byte.moment.5', 'fourier.stat.4byte.moment.6',\n",
              "       'fourier.stat.4byte.moment.7', 'fourier.stat.4byte.moment.8',\n",
              "       'fourier.stat.4byte.moment.9', 'fourier.stat.4byte.moment.10',\n",
              "       'fourier.stat.4byte.moment.11', 'fourier.stat.4byte.moment.12',\n",
              "       'fourier.stat.4byte.moment.13', 'fourier.stat.4byte.moment.14',\n",
              "       'fourier.stat.4byte.moment.15', 'is_encrypted'],\n",
              "      dtype='object')"
            ]
          },
          "metadata": {},
          "execution_count": 19
        }
      ]
    },
    {
      "cell_type": "code",
      "source": [
        "class Model:\n",
        "    @staticmethod\n",
        "    def print_and_plot(model):\n",
        "        print(model.summary())\n",
        "        plot = tf.keras.utils.plot_model(\n",
        "            model,\n",
        "            show_shapes=True,\n",
        "            expand_nested=True)\n",
        "        IPython.display.display(plot)\n",
        "\n",
        "    @staticmethod\n",
        "    def create_common_part():\n",
        "        model = tf.keras.Sequential(\n",
        "            [\n",
        "                layers.Dense(4, activation = 'relu', name=\"Dense-4\"),\n",
        "                layers.Dropout(0.2),\n",
        "                layers.Dense(2, activation = 'relu', name=\"Dense-2\"),\n",
        "                layers.Dense(1, activation = 'sigmoid', name=\"Final Layer\")\n",
        "            ]\n",
        "        )\n",
        "        return model\n",
        "\n",
        "    @staticmethod\n",
        "    def create(name:str, columns:list):\n",
        "        X_train, X_test, y_train, y_test = get_train_test_df()\n",
        "        X_train = X_train[columns].to_numpy()\n",
        "\n",
        "        model = tf.keras.Sequential(\n",
        "            [\n",
        "                layers.Dense(8, input_dim=X_train.shape[1], activation='relu', name=\"Dense-8\"),\n",
        "                layers.Dropout(0.2),\n",
        "                Model.create_common_part(),\n",
        "            ]\n",
        "        )\n"
      ],
      "metadata": {
        "id": "9zQPOcdjNxDS",
        "outputId": "25900a26-31a1-4b3d-9420-cfd73bb7ace9",
        "colab": {
          "base_uri": "https://localhost:8080/",
          "height": 337
        }
      },
      "execution_count": 20,
      "outputs": [
        {
          "output_type": "error",
          "ename": "NameError",
          "evalue": "ignored",
          "traceback": [
            "\u001b[0;31m---------------------------------------------------------------------------\u001b[0m",
            "\u001b[0;31mNameError\u001b[0m                                 Traceback (most recent call last)",
            "\u001b[0;32m<ipython-input-20-076f23211df8>\u001b[0m in \u001b[0;36m<module>\u001b[0;34m()\u001b[0m\n\u001b[1;32m     14\u001b[0m         \u001b[0;32mreturn\u001b[0m \u001b[0mmodel\u001b[0m\u001b[0;34m\u001b[0m\u001b[0;34m\u001b[0m\u001b[0m\n\u001b[1;32m     15\u001b[0m \u001b[0;34m\u001b[0m\u001b[0m\n\u001b[0;32m---> 16\u001b[0;31m \u001b[0m_\u001b[0m \u001b[0;34m=\u001b[0m \u001b[0mCommonModelPart\u001b[0m\u001b[0;34m.\u001b[0m\u001b[0mcreate\u001b[0m\u001b[0;34m(\u001b[0m\u001b[0;34m)\u001b[0m\u001b[0;34m\u001b[0m\u001b[0;34m\u001b[0m\u001b[0m\n\u001b[0m",
            "\u001b[0;32m<ipython-input-20-076f23211df8>\u001b[0m in \u001b[0;36mcreate\u001b[0;34m()\u001b[0m\n\u001b[1;32m      7\u001b[0m                 \u001b[0mlayers\u001b[0m\u001b[0;34m.\u001b[0m\u001b[0mDropout\u001b[0m\u001b[0;34m(\u001b[0m\u001b[0;36m0.2\u001b[0m\u001b[0;34m)\u001b[0m\u001b[0;34m,\u001b[0m\u001b[0;34m\u001b[0m\u001b[0;34m\u001b[0m\u001b[0m\n\u001b[1;32m      8\u001b[0m                 \u001b[0mlayers\u001b[0m\u001b[0;34m.\u001b[0m\u001b[0mDense\u001b[0m\u001b[0;34m(\u001b[0m\u001b[0;36m4\u001b[0m\u001b[0;34m,\u001b[0m \u001b[0mactivation\u001b[0m \u001b[0;34m=\u001b[0m \u001b[0;34m'relu'\u001b[0m\u001b[0;34m)\u001b[0m\u001b[0;34m,\u001b[0m\u001b[0;34m\u001b[0m\u001b[0;34m\u001b[0m\u001b[0m\n\u001b[0;32m----> 9\u001b[0;31m                 \u001b[0mlaysers\u001b[0m\u001b[0;34m.\u001b[0m\u001b[0mDropout\u001b[0m\u001b[0;34m(\u001b[0m\u001b[0;36m0.2\u001b[0m\u001b[0;34m)\u001b[0m\u001b[0;34m,\u001b[0m\u001b[0;34m\u001b[0m\u001b[0;34m\u001b[0m\u001b[0m\n\u001b[0m\u001b[1;32m     10\u001b[0m                 \u001b[0mlayers\u001b[0m\u001b[0;34m.\u001b[0m\u001b[0mDense\u001b[0m\u001b[0;34m(\u001b[0m\u001b[0;36m2\u001b[0m\u001b[0;34m,\u001b[0m \u001b[0mactivation\u001b[0m \u001b[0;34m=\u001b[0m \u001b[0;34m'relu'\u001b[0m\u001b[0;34m)\u001b[0m\u001b[0;34m,\u001b[0m\u001b[0;34m\u001b[0m\u001b[0;34m\u001b[0m\u001b[0m\n\u001b[1;32m     11\u001b[0m                 \u001b[0mlayers\u001b[0m\u001b[0;34m.\u001b[0m\u001b[0mDense\u001b[0m\u001b[0;34m(\u001b[0m\u001b[0;36m1\u001b[0m\u001b[0;34m,\u001b[0m \u001b[0mactivation\u001b[0m \u001b[0;34m=\u001b[0m \u001b[0;34m'sigmoid'\u001b[0m\u001b[0;34m)\u001b[0m\u001b[0;34m\u001b[0m\u001b[0;34m\u001b[0m\u001b[0m\n",
            "\u001b[0;31mNameError\u001b[0m: name 'laysers' is not defined"
          ]
        }
      ]
    },
    {
      "cell_type": "code",
      "source": [
        "list(get_columns().values())[0]"
      ],
      "metadata": {
        "id": "StL9q6jcQgrF",
        "outputId": "62306f42-571b-47f7-ba42-0ba0fe129b98",
        "colab": {
          "base_uri": "https://localhost:8080/"
        }
      },
      "execution_count": 11,
      "outputs": [
        {
          "output_type": "execute_result",
          "data": {
            "text/plain": [
              "['baseline.shannon_entropy',\n",
              " 'baseline.montecarlo_pi',\n",
              " 'baseline.chisquare_full',\n",
              " 'baseline.autocorrelation_full']"
            ]
          },
          "metadata": {},
          "execution_count": 11
        }
      ]
    },
    {
      "cell_type": "code",
      "source": [
        ""
      ],
      "metadata": {
        "id": "L8FSRCqpQ0Aj"
      },
      "execution_count": null,
      "outputs": []
    }
  ]
}