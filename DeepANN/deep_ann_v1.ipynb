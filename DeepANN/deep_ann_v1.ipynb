{
  "nbformat": 4,
  "nbformat_minor": 0,
  "metadata": {
    "colab": {
      "name": "deep-ann-v1.ipynb",
      "provenance": [],
      "machine_shape": "hm",
      "authorship_tag": "ABX9TyPvrLkZcT7je/Z1pgw3ypUc",
      "include_colab_link": true
    },
    "kernelspec": {
      "name": "python3",
      "display_name": "Python 3"
    },
    "language_info": {
      "name": "python"
    },
    "accelerator": "GPU"
  },
  "cells": [
    {
      "cell_type": "markdown",
      "metadata": {
        "id": "view-in-github",
        "colab_type": "text"
      },
      "source": [
        "<a href=\"https://colab.research.google.com/github/bhattacharjee/msc-ai-project/blob/main/DeepANN/deep_ann_v1.ipynb\" target=\"_parent\"><img src=\"https://colab.research.google.com/assets/colab-badge.svg\" alt=\"Open In Colab\"/></a>"
      ]
    },
    {
      "cell_type": "code",
      "execution_count": 119,
      "metadata": {
        "colab": {
          "base_uri": "https://localhost:8080/"
        },
        "id": "mQP4gxMADtVr",
        "outputId": "ba0c60cb-d8f9-427b-cce0-b503960e9753"
      },
      "outputs": [
        {
          "output_type": "stream",
          "name": "stdout",
          "text": [
            "Requirement already satisfied: tensorflow-addons in /usr/local/lib/python3.7/dist-packages (0.16.1)\n",
            "Requirement already satisfied: typeguard>=2.7 in /usr/local/lib/python3.7/dist-packages (from tensorflow-addons) (2.7.1)\n",
            "Drive already mounted at /content/drive; to attempt to forcibly remount, call drive.mount(\"/content/drive\", force_remount=True).\n"
          ]
        }
      ],
      "source": [
        "USE_FLOAT32 = False\n",
        "REDUCE_DF_SIZE = True\n",
        "NUM_EPOCHS = 20\n",
        "BATCH_SIZE = 32\n",
        "\n",
        "!pip install tensorflow-addons\n",
        "\n",
        "\n",
        "\n",
        "\n",
        "import tensorflow as tf\n",
        "from keras.utils import np_utils\n",
        "import numpy as np\n",
        "import pandas as pd\n",
        "import seaborn as sns\n",
        "import matplotlib.pyplot as plt\n",
        "import logging, sys, random, glob\n",
        "from google.colab import drive\n",
        "from functools import lru_cache\n",
        "import sklearn\n",
        "from sklearn.model_selection import train_test_split\n",
        "from sklearn.preprocessing import MinMaxScaler\n",
        "\n",
        "from tensorflow import keras as K\n",
        "import matplotlib.pyplot as plt\n",
        "import numpy as np\n",
        "import pandas as pd\n",
        "import tensorflow as tf\n",
        "\n",
        "from sklearn.metrics import accuracy_score, precision_score, recall_score\n",
        "from sklearn.model_selection import train_test_split\n",
        "from tensorflow.keras import layers, losses\n",
        "from tensorflow.keras.datasets import fashion_mnist\n",
        "from tensorflow.keras.models import Model\n",
        "import IPython\n",
        "\n",
        "from sklearn import svm, datasets\n",
        "from sklearn.metrics import roc_curve, auc\n",
        "from sklearn.metrics import roc_auc_score\n",
        "\n",
        "import gc\n",
        "import tensorflow_addons as tfa\n",
        "\n",
        "drive.mount(\"/content/drive\")\n",
        "\n",
        "def set_random_seed():\n",
        "    np.random.seed(1)\n",
        "    random.seed(1)\n",
        "    tf.random.set_seed(1)\n",
        "\n",
        "root = logging.getLogger()\n",
        "root.setLevel(logging.INFO)\n",
        "handler = logging.StreamHandler(sys.stdout)\n",
        "handler.setLevel(logging.DEBUG)\n",
        "formatter = logging.Formatter('%(asctime)s - %(name)s - %(levelname)s - %(message)s')\n",
        "handler.setFormatter(formatter)\n",
        "root.addHandler(handler)\n",
        "\n",
        "!if [[ -d /content/drive/MyDrive/MSCPROJDATA && ! -d MSCPROJDATA ]]; then cp -r /content/drive/MyDrive/MSCPROJDATA .; fi"
      ]
    },
    {
      "cell_type": "code",
      "source": [
        "dataset_names = [\"baseline\", \"advanced-only\", \"fourier-only\", \"baseline-and-fourier\", \"advanced-and-fourier\", \"advanced\", \"fourier\"]\n",
        "def get_columns_from_df(thisdf):\n",
        "    baseline_columns = [c for c in thisdf.columns if c.startswith('baseline') and \"head\" not in c and \"tail\" not in c]\n",
        "    baseline_columns = [c for c in baseline_columns if \"filesize\" not in c]\n",
        "    baseline_columns = [c for c in baseline_columns if \"begin\" not in c and \"end\" not in c]\n",
        "\n",
        "    advanced_columns = [c for c in thisdf.columns if \"advanced\" in c]\n",
        "    advanced_columns = [c for c in advanced_columns if \"begin\" not in c and \"end\" not in c]\n",
        "    advanced_columns = [c for c in advanced_columns if \"head\" not in c and \"tail\" not in c]\n",
        "    advanced_columns = [c for c in advanced_columns if \"start\" not in c]\n",
        "    advanced_columns_only = list(set(advanced_columns))\n",
        "    advanced_columns = list(set(advanced_columns + baseline_columns))\n",
        "\n",
        "    fourier_columns = [c for c in thisdf.columns if \"fourier\" in c and \"value\" not in c]\n",
        "    fourier_columns = [c for c in fourier_columns if \"1byte\" in c]\n",
        "    fourier_columns = [c for c in fourier_columns if \"begin\" not in c and \"end\" not in c]\n",
        "    fourier_columns = [c for c in fourier_columns if \"head\" not in c and \"tail\" not in c]\n",
        "    fourier_columns = [c for c in fourier_columns if \"start\" not in c]\n",
        "    fourier_columns_only = list(set(fourier_columns))\n",
        "    fourier_columns = list(set(advanced_columns + fourier_columns))\n",
        "    \n",
        "    baseline_and_advanced = list(set(baseline_columns + advanced_columns_only))\n",
        "    baseline_and_fourier = list(set(baseline_columns + fourier_columns_only))\n",
        "    advanced_and_fourier = list(set(advanced_columns_only + fourier_columns_only))\n",
        "\n",
        "    all_columns = [c for c in thisdf.columns]\n",
        "    \n",
        "    return {\\\n",
        "        \"baseline\": baseline_columns,\\\n",
        "        \"advanced-only\": advanced_columns_only,\\\n",
        "        \"fourier-only\": fourier_columns_only,\\\n",
        "        \"baseline-and-fourier\": baseline_and_fourier,\\\n",
        "        \"advanced-and-fourier\": advanced_and_fourier,\\\n",
        "        \"advanced\": advanced_columns,\\\n",
        "        \"fourier\": fourier_columns,\\\n",
        "        \"all_columns\": all_columns,\n",
        "    }\n",
        "\n",
        "\n",
        "def reduce_df_size(df):\n",
        "    original_usage = df.memory_usage().sum() / (1024**2)\n",
        "    for col in df.columns:\n",
        "        if \"fourier.value\" in col or \\\n",
        "            \"tail\" in col or \\\n",
        "            \"head\" in col or \\\n",
        "            \"end\" in col or \\\n",
        "            \"begin\" in col:\n",
        "            df.drop([col], axis=1, inplace=True)\n",
        "            continue\n",
        "        if USE_FLOAT32:\n",
        "            if \"float64\" in str(df[col].dtype):\n",
        "                df[col] = df[col].astype('float32')\n",
        "        elif \"int64\" in str(df[col].dtype):\n",
        "            df[col] = df[col].astype(\"int8\")\n",
        "    new_usage = df.memory_usage().sum() / (1024**2)\n",
        "    print(f\"Reduced memory sage from {original_usage} to {new_usage}\")\n",
        "    return df\n",
        "\n",
        "def call_gc():\n",
        "    for i in range(3):\n",
        "        for j in range(3):\n",
        "            gc.collect(j)\n",
        "\n",
        "@lru_cache(maxsize=5)\n",
        "def load_datasets():\n",
        "    datasets = dict()\n",
        "    for file in glob.glob(\"MSCPROJDATA/**.parquet.gz\", recursive=True):\n",
        "        if not file.startswith(\"MSCPROJDATA/n1\"):\n",
        "            print(f\"Loading {file}\")\n",
        "            df = pd.read_parquet(file)\n",
        "            datasets[file] = df\n",
        "            df[\"is_encrypted\"] = 1 if \"encr\" in file.lower() else 0\n",
        "    \n",
        "            if REDUCE_DF_SIZE:\n",
        "                df = reduce_df_size(df)\n",
        "\n",
        "            df = df.sample(frac=1).reset_index(drop=True)\n",
        "            datasets[file] = df\n",
        "            call_gc()\n",
        "\n",
        "    return datasets\n",
        "\n",
        "@lru_cache(maxsize=5)\n",
        "def get_columns():\n",
        "    datasets = load_datasets()\n",
        "    df = list(datasets.values())[0]\n",
        "    return get_columns_from_df(df)\n",
        "\n",
        "_ = load_datasets()\n",
        "_ = get_columns()\n"
      ],
      "metadata": {
        "colab": {
          "base_uri": "https://localhost:8080/"
        },
        "id": "UxRiyNG5EAiU",
        "outputId": "cad976c3-8462-4223-8735-0eb2e91ffc17"
      },
      "execution_count": 17,
      "outputs": [
        {
          "output_type": "stream",
          "name": "stdout",
          "text": [
            "Loading MSCPROJDATA/plaintext.expanded.parquet.gz\n",
            "Reduced memory sage from 417.6138381958008 to 50.274044036865234\n",
            "Loading MSCPROJDATA/expanded.pyencrypted_v1.b32.parquet.gz\n",
            "Reduced memory sage from 417.6138381958008 to 47.575284004211426\n",
            "Loading MSCPROJDATA/plaintext.combined.parquet.gz\n",
            "Reduced memory sage from 417.6138381958008 to 50.274044036865234\n",
            "Loading MSCPROJDATA/expanded.pyencrypted_v1.parquet.gz\n",
            "Reduced memory sage from 417.6138381958008 to 49.19454002380371\n",
            "Loading MSCPROJDATA/expanded.pyencrypted_v2.parquet.gz\n",
            "Reduced memory sage from 417.6138381958008 to 48.65478801727295\n",
            "Loading MSCPROJDATA/expanded.plaintext.base32.parquet.gz\n",
            "Reduced memory sage from 417.6138381958008 to 48.65478801727295\n",
            "Loading MSCPROJDATA/plaintext.base32.combined.parquet.gz\n",
            "Reduced memory sage from 417.6138381958008 to 48.65478801727295\n",
            "Loading MSCPROJDATA/expanded.pyencrypted_v2.base32.parquet.gz\n",
            "Reduced memory sage from 417.6138381958008 to 48.65478801727295\n"
          ]
        }
      ]
    },
    {
      "cell_type": "code",
      "source": [
        "@lru_cache(maxsize=5)\n",
        "def get_train_test_df():\n",
        "    datasets = load_datasets()\n",
        "    df = pd.concat([v for v in datasets.values()])\n",
        "    x_cols = [str(c) for c in df.columns if \"is_encrypted\" != str(c)]\n",
        "    y_cols = \"is_encrypted\"\n",
        "\n",
        "    df = df.sample(frac=1).reset_index(drop=True)\n",
        "    df.fillna(0.0)\n",
        "\n",
        "    X = df[x_cols]\n",
        "    y = df[y_cols]\n",
        "\n",
        "    min_max_scaler = MinMaxScaler()\n",
        "    X = X - X.min()\n",
        "    X = X / X.max()\n",
        "    X_train, X_test, y_train, y_test = train_test_split(X, y, test_size=0.2, random_state=42)\n",
        "\n",
        "    return X_train, X_test, y_train, y_test\n",
        "\n",
        "_ = get_train_test_df()"
      ],
      "metadata": {
        "id": "pMTF4z0nRNxM"
      },
      "execution_count": 50,
      "outputs": []
    },
    {
      "cell_type": "code",
      "source": [
        "class Model:\n",
        "    @staticmethod\n",
        "    def print_and_plot(model):\n",
        "        print(model.summary())\n",
        "        plot = tf.keras.utils.plot_model(\n",
        "            model,\n",
        "            show_shapes=True,\n",
        "            expand_nested=True)\n",
        "        IPython.display.display(plot)\n",
        "\n",
        "    @staticmethod\n",
        "    def create(name:str, columns:list):\n",
        "        X_train, X_test, y_train, y_test = get_train_test_df()\n",
        "        X_train = X_train[columns].to_numpy()\n",
        "\n",
        "        model = tf.keras.Sequential(\n",
        "            [\n",
        "                layers.Dense(8, input_dim=X_train.shape[1], activation='relu', name=\"Dense-8\"),\n",
        "                layers.Dropout(0.2),\n",
        "                layers.Dense(4, activation = 'relu', name=\"Dense-4\"),\n",
        "                layers.Dropout(0.2),\n",
        "                layers.Dense(2, activation = 'relu', name=\"Dense-2\"),\n",
        "                layers.Dense(1, activation = 'sigmoid')\n",
        "            ]\n",
        "        )\n",
        "\n",
        "        model.compile(\\\n",
        "            loss = 'binary_crossentropy',\n",
        "            optimizer = 'adam',\\\n",
        "            metrics = [\n",
        "                tf.keras.metrics.BinaryAccuracy(name='accuracy'),\n",
        "                tf.keras.metrics.Precision(name='precision'),\n",
        "                tf.keras.metrics.Recall(name='recall'),\n",
        "                tfa.metrics.F1Score(num_classes=1, name='f1_score'),\n",
        "            ])\n",
        "            #callbacks = [tf.keras.callbacks.EarlyStopping(monitor=\"val_loss\", patience=5, mode=\"min\")])\n",
        "        \n",
        "        return model\n",
        "\n",
        "    @staticmethod\n",
        "    def train_model(name):\n",
        "        X_train, X_test, y_train, y_test = get_train_test_df()\n",
        "\n",
        "        columns = get_columns()\n",
        "        columns = columns[name]\n",
        "\n",
        "        X_train = X_train[columns]\n",
        "        X_test = X_test[columns]\n",
        "\n",
        "        n_cross_val = X_train.shape[0]\n",
        "        n_train = n_cross_val - n_cross_val // 5\n",
        "        n_cross_val = n_cross_val // 5\n",
        "\n",
        "        X_cross_val = X_train.tail(n_cross_val)\n",
        "        y_cross_val = y_train[-n_cross_val:]\n",
        "\n",
        "        X_train = X_train.head(n_train)\n",
        "        y_train = y_train[:n_train]\n",
        "\n",
        "        es_clbk = tf.keras.callbacks.EarlyStopping(monitor='val_loss', patience=3, mode='min', restore_best_weights=True)\n",
        "\n",
        "        model = Model.create(name, columns)\n",
        "        history = model.fit(X_train, y_train,\n",
        "                            epochs=NUM_EPOCHS,\n",
        "                            validation_data=(X_cross_val, y_cross_val),\n",
        "                            callbacks=[es_clbk],\n",
        "                            batch_size=BATCH_SIZE)\n",
        "        \n",
        "        y_pred = model.predict(X_test)\n",
        "        y_pred = y_pred > 0.5\n",
        "\n",
        "        acc = sklearn.metrics.accuracy_score(y_test, y_pred)\n",
        "        prec = sklearn.metrics.precision_score(y_test, y_pred)\n",
        "        rec = sklearn.metrics.recall_score(y_test, y_pred)\n",
        "        f1 = sklearn.metrics.f1_score(y_test, y_pred)\n",
        "        \n",
        "        return name, model, history, acc, f1, prec, rec"
      ],
      "metadata": {
        "id": "9zQPOcdjNxDS"
      },
      "execution_count": 123,
      "outputs": []
    },
    {
      "cell_type": "code",
      "source": [
        "[k for k in columns.keys()]"
      ],
      "metadata": {
        "colab": {
          "base_uri": "https://localhost:8080/"
        },
        "id": "iX5HQN0vXzC7",
        "outputId": "21ae640f-e6e2-493e-b791-a88e1644e4a5"
      },
      "execution_count": 124,
      "outputs": [
        {
          "output_type": "execute_result",
          "data": {
            "text/plain": [
              "['baseline',\n",
              " 'advanced-only',\n",
              " 'fourier-only',\n",
              " 'baseline-and-fourier',\n",
              " 'advanced-and-fourier',\n",
              " 'advanced',\n",
              " 'fourier',\n",
              " 'all_columns']"
            ]
          },
          "metadata": {},
          "execution_count": 124
        }
      ]
    },
    {
      "cell_type": "code",
      "source": [
        "name, model, history, acc, f1, prec, rec = Model.train_model(\"baseline\")"
      ],
      "metadata": {
        "colab": {
          "base_uri": "https://localhost:8080/"
        },
        "id": "L8FSRCqpQ0Aj",
        "outputId": "99a807a3-0a06-4623-c01e-6d4d5c428a0e"
      },
      "execution_count": 125,
      "outputs": [
        {
          "output_type": "stream",
          "name": "stdout",
          "text": [
            "Epoch 1/20\n",
            "12937/12937 [==============================] - 58s 4ms/step - loss: 0.6434 - accuracy: 0.5922 - precision: 0.5673 - recall: 0.7746 - f1_score: 0.6663 - val_loss: 0.6125 - val_accuracy: 0.6350 - val_precision: 0.5883 - val_recall: 0.9046 - val_f1_score: 0.6677\n",
            "Epoch 2/20\n",
            "12937/12937 [==============================] - 58s 4ms/step - loss: 0.6264 - accuracy: 0.6080 - precision: 0.5801 - recall: 0.7796 - f1_score: 0.6670 - val_loss: 0.6092 - val_accuracy: 0.5748 - val_precision: 0.5916 - val_recall: 0.4897 - val_f1_score: 0.6683\n",
            "Epoch 3/20\n",
            "12937/12937 [==============================] - 57s 4ms/step - loss: 0.6218 - accuracy: 0.6100 - precision: 0.5822 - recall: 0.7767 - f1_score: 0.6693 - val_loss: 0.6037 - val_accuracy: 0.6509 - val_precision: 0.5973 - val_recall: 0.9315 - val_f1_score: 0.6701\n",
            "Epoch 4/20\n",
            "12937/12937 [==============================] - 57s 4ms/step - loss: 0.6205 - accuracy: 0.6104 - precision: 0.5819 - recall: 0.7820 - f1_score: 0.6706 - val_loss: 0.6008 - val_accuracy: 0.5752 - val_precision: 0.5918 - val_recall: 0.4912 - val_f1_score: 0.6712\n",
            "Epoch 5/20\n",
            "12937/12937 [==============================] - 65s 5ms/step - loss: 0.6195 - accuracy: 0.6106 - precision: 0.5815 - recall: 0.7867 - f1_score: 0.6715 - val_loss: 0.6022 - val_accuracy: 0.5753 - val_precision: 0.5924 - val_recall: 0.4892 - val_f1_score: 0.6715\n",
            "Epoch 6/20\n",
            "12937/12937 [==============================] - 57s 4ms/step - loss: 0.6192 - accuracy: 0.6091 - precision: 0.5738 - recall: 0.8460 - f1_score: 0.6714 - val_loss: 0.5942 - val_accuracy: 0.6469 - val_precision: 0.5888 - val_recall: 0.9793 - val_f1_score: 0.6722\n",
            "Epoch 7/20\n",
            "12937/12937 [==============================] - 58s 4ms/step - loss: 0.6075 - accuracy: 0.6266 - precision: 0.5750 - recall: 0.9689 - f1_score: 0.6737 - val_loss: 0.5939 - val_accuracy: 0.6445 - val_precision: 0.5859 - val_recall: 0.9910 - val_f1_score: 0.6740\n",
            "Epoch 8/20\n",
            "12937/12937 [==============================] - 58s 4ms/step - loss: 0.6066 - accuracy: 0.6278 - precision: 0.5747 - recall: 0.9806 - f1_score: 0.6751 - val_loss: 0.5924 - val_accuracy: 0.6466 - val_precision: 0.5875 - val_recall: 0.9899 - val_f1_score: 0.6746\n",
            "Epoch 9/20\n",
            "12937/12937 [==============================] - 57s 4ms/step - loss: 0.6064 - accuracy: 0.6283 - precision: 0.5751 - recall: 0.9805 - f1_score: 0.6745 - val_loss: 0.5921 - val_accuracy: 0.6464 - val_precision: 0.5876 - val_recall: 0.9876 - val_f1_score: 0.6743\n",
            "Epoch 10/20\n",
            "12937/12937 [==============================] - 57s 4ms/step - loss: 0.6062 - accuracy: 0.6285 - precision: 0.5752 - recall: 0.9803 - f1_score: 0.6748 - val_loss: 0.5933 - val_accuracy: 0.6411 - val_precision: 0.5873 - val_recall: 0.9544 - val_f1_score: 0.6757\n",
            "Epoch 11/20\n",
            "12937/12937 [==============================] - 57s 4ms/step - loss: 0.6063 - accuracy: 0.6281 - precision: 0.5750 - recall: 0.9798 - f1_score: 0.6745 - val_loss: 0.5899 - val_accuracy: 0.6476 - val_precision: 0.5887 - val_recall: 0.9851 - val_f1_score: 0.6754\n",
            "Epoch 12/20\n",
            "12937/12937 [==============================] - 57s 4ms/step - loss: 0.6056 - accuracy: 0.6294 - precision: 0.5759 - recall: 0.9797 - f1_score: 0.6744 - val_loss: 0.5899 - val_accuracy: 0.6476 - val_precision: 0.5887 - val_recall: 0.9849 - val_f1_score: 0.6749\n",
            "Epoch 13/20\n",
            "12937/12937 [==============================] - 57s 4ms/step - loss: 0.6061 - accuracy: 0.6285 - precision: 0.5752 - recall: 0.9807 - f1_score: 0.6742 - val_loss: 0.5913 - val_accuracy: 0.6456 - val_precision: 0.5889 - val_recall: 0.9697 - val_f1_score: 0.6762\n",
            "Epoch 14/20\n",
            "12937/12937 [==============================] - 57s 4ms/step - loss: 0.6056 - accuracy: 0.6289 - precision: 0.5755 - recall: 0.9797 - f1_score: 0.6747 - val_loss: 0.5890 - val_accuracy: 0.6480 - val_precision: 0.5895 - val_recall: 0.9804 - val_f1_score: 0.6749\n",
            "Epoch 15/20\n",
            "12937/12937 [==============================] - 57s 4ms/step - loss: 0.6055 - accuracy: 0.6291 - precision: 0.5757 - recall: 0.9797 - f1_score: 0.6746 - val_loss: 0.5908 - val_accuracy: 0.6457 - val_precision: 0.5885 - val_recall: 0.9735 - val_f1_score: 0.6751\n",
            "Epoch 16/20\n",
            "12937/12937 [==============================] - 57s 4ms/step - loss: 0.6058 - accuracy: 0.6288 - precision: 0.5753 - recall: 0.9817 - f1_score: 0.6744 - val_loss: 0.5911 - val_accuracy: 0.6448 - val_precision: 0.5881 - val_recall: 0.9725 - val_f1_score: 0.6743\n",
            "Epoch 17/20\n",
            "12937/12937 [==============================] - 57s 4ms/step - loss: 0.6063 - accuracy: 0.6287 - precision: 0.5753 - recall: 0.9815 - f1_score: 0.6741 - val_loss: 0.5896 - val_accuracy: 0.6476 - val_precision: 0.5888 - val_recall: 0.9841 - val_f1_score: 0.6745\n"
          ]
        }
      ]
    },
    {
      "cell_type": "code",
      "source": [
        "print(acc, f1, prec, rec)"
      ],
      "metadata": {
        "colab": {
          "base_uri": "https://localhost:8080/"
        },
        "id": "spXq2MEEZC5c",
        "outputId": "e8cf3fbe-4570-4ae3-8a99-54ccd3512b0e"
      },
      "execution_count": 126,
      "outputs": [
        {
          "output_type": "stream",
          "name": "stdout",
          "text": [
            "0.646318556023654 0.7349499490221522 0.5880144605116796 0.9797819102928457\n"
          ]
        }
      ]
    },
    {
      "cell_type": "code",
      "source": [
        "name, model, history, acc, f1, prec, rec = Model.train_model(\"advanced\")\n",
        "print(acc, f1, prec, rec)"
      ],
      "metadata": {
        "colab": {
          "base_uri": "https://localhost:8080/"
        },
        "id": "p8wUUEZSgPu5",
        "outputId": "86dc219d-6def-4cf2-fa52-b46dca2cb968"
      },
      "execution_count": 127,
      "outputs": [
        {
          "output_type": "stream",
          "name": "stdout",
          "text": [
            "Epoch 1/20\n",
            "12937/12937 [==============================] - 59s 4ms/step - loss: 0.5917 - accuracy: 0.6646 - precision: 0.6205 - recall: 0.8460 - f1_score: 0.6689 - val_loss: 0.3823 - val_accuracy: 0.8175 - val_precision: 0.7523 - val_recall: 0.9480 - val_f1_score: 0.6778\n",
            "Epoch 2/20\n",
            "12937/12937 [==============================] - 58s 5ms/step - loss: 0.4439 - accuracy: 0.7738 - precision: 0.7212 - recall: 0.8920 - f1_score: 0.6792 - val_loss: 0.3745 - val_accuracy: 0.7828 - val_precision: 0.7050 - val_recall: 0.9744 - val_f1_score: 0.6787\n",
            "Epoch 3/20\n",
            "12937/12937 [==============================] - 57s 4ms/step - loss: 0.3991 - accuracy: 0.7922 - precision: 0.7568 - recall: 0.8605 - f1_score: 0.6874 - val_loss: 0.3674 - val_accuracy: 0.8098 - val_precision: 0.7314 - val_recall: 0.9806 - val_f1_score: 0.6777\n",
            "Epoch 4/20\n",
            "12937/12937 [==============================] - 57s 4ms/step - loss: 0.4023 - accuracy: 0.7875 - precision: 0.7449 - recall: 0.8741 - f1_score: 0.6995 - val_loss: 0.3809 - val_accuracy: 0.7829 - val_precision: 0.6980 - val_recall: 0.9991 - val_f1_score: 0.6905\n",
            "Epoch 5/20\n",
            "12937/12937 [==============================] - 58s 5ms/step - loss: 0.4021 - accuracy: 0.7868 - precision: 0.7422 - recall: 0.8785 - f1_score: 0.7082 - val_loss: 0.4290 - val_accuracy: 0.7729 - val_precision: 0.6882 - val_recall: 1.0000 - val_f1_score: 0.6787\n",
            "Epoch 6/20\n",
            "12937/12937 [==============================] - 57s 4ms/step - loss: 0.3960 - accuracy: 0.7850 - precision: 0.7440 - recall: 0.8684 - f1_score: 0.6946 - val_loss: 0.3668 - val_accuracy: 0.7915 - val_precision: 0.7063 - val_recall: 0.9994 - val_f1_score: 0.6828\n",
            "Epoch 7/20\n",
            "12937/12937 [==============================] - 58s 4ms/step - loss: 0.3832 - accuracy: 0.7941 - precision: 0.7461 - recall: 0.8911 - f1_score: 0.6953 - val_loss: 0.3490 - val_accuracy: 0.7958 - val_precision: 0.7109 - val_recall: 0.9987 - val_f1_score: 0.7947\n",
            "Epoch 8/20\n",
            "12937/12937 [==============================] - 57s 4ms/step - loss: 0.3692 - accuracy: 0.7990 - precision: 0.7494 - recall: 0.8979 - f1_score: 0.7266 - val_loss: 0.4124 - val_accuracy: 0.7719 - val_precision: 0.6873 - val_recall: 0.9996 - val_f1_score: 0.7704\n",
            "Epoch 9/20\n",
            "12937/12937 [==============================] - 57s 4ms/step - loss: 0.3698 - accuracy: 0.7985 - precision: 0.7471 - recall: 0.9019 - f1_score: 0.7256 - val_loss: 0.3618 - val_accuracy: 0.7788 - val_precision: 0.6938 - val_recall: 0.9999 - val_f1_score: 0.6799\n",
            "Epoch 10/20\n",
            "12937/12937 [==============================] - 57s 4ms/step - loss: 0.3793 - accuracy: 0.7933 - precision: 0.7393 - recall: 0.9055 - f1_score: 0.6988 - val_loss: 0.3880 - val_accuracy: 0.7729 - val_precision: 0.6882 - val_recall: 1.0000 - val_f1_score: 0.6802\n",
            "0.795485641402234 0.8301806861580923 0.7102502992828195 0.9988415914988261\n"
          ]
        }
      ]
    },
    {
      "cell_type": "code",
      "source": [
        "name, model, history, acc, f1, prec, rec = Model.train_model(\"fourier\")\n",
        "print(acc, f1, prec, rec)"
      ],
      "metadata": {
        "colab": {
          "base_uri": "https://localhost:8080/"
        },
        "id": "k_bxl-5sm3hu",
        "outputId": "da4ca910-2f61-4c48-b5e6-7d5142cd4a52"
      },
      "execution_count": 128,
      "outputs": [
        {
          "output_type": "stream",
          "name": "stdout",
          "text": [
            "Epoch 1/20\n",
            "12937/12937 [==============================] - 57s 4ms/step - loss: 0.4941 - accuracy: 0.7442 - precision: 0.6837 - recall: 0.9083 - f1_score: 0.6740 - val_loss: 0.3409 - val_accuracy: 0.8234 - val_precision: 0.7468 - val_recall: 0.9799 - val_f1_score: 0.6829\n",
            "Epoch 2/20\n",
            "12937/12937 [==============================] - 57s 4ms/step - loss: 0.3967 - accuracy: 0.8015 - precision: 0.7293 - recall: 0.9586 - f1_score: 0.6896 - val_loss: 0.3273 - val_accuracy: 0.8326 - val_precision: 0.7598 - val_recall: 0.9739 - val_f1_score: 0.6883\n",
            "Epoch 3/20\n",
            "12937/12937 [==============================] - 56s 4ms/step - loss: 0.3875 - accuracy: 0.8036 - precision: 0.7335 - recall: 0.9533 - f1_score: 0.6948 - val_loss: 0.3230 - val_accuracy: 0.8306 - val_precision: 0.7511 - val_recall: 0.9898 - val_f1_score: 0.6911\n",
            "Epoch 4/20\n",
            "12937/12937 [==============================] - 56s 4ms/step - loss: 0.3760 - accuracy: 0.8028 - precision: 0.7354 - recall: 0.9454 - f1_score: 0.7046 - val_loss: 0.3154 - val_accuracy: 0.8277 - val_precision: 0.7475 - val_recall: 0.9908 - val_f1_score: 0.7157\n",
            "Epoch 5/20\n",
            "12937/12937 [==============================] - 56s 4ms/step - loss: 0.3578 - accuracy: 0.8111 - precision: 0.7413 - recall: 0.9553 - f1_score: 0.7254 - val_loss: 0.3302 - val_accuracy: 0.8262 - val_precision: 0.7548 - val_recall: 0.9674 - val_f1_score: 0.6877\n",
            "Epoch 6/20\n",
            "12937/12937 [==============================] - 56s 4ms/step - loss: 0.3617 - accuracy: 0.8091 - precision: 0.7402 - recall: 0.9522 - f1_score: 0.7290 - val_loss: 0.3127 - val_accuracy: 0.8287 - val_precision: 0.7531 - val_recall: 0.9790 - val_f1_score: 0.8025\n",
            "Epoch 7/20\n",
            "12937/12937 [==============================] - 56s 4ms/step - loss: 0.3539 - accuracy: 0.8136 - precision: 0.7427 - recall: 0.9591 - f1_score: 0.7376 - val_loss: 0.3397 - val_accuracy: 0.8202 - val_precision: 0.7617 - val_recall: 0.9332 - val_f1_score: 0.8041\n",
            "Epoch 8/20\n",
            "12937/12937 [==============================] - 56s 4ms/step - loss: 0.3533 - accuracy: 0.8137 - precision: 0.7444 - recall: 0.9550 - f1_score: 0.7379 - val_loss: 0.3035 - val_accuracy: 0.8323 - val_precision: 0.7538 - val_recall: 0.9882 - val_f1_score: 0.7897\n",
            "Epoch 9/20\n",
            "12937/12937 [==============================] - 56s 4ms/step - loss: 0.3505 - accuracy: 0.8151 - precision: 0.7458 - recall: 0.9557 - f1_score: 0.7376 - val_loss: 0.3049 - val_accuracy: 0.8298 - val_precision: 0.7549 - val_recall: 0.9778 - val_f1_score: 0.7423\n",
            "Epoch 10/20\n",
            "12937/12937 [==============================] - 57s 4ms/step - loss: 0.3491 - accuracy: 0.8167 - precision: 0.7461 - recall: 0.9597 - f1_score: 0.7377 - val_loss: 0.3027 - val_accuracy: 0.8328 - val_precision: 0.7556 - val_recall: 0.9849 - val_f1_score: 0.7275\n",
            "Epoch 11/20\n",
            "12937/12937 [==============================] - 56s 4ms/step - loss: 0.3473 - accuracy: 0.8174 - precision: 0.7486 - recall: 0.9554 - f1_score: 0.7346 - val_loss: 0.3028 - val_accuracy: 0.8335 - val_precision: 0.7564 - val_recall: 0.9849 - val_f1_score: 0.7077\n",
            "Epoch 12/20\n",
            "12937/12937 [==============================] - 56s 4ms/step - loss: 0.3441 - accuracy: 0.8185 - precision: 0.7511 - recall: 0.9523 - f1_score: 0.7350 - val_loss: 0.3038 - val_accuracy: 0.8330 - val_precision: 0.7536 - val_recall: 0.9906 - val_f1_score: 0.7696\n",
            "Epoch 13/20\n",
            "12937/12937 [==============================] - 56s 4ms/step - loss: 0.3440 - accuracy: 0.8188 - precision: 0.7530 - recall: 0.9485 - f1_score: 0.7340 - val_loss: 0.3159 - val_accuracy: 0.8264 - val_precision: 0.7562 - val_recall: 0.9644 - val_f1_score: 0.7295\n",
            "0.8318401422332161 0.8542465092595074 0.7543546173143371 0.9846317805510936\n"
          ]
        }
      ]
    },
    {
      "cell_type": "code",
      "source": [
        ""
      ],
      "metadata": {
        "id": "KJ76r3tam6cp"
      },
      "execution_count": null,
      "outputs": []
    }
  ]
}