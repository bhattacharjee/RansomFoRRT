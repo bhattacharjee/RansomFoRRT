{
  "nbformat": 4,
  "nbformat_minor": 0,
  "metadata": {
    "colab": {
      "name": "deep-ann-v1.ipynb",
      "provenance": [],
      "machine_shape": "hm",
      "authorship_tag": "ABX9TyPgA7EJZ/SJBzYcWpgANRp7",
      "include_colab_link": true
    },
    "kernelspec": {
      "name": "python3",
      "display_name": "Python 3"
    },
    "language_info": {
      "name": "python"
    },
    "accelerator": "GPU"
  },
  "cells": [
    {
      "cell_type": "markdown",
      "metadata": {
        "id": "view-in-github",
        "colab_type": "text"
      },
      "source": [
        "<a href=\"https://colab.research.google.com/github/bhattacharjee/msc-ai-project/blob/main/DeepANN/deep_ann_v1.ipynb\" target=\"_parent\"><img src=\"https://colab.research.google.com/assets/colab-badge.svg\" alt=\"Open In Colab\"/></a>"
      ]
    },
    {
      "cell_type": "code",
      "execution_count": 1,
      "metadata": {
        "colab": {
          "base_uri": "https://localhost:8080/"
        },
        "id": "mQP4gxMADtVr",
        "outputId": "cc9a8ce5-95dd-4f23-f978-a74195b411ff"
      },
      "outputs": [
        {
          "output_type": "stream",
          "name": "stdout",
          "text": [
            "Drive already mounted at /content/drive; to attempt to forcibly remount, call drive.mount(\"/content/drive\", force_remount=True).\n"
          ]
        }
      ],
      "source": [
        "USE_FLOAT32 = True\n",
        "REDUCE_DF_SIZE = True\n",
        "\n",
        "\n",
        "import tensorflow as tf\n",
        "from keras.utils import np_utils\n",
        "import numpy as np\n",
        "import pandas as pd\n",
        "import seaborn as sns\n",
        "import matplotlib.pyplot as plt\n",
        "import logging, sys, random, glob\n",
        "from google.colab import drive\n",
        "from functools import lru_cache\n",
        "import sklearn\n",
        "from sklearn.model_selection import train_test_split\n",
        "\n",
        "from tensorflow import keras as K\n",
        "import matplotlib.pyplot as plt\n",
        "import numpy as np\n",
        "import pandas as pd\n",
        "import tensorflow as tf\n",
        "\n",
        "from sklearn.metrics import accuracy_score, precision_score, recall_score\n",
        "from sklearn.model_selection import train_test_split\n",
        "from tensorflow.keras import layers, losses\n",
        "from tensorflow.keras.datasets import fashion_mnist\n",
        "from tensorflow.keras.models import Model\n",
        "import IPython\n",
        "\n",
        "from sklearn import svm, datasets\n",
        "from sklearn.metrics import roc_curve, auc\n",
        "from sklearn.metrics import roc_auc_score\n",
        "\n",
        "import gc\n",
        "\n",
        "\n",
        "drive.mount(\"/content/drive\")\n",
        "\n",
        "def set_random_seed():\n",
        "    np.random.seed(1)\n",
        "    random.seed(1)\n",
        "    tf.random.set_seed(1)\n",
        "\n",
        "root = logging.getLogger()\n",
        "root.setLevel(logging.INFO)\n",
        "handler = logging.StreamHandler(sys.stdout)\n",
        "handler.setLevel(logging.DEBUG)\n",
        "formatter = logging.Formatter('%(asctime)s - %(name)s - %(levelname)s - %(message)s')\n",
        "handler.setFormatter(formatter)\n",
        "root.addHandler(handler)\n",
        "\n",
        "!if [[ ! -d /content/drive/MyDrive/MSCPROJDATA ]]; then cp -r /content/drive/MyDrive/MSCPROJDATA .; fi"
      ]
    },
    {
      "cell_type": "code",
      "source": [
        "dataset_names = [\"baseline\", \"advanced-only\", \"fourier-only\", \"baseline-and-fourier\", \"advanced-and-fourier\", \"advanced\", \"fourier\"]\n",
        "def get_columns(thisdf):\n",
        "    baseline_columns = [c for c in thisdf.columns if c.startswith('baseline') and \"head\" not in c and \"tail\" not in c]\n",
        "    baseline_columns = [c for c in baseline_columns if \"filesize\" not in c]\n",
        "    baseline_columns = [c for c in baseline_columns if \"begin\" not in c and \"end\" not in c]\n",
        "\n",
        "    advanced_columns = [c for c in thisdf.columns if \"advanced\" in c]\n",
        "    advanced_columns = [c for c in advanced_columns if \"begin\" not in c and \"end\" not in c]\n",
        "    advanced_columns = [c for c in advanced_columns if \"head\" not in c and \"tail\" not in c]\n",
        "    advanced_columns = [c for c in advanced_columns if \"start\" not in c]\n",
        "    advanced_columns_only = list(set(advanced_columns))\n",
        "    advanced_columns = list(set(advanced_columns + baseline_columns))\n",
        "\n",
        "    fourier_columns = [c for c in thisdf.columns if \"fourier\" in c and \"value\" not in c]\n",
        "    fourier_columns = [c for c in fourier_columns if \"1byte\" in c]\n",
        "    fourier_columns = [c for c in fourier_columns if \"begin\" not in c and \"end\" not in c]\n",
        "    fourier_columns = [c for c in fourier_columns if \"head\" not in c and \"tail\" not in c]\n",
        "    fourier_columns = [c for c in fourier_columns if \"start\" not in c]\n",
        "    fourier_columns_only = list(set(fourier_columns))\n",
        "    fourier_columns = list(set(advanced_columns + fourier_columns))\n",
        "    \n",
        "    baseline_and_advanced = list(set(baseline_columns + advanced_columns_only))\n",
        "    baseline_and_fourier = list(set(baseline_columns + fourier_columns_only))\n",
        "    advanced_and_fourier = list(set(advanced_columns_only + fourier_columns_only))\n",
        "\n",
        "    all_columns = [c for c in thisdf.columns]\n",
        "    \n",
        "    return {\\\n",
        "        \"baseline\": baseline_columns,\\\n",
        "        \"advanced-only\": advanced_columns_only,\\\n",
        "        \"fourier-only\": fourier_columns_only,\\\n",
        "        \"baseline-and-fourier\": baseline_and_fourier,\\\n",
        "        \"advanced-and-fourier\": advanced_and_fourier,\\\n",
        "        \"advanced\": advanced_columns,\\\n",
        "        \"fourier\": fourier_columns,\\\n",
        "        \"all_columns\": all_columns,\n",
        "    }\n",
        "\n",
        "\n",
        "def reduce_df_size(df):\n",
        "    original_usage = df.memory_usage().sum() / (1024**2)\n",
        "    for col in df.columns:\n",
        "        if \"fourier.value\" in col or \\\n",
        "            \"tail\" in col or \\\n",
        "            \"head\" in col or \\\n",
        "            \"end\" in col or \\\n",
        "            \"begin\" in col:\n",
        "            df.drop([col], axis=1, inplace=True)\n",
        "            continue\n",
        "        if USE_FLOAT32:\n",
        "            if \"float64\" in str(df[col].dtype):\n",
        "                df[col] = df[col].astype('float32')\n",
        "        elif \"int64\" in str(df[col].dtype):\n",
        "            df[col] = df[col].astype(\"int8\")\n",
        "    new_usage = df.memory_usage().sum() / (1024**2)\n",
        "    print(f\"Reduced memory sage from {original_usage} to {new_usage}\")\n",
        "    return df\n",
        "\n",
        "def call_gc():\n",
        "    for i in range(3):\n",
        "        for j in range(3):\n",
        "            gc.collect(j)\n",
        "\n",
        "@lru_cache(maxsize=5)\n",
        "def load_datasets():\n",
        "    datasets = dict()\n",
        "    for file in glob.glob(\"MSCPROJDATA/**.parquet.gz\", recursive=True):\n",
        "        if not file.startswith(\"MSCPROJDATA/n1\"):\n",
        "            print(f\"Loading {file}\")\n",
        "            df = pd.read_parquet(file)\n",
        "            datasets[file] = df\n",
        "            df[\"is_encrypted\"] = 1 if \"encr\" in file.lower() else 0\n",
        "    \n",
        "            if REDUCE_DF_SIZE:\n",
        "                df = reduce_df_size(df)\n",
        "\n",
        "            df = df.sample(frac=1).reset_index(drop=True)\n",
        "            datasets[file] = df\n",
        "            call_gc()\n",
        "\n",
        "    return datasets\n",
        "\n",
        "_ = load_datasets()\n"
      ],
      "metadata": {
        "colab": {
          "base_uri": "https://localhost:8080/"
        },
        "id": "UxRiyNG5EAiU",
        "outputId": "cf02a39b-33d0-49c4-821f-72a44c75d0f9"
      },
      "execution_count": null,
      "outputs": [
        {
          "output_type": "stream",
          "name": "stdout",
          "text": [
            "Loading MSCPROJDATA/plaintext.expanded.parquet.gz\n",
            "Reduced memory sage from 417.6138381958008 to 27.75867462158203\n",
            "Loading MSCPROJDATA/expanded.pyencrypted_v1.b32.parquet.gz\n",
            "Reduced memory sage from 417.6138381958008 to 29.300823211669922\n",
            "Loading MSCPROJDATA/plaintext.combined.parquet.gz\n"
          ]
        }
      ]
    },
    {
      "cell_type": "code",
      "source": [
        ""
      ],
      "metadata": {
        "id": "XP0qLonaFJnI"
      },
      "execution_count": null,
      "outputs": []
    }
  ]
}