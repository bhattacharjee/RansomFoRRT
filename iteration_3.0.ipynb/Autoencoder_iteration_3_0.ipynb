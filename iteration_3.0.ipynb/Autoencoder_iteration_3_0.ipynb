{
  "nbformat": 4,
  "nbformat_minor": 0,
  "metadata": {
    "colab": {
      "name": "Autoencoder_iteration_3.0",
      "provenance": [],
      "machine_shape": "hm",
      "authorship_tag": "ABX9TyOm/sPA+q3GicgJoyoSuWBH",
      "include_colab_link": true
    },
    "kernelspec": {
      "name": "python3",
      "display_name": "Python 3"
    },
    "language_info": {
      "name": "python"
    },
    "accelerator": "GPU"
  },
  "cells": [
    {
      "cell_type": "markdown",
      "metadata": {
        "id": "view-in-github",
        "colab_type": "text"
      },
      "source": [
        "<a href=\"https://colab.research.google.com/github/bhattacharjee/msc-ai-project/blob/main/iteration_3.0.ipynb/Autoencoder_iteration_3_0.ipynb\" target=\"_parent\"><img src=\"https://colab.research.google.com/assets/colab-badge.svg\" alt=\"Open In Colab\"/></a>"
      ]
    },
    {
      "cell_type": "code",
      "execution_count": 5,
      "metadata": {
        "id": "0crS396ZON0G",
        "colab": {
          "base_uri": "https://localhost:8080/"
        },
        "outputId": "e372f1c9-8fb8-4977-9f46-0d8ad0fbdf24"
      },
      "outputs": [
        {
          "output_type": "stream",
          "name": "stdout",
          "text": [
            "Drive already mounted at /content/drive; to attempt to forcibly remount, call drive.mount(\"/content/drive\", force_remount=True).\n"
          ]
        }
      ],
      "source": [
        "import tensorflow as tf\n",
        "from keras.utils import np_utils\n",
        "import numpy as np\n",
        "import pandas as pd\n",
        "import seaborn as sns\n",
        "import matplotlib.pyplot as plt\n",
        "import logging, sys, random, glob\n",
        "from google.colab import drive\n",
        "from functools import lru_cache\n",
        "\n",
        "drive.mount(\"/content/drive\")\n",
        "\n",
        "def set_random_seed():\n",
        "    np.random.seed(1)\n",
        "    random.seed(1)\n",
        "    tf.random.set_seed(1)\n",
        "\n",
        "root = logging.getLogger()\n",
        "root.setLevel(logging.INFO)\n",
        "handler = logging.StreamHandler(sys.stdout)\n",
        "handler.setLevel(logging.DEBUG)\n",
        "formatter = logging.Formatter('%(asctime)s - %(name)s - %(levelname)s - %(message)s')\n",
        "handler.setFormatter(formatter)\n",
        "root.addHandler(handler)\n",
        "\n",
        "!cp -r /content/drive/MyDrive/MSCPROJDATA ."
      ]
    },
    {
      "cell_type": "code",
      "source": [
        "!ls MSCPROJDATA\n",
        "!pwd"
      ],
      "metadata": {
        "colab": {
          "base_uri": "https://localhost:8080/"
        },
        "id": "ngllRAHiPwdP",
        "outputId": "0412d867-cdcf-4de2-f3e8-caeaa5ce1fd1"
      },
      "execution_count": 6,
      "outputs": [
        {
          "output_type": "stream",
          "name": "stdout",
          "text": [
            "expanded.plaintext.base32.parquet.gz\t   expanded.pyencrypted_v2.parquet.gz\n",
            "expanded.pyencrypted_v1.b32.parquet.gz\t   plaintext.base32.combined.parquet.gz\n",
            "expanded.pyencrypted_v1.parquet.gz\t   plaintext.combined.parquet.gz\n",
            "expanded.pyencrypted_v2.base32.parquet.gz  plaintext.expanded.parquet.gz\n",
            "/content\n"
          ]
        }
      ]
    },
    {
      "cell_type": "code",
      "source": [
        "def make_layer(shape:list, layername:str)->tf.Variable:\n",
        "    return tf.Variable(\\\n",
        "        tf.random.normal(\\\n",
        "            shape,\n",
        "            mean=0,\n",
        "            stddev=0.05,\n",
        "            dtypt=tf.dtypes.float32),\n",
        "        name=layername)\n",
        "    \n",
        "def softmax(a:tf.Tensor, axis:int=None)->tf.Tensor:\n",
        "    t = tf.math.exp(a)\n",
        "    s = tf.reduce_sum(t, axis=0)\n",
        "    return tf.math.divide(t, s)\n",
        "\n",
        "# This function implements the cross-entropy loss\n",
        "def cross_entropy(y_true, y_pred)->tf.Tensor:\n",
        "  # First clip the values to 1.0 x 10^(-8) because if there\n",
        "  # are any values which are 0, then this will cause an error\n",
        "  y_pred = tf.clip_by_value(y_pred, \\\n",
        "                            clip_value_min=1.0e-10, \\\n",
        "                            clip_value_max=tf.reduce_max(y_pred))\n",
        "  y_pred = tf.math.multiply(y_true, tf.math.log(y_pred))\n",
        "  y_pred = tf.multiply(y_pred, -1)\n",
        "  # Find the average cross entropy, divide by number of samples\n",
        "  divisor = y_pred.shape[1] if len(y_pred.shape) > 1 else 1\n",
        "  y_pred = tf.math.divide(tf.reduce_sum(y_pred), divisor)\n",
        "  return y_pred\n",
        "\n",
        "# This function gets the accuracy\n",
        "def accuracy(y_true:tf.Tensor, y_pred:tf.Tensor)->float:\n",
        "  logging.debug(\"y_true = \" + str(y_true.shape) + \\\n",
        "                \" y_pred = \" + str(y_pred.shape))\n",
        "  y_true = tf.transpose(y_true)\n",
        "  logging.debug(\"y_true = \" + str(y_true.shape) + \\\n",
        "                \" y_pred = \" + str(y_pred.shape))\n",
        "  eq = tf.math.equal(y_true, y_pred)\n",
        "  return float(eq[eq == True].shape[0]) / float(eq.shape[0])\n",
        "\n",
        "# This function finds the mean absolute error\n",
        "def mean_absolute_error(y_true:tf.Tensor, y_pred:tf.Tensor)->tf.Variable:\n",
        "  y_true = tf.transpose(y_true)\n",
        "  logging.debug(y_true.shape, y_pred.shape)\n",
        "  abs_dist = tf.math.abs(tf.math.subtract(y_true, y_pred))\n",
        "  return tf.reduce_mean(abs_dist)\n",
        "\n",
        "# This function finds the mean square error\n",
        "def mean_square_error(y_true:tf.Tensor, y_pred:tf.Tensor)->tf.Variable:\n",
        "  return tf.reduce_mean(tf.math.squared_difference(y_true, y_pred))\n",
        "\n",
        "\n",
        "# Neural network class for reuse\n",
        "class NeuralNetwork(object):\n",
        "\n",
        "  def __init__(self, network, dropout_probability=0.3):\n",
        "    # the network contains the matrices that describe each layer\n",
        "    self.network = network\n",
        "    # The dropout probability\n",
        "    self.prob_dropout = dropout_probability\n",
        "    # Store the result of each iteration\n",
        "    self.iterations = []\n",
        "    self.train_accuracies = []\n",
        "    self.test_accuracies = []\n",
        "    self.train_losses = []\n",
        "    self.test_losses = []\n",
        "\n",
        "  def print_drop_matrix_stat(self, d:tf.Tensor)->None:\n",
        "    ones = tf.ones(shape=d.shape)\n",
        "    all = tf.reduce_sum(ones)\n",
        "    this = tf.reduce_sum(d)\n",
        "    logging.debug(tf.divide(this, all))\n",
        "\n",
        "  # A slight variation of convention is used here, the dropout is applied to\n",
        "  # the input of a layer, rather than the output. This doesn't make any\n",
        "  # difference as the definition of the model is changed to achieve the same\n",
        "  # result\n",
        "  def get_dropout_input(self, input:tf.Tensor)->tf.Tensor:\n",
        "    prob_dropout = self.prob_dropout\n",
        "    prob_threshold = 1 - prob_dropout\n",
        "    drop_matrix = tf.random.uniform(shape=input.shape, minval=0,  maxval=1)\n",
        "    drop_matrix = tf.math.less(drop_matrix, prob_threshold)\n",
        "    drop_matrix = tf.cast(drop_matrix, dtype=tf.float32)\n",
        "    input = tf.math.multiply(input, drop_matrix)\n",
        "    input = tf.math.divide(input, prob_threshold)\n",
        "    return input\n",
        "\n",
        "  # The forward pass function, pushes the input through all the layers\n",
        "  # the parameter layers is a list of tuples, each tuple is of the form\n",
        "  # (\n",
        "  #    weight-matrix:list,\n",
        "  #    bias-matrix:list,\n",
        "  #    activation_function, \n",
        "  #    is_dropout_enabled:bool\n",
        "  # )\n",
        "  def forward_pass(self, tr_x, tr_y, layers:list):\n",
        "    input = tf.transpose(tr_x)\n",
        "    for weight, bias, activation, dropout in layers:\n",
        "        # If dropout is enabled on the layer, apply dropout on the input\n",
        "        if dropout:\n",
        "          input = self.get_dropout_input(input)\n",
        "        input = activation(tf.matmul(weight, input) + bias)\n",
        "    return input\n",
        "  \n",
        "  def predict(self, tr_x, tr_y):\n",
        "    input = tf.transpose(tr_x)\n",
        "    for weight, bias, activation, dropout in self.network:\n",
        "      input = activation(tf.matmul(weight, input) + bias)\n",
        "    return input\n",
        "  \n",
        "  \"\"\"\n",
        "  Take a network which is a list of tuples, and flatten it\n",
        "  to a list, so that we can call adam and gradient on it without \n",
        "  without any ugly code\n",
        "  \"\"\"\n",
        "  def flatten_network(self, network:list)->list:\n",
        "    out = []\n",
        "    for weight, bias, act, dropout in network:\n",
        "      out.append(weight)\n",
        "      out.append(bias)\n",
        "    return out\n",
        "  \n",
        "  \"\"\"\n",
        "  Use the adam optimizer to optimize a network based on the \n",
        "  gradients passed to it\n",
        "  \"\"\"\n",
        "  def optimize_network(self, network:list, gradients:list)->None:\n",
        "    adam_optimizer = tf.keras.optimizers.Adam()\n",
        "    learnable_array = []\n",
        "    adam_optimizer.apply_gradients(zip(gradients, \\\n",
        "                                       self.flatten_network(network)))\n",
        "  \n",
        "  def should_log(self, i:int, iterations:int):\n",
        "    return (i == (iterations - 1)) or all([i == '0' for i in list(str(i)[1:])])\n",
        "  \n",
        "  \"\"\"\n",
        "  Train the network for a given number of iterations\n",
        "  \"\"\"\n",
        "  def train_network(self, \\\n",
        "                    iterations:int, \\\n",
        "                    tr_x:tf.Tensor, tr_y:tf.Tensor, \\\n",
        "                    te_x:tf.Tensor, te_y:tf.Tensor, \\\n",
        "                    loss_fn, acc_fn, \\\n",
        "                    do_logging=True, \\\n",
        "                    use_argmax=True)->None:\n",
        "    for i in range(iterations):\n",
        "\n",
        "      # Call forward pass on the network and use the gradient tape\n",
        "      with tf.GradientTape() as tape:\n",
        "        y_pred = self.forward_pass(tr_x, tr_y, self.network)\n",
        "        loss = loss_fn(tr_y, y_pred)\n",
        "      gradients = tape.gradient(loss, self.flatten_network(self.network))\n",
        "\n",
        "      # Record the training accuracy before updating the weights\n",
        "      if (use_argmax):\n",
        "        tr_acc = acc = acc_fn(tf.argmax(tr_y), tf.argmax(y_pred)) \\\n",
        "                if None != acc_fn else float(\"NaN\")\n",
        "      else:\n",
        "        tr_acc = acc = acc_fn(tr_y, y_pred) if None != acc_fn else float(\"NaN\")\n",
        "      tr_loss = loss\n",
        "\n",
        "      # Log the same if required\n",
        "      if do_logging and self.should_log(i, iterations):\n",
        "        printstr = f\"Iteration {i:5d}  TRAIN LOSS - {loss:5.5f}  \"\n",
        "        printstr = printstr + f\"TRAIN ACCURACY - {acc:5.5f}\"\n",
        "\n",
        "      # Now run the prediction on the test set, and record the accuracy\n",
        "      # We haven't updated the weights yet\n",
        "      y_pred = self.predict(te_x, te_y)\n",
        "      te_loss = loss = loss_fn(te_y, y_pred)\n",
        "      if (use_argmax):\n",
        "        te_acc = acc = acc_fn(tf.argmax(te_y), tf.argmax(y_pred)) \\\n",
        "                if None != acc_fn else float(\"NaN\")\n",
        "      else:\n",
        "        te_acc = acc = acc_fn(te_y, y_pred) if None != acc_fn else float(\"NaN\")\n",
        "\n",
        "      # Log if required\n",
        "      if do_logging and self.should_log(i, iterations):\n",
        "        printstr = printstr + f\"  TEST_LOSS = {loss:5.5f}  \"\n",
        "        printstr = printstr + f\"TEST ACCURACY = {acc:5.5f}\"\n",
        "        logging.info(printstr)\n",
        "\n",
        "      # Record the performance of this run\n",
        "      self.iterations.append(i)\n",
        "      self.train_accuracies.append(tr_acc)\n",
        "      self.train_losses.append(tr_loss)\n",
        "      self.test_accuracies.append(te_acc)\n",
        "      self.test_losses.append(te_loss)\n",
        "\n",
        "      # Now use ADAM and update the weights\n",
        "      self.optimize_network(self.network, gradients)\n",
        "\n",
        "    self.iterations = np.array(self.iterations)\n",
        "    self.train_accuracies = np.array(self.train_accuracies)\n",
        "    self.train_losses = np.array(self.train_losses)\n",
        "    self.test_accuracies = np.array(self.test_accuracies)\n",
        "    self.test_losses = np.array(self.test_losses)"
      ],
      "metadata": {
        "id": "qgRz6s7UQJ_R"
      },
      "execution_count": 7,
      "outputs": []
    },
    {
      "cell_type": "code",
      "source": [
        "\n",
        "from functools import lru_cache\n",
        "import glob\n",
        "\n",
        "def get_columns(thisdf):\n",
        "    baseline_columns = [c for c in thisdf.columns if c.startswith('baseline') and \"head\" not in c and \"tail\" not in c]\n",
        "    baseline_columns = [c for c in baseline_columns if \"filesize\" not in c]\n",
        "    baseline_columns = [c for c in baseline_columns if \"begin\" not in c and \"end\" not in c]\n",
        "\n",
        "    advanced_columns = [c for c in thisdf.columns if \"advanced\" in c]\n",
        "    advanced_columns = [c for c in advanced_columns if \"begin\" not in c and \"end\" not in c]\n",
        "    advanced_columns = [c for c in advanced_columns if \"head\" not in c and \"tail\" not in c]\n",
        "    advanced_columns = [c for c in advanced_columns if \"start\" not in c]\n",
        "    advanced_columns_only = list(set(advanced_columns))\n",
        "    advanced_columns = list(set(advanced_columns + baseline_columns))\n",
        "\n",
        "    fourier_columns = [c for c in thisdf.columns if \"fourier\" in c and \"value\" not in c]\n",
        "    fourier_columns = [c for c in fourier_columns if \"1byte\" in c]\n",
        "    fourier_columns = [c for c in fourier_columns if \"begin\" not in c and \"end\" not in c]\n",
        "    fourier_columns = [c for c in fourier_columns if \"head\" not in c and \"tail\" not in c]\n",
        "    fourier_columns = [c for c in fourier_columns if \"start\" not in c]\n",
        "    fourier_columns_only = list(set(fourier_columns))\n",
        "    fourier_columns = list(set(advanced_columns + fourier_columns))\n",
        "    \n",
        "    baseline_and_advanced = list(set(baseline_columns + advanced_columns_only))\n",
        "    baseline_and_fourier = list(set(baseline_columns + fourier_columns_only))\n",
        "    advanced_and_fourier = list(set(advanced_columns_only + fourier_columns_only))\n",
        "    \n",
        "    return {\\\n",
        "        \"baseline\": baseline_columns,\\\n",
        "        \"advanced-only\": advanced_columns_only,\\\n",
        "        \"fourier-only\": fourier_columns_only,\\\n",
        "        \"baseline-and-fourier\": baseline_and_fourier,\\\n",
        "        \"advanced-and-fourier\": advanced_and_fourier,\\\n",
        "        \"advanced\": advanced_columns,\\\n",
        "        \"fourier\": fourier_columns,\\\n",
        "    }\n",
        "\n",
        "@lru_cache(maxsize=5)\n",
        "def load_datasets_once():\n",
        "    \"\"\"Load all datasets only once\n",
        "    \n",
        "    We want to load the datasets only once. Once loaded\n",
        "    serve from cache\n",
        "    \"\"\"\n",
        "    datasets = dict()\n",
        "    for file in glob.glob(\"MSCPROJDATA/**.parquet.gz\", recursive=True):\n",
        "        print(f\"Loading {file}\")\n",
        "        df = pd.read_parquet(file)\n",
        "        df = df.sample(frac=1).reset_index(drop=True)\n",
        "        df[\"is_encrypted\"] = 1 if \"encr\" in file.lower() else 0\n",
        "        datasets[file] = df\n",
        "    return datasets"
      ],
      "metadata": {
        "id": "uZn6_lXPTsAK"
      },
      "execution_count": 20,
      "outputs": []
    },
    {
      "cell_type": "code",
      "source": [
        "all_datasets = load_datasets_once()\n",
        "all_datasets = pd.concat(all_datasets.values())"
      ],
      "metadata": {
        "id": "ZUYpSq8jUK0p"
      },
      "execution_count": 23,
      "outputs": []
    },
    {
      "cell_type": "code",
      "source": [
        "!ls MSCPROJDATA"
      ],
      "metadata": {
        "colab": {
          "base_uri": "https://localhost:8080/"
        },
        "id": "Gade9112UWAy",
        "outputId": "ce16c2df-c53a-4aea-fe0b-26a5e0aab8a2"
      },
      "execution_count": 17,
      "outputs": [
        {
          "output_type": "stream",
          "name": "stdout",
          "text": [
            "expanded.plaintext.base32.parquet.gz\t   expanded.pyencrypted_v2.parquet.gz\n",
            "expanded.pyencrypted_v1.b32.parquet.gz\t   plaintext.base32.combined.parquet.gz\n",
            "expanded.pyencrypted_v1.parquet.gz\t   plaintext.combined.parquet.gz\n",
            "expanded.pyencrypted_v2.base32.parquet.gz  plaintext.expanded.parquet.gz\n"
          ]
        }
      ]
    },
    {
      "cell_type": "code",
      "source": [
        ""
      ],
      "metadata": {
        "id": "hojBG2TjUrY_"
      },
      "execution_count": null,
      "outputs": []
    }
  ]
}