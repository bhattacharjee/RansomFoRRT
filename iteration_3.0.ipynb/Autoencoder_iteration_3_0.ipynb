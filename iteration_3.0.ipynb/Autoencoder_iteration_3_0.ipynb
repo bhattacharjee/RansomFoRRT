{
  "nbformat": 4,
  "nbformat_minor": 0,
  "metadata": {
    "colab": {
      "name": "Autoencoder_iteration_3.0",
      "provenance": [],
      "machine_shape": "hm",
      "authorship_tag": "ABX9TyN1DiRuZMJ2abHhsGuc9Xls",
      "include_colab_link": true
    },
    "kernelspec": {
      "name": "python3",
      "display_name": "Python 3"
    },
    "language_info": {
      "name": "python"
    },
    "accelerator": "GPU"
  },
  "cells": [
    {
      "cell_type": "markdown",
      "metadata": {
        "id": "view-in-github",
        "colab_type": "text"
      },
      "source": [
        "<a href=\"https://colab.research.google.com/github/bhattacharjee/msc-ai-project/blob/main/iteration_3.0.ipynb/Autoencoder_iteration_3_0.ipynb\" target=\"_parent\"><img src=\"https://colab.research.google.com/assets/colab-badge.svg\" alt=\"Open In Colab\"/></a>"
      ]
    },
    {
      "cell_type": "code",
      "execution_count": 2,
      "metadata": {
        "id": "0crS396ZON0G",
        "colab": {
          "base_uri": "https://localhost:8080/"
        },
        "outputId": "b4a829de-ccd3-4dcd-fab9-b4c952ab4412"
      },
      "outputs": [
        {
          "output_type": "stream",
          "name": "stdout",
          "text": [
            "Mounted at /content/drive\n"
          ]
        }
      ],
      "source": [
        "import tensorflow as tf\n",
        "from keras.utils import np_utils\n",
        "import numpy as np\n",
        "import pandas as pd\n",
        "import seaborn as sns\n",
        "import matplotlib.pyplot as plt\n",
        "import logging, sys, random, glob\n",
        "from google.colab import drive\n",
        "from functools import lru_cache\n",
        "import sklearn\n",
        "from sklearn.model_selection import train_test_split\n",
        "\n",
        "from tensorflow import keras as K\n",
        "import matplotlib.pyplot as plt\n",
        "import numpy as np\n",
        "import pandas as pd\n",
        "import tensorflow as tf\n",
        "\n",
        "from sklearn.metrics import accuracy_score, precision_score, recall_score\n",
        "from sklearn.model_selection import train_test_split\n",
        "from tensorflow.keras import layers, losses\n",
        "from tensorflow.keras.datasets import fashion_mnist\n",
        "from tensorflow.keras.models import Model\n",
        "import IPython\n",
        "\n",
        "\n",
        "drive.mount(\"/content/drive\")\n",
        "\n",
        "def set_random_seed():\n",
        "    np.random.seed(1)\n",
        "    random.seed(1)\n",
        "    tf.random.set_seed(1)\n",
        "\n",
        "root = logging.getLogger()\n",
        "root.setLevel(logging.INFO)\n",
        "handler = logging.StreamHandler(sys.stdout)\n",
        "handler.setLevel(logging.DEBUG)\n",
        "formatter = logging.Formatter('%(asctime)s - %(name)s - %(levelname)s - %(message)s')\n",
        "handler.setFormatter(formatter)\n",
        "root.addHandler(handler)\n",
        "\n",
        "!cp -r /content/drive/MyDrive/MSCPROJDATA ."
      ]
    },
    {
      "cell_type": "code",
      "source": [
        "def get_columns(thisdf):\n",
        "    baseline_columns = [c for c in thisdf.columns if c.startswith('baseline') and \"head\" not in c and \"tail\" not in c]\n",
        "    baseline_columns = [c for c in baseline_columns if \"filesize\" not in c]\n",
        "    baseline_columns = [c for c in baseline_columns if \"begin\" not in c and \"end\" not in c]\n",
        "\n",
        "    advanced_columns = [c for c in thisdf.columns if \"advanced\" in c]\n",
        "    advanced_columns = [c for c in advanced_columns if \"begin\" not in c and \"end\" not in c]\n",
        "    advanced_columns = [c for c in advanced_columns if \"head\" not in c and \"tail\" not in c]\n",
        "    advanced_columns = [c for c in advanced_columns if \"start\" not in c]\n",
        "    advanced_columns_only = list(set(advanced_columns))\n",
        "    advanced_columns = list(set(advanced_columns + baseline_columns))\n",
        "\n",
        "    fourier_columns = [c for c in thisdf.columns if \"fourier\" in c and \"value\" not in c]\n",
        "    fourier_columns = [c for c in fourier_columns if \"1byte\" in c]\n",
        "    fourier_columns = [c for c in fourier_columns if \"begin\" not in c and \"end\" not in c]\n",
        "    fourier_columns = [c for c in fourier_columns if \"head\" not in c and \"tail\" not in c]\n",
        "    fourier_columns = [c for c in fourier_columns if \"start\" not in c]\n",
        "    fourier_columns_only = list(set(fourier_columns))\n",
        "    fourier_columns = list(set(advanced_columns + fourier_columns))\n",
        "    \n",
        "    baseline_and_advanced = list(set(baseline_columns + advanced_columns_only))\n",
        "    baseline_and_fourier = list(set(baseline_columns + fourier_columns_only))\n",
        "    advanced_and_fourier = list(set(advanced_columns_only + fourier_columns_only))\n",
        "    \n",
        "    return {\\\n",
        "        \"baseline\": baseline_columns,\\\n",
        "        \"advanced-only\": advanced_columns_only,\\\n",
        "        \"fourier-only\": fourier_columns_only,\\\n",
        "        \"baseline-and-fourier\": baseline_and_fourier,\\\n",
        "        \"advanced-and-fourier\": advanced_and_fourier,\\\n",
        "        \"advanced\": advanced_columns,\\\n",
        "        \"fourier\": fourier_columns,\\\n",
        "    }\n",
        "\n",
        "@lru_cache(maxsize=5)\n",
        "def load_datasets_once():\n",
        "    \"\"\"Load all datasets only once\n",
        "    \n",
        "    We want to load the datasets only once. Once loaded\n",
        "    serve from cache\n",
        "    \"\"\"\n",
        "    datasets = dict()\n",
        "    for file in glob.glob(\"MSCPROJDATA/**.parquet.gz\", recursive=True):\n",
        "        print(f\"Loading {file}\")\n",
        "        df = pd.read_parquet(file)\n",
        "        df = df.sample(frac=1).reset_index(drop=True)\n",
        "        df[\"is_encrypted\"] = 1 if \"encr\" in file.lower() else 0\n",
        "        datasets[file] = df\n",
        "    return datasets"
      ],
      "metadata": {
        "id": "uZn6_lXPTsAK"
      },
      "execution_count": 3,
      "outputs": []
    },
    {
      "cell_type": "code",
      "source": [
        "all_datasets = load_datasets_once()\n",
        "full_dataset = pd.concat(all_datasets.values())\n",
        "encrypted_df = full_dataset[full_dataset[\"is_encrypted\"] == 1]\n",
        "non_encrypted_df = full_dataset[full_dataset[\"is_encrypted\"] == 0]\n",
        "\n",
        "# shuffle\n",
        "encrypted_df = encrypted_df.sample(frac=1).reset_index(drop=True)\n",
        "non_encrypted_df = non_encrypted_df.sample(frac=1).reset_index(drop=True)\n",
        "\n",
        "columns = []\n",
        "for c in get_columns(full_dataset).values():\n",
        "    columns += c\n",
        "columns = list(set(columns))\n",
        "\n",
        "work_encrypted_df_X = encrypted_df[columns]\n",
        "work_encrypted_df_y = encrypted_df[\"is_encrypted\"]\n",
        "work_non_encrypted_df_X = non_encrypted_df[columns]\n",
        "work_non_encrypted_df_y = non_encrypted_df[\"is_encrypted\"]\n",
        "\n",
        "def normalize_df(X, Y):\n",
        "    mindf = X.min()\n",
        "    maxdf = X.max()\n",
        "    X = (X - mindf) / (maxdf - mindf)\n",
        "    Y = (Y - mindf) / (maxdf - mindf)\n",
        "    return X, Y\n",
        "\n",
        "work_encrypted_df_X, work_non_encrypted_df_X = \\\n",
        "    normalize_df(\n",
        "        work_encrypted_df_X,\n",
        "        work_non_encrypted_df_X\n",
        "    )"
      ],
      "metadata": {
        "id": "ZUYpSq8jUK0p"
      },
      "execution_count": 90,
      "outputs": []
    },
    {
      "cell_type": "code",
      "source": [
        "import sklearn\n",
        "from sklearn.model_selection import train_test_split\n",
        "\n",
        "X_train, X_test, y_train, y_test = \\\n",
        "    train_test_split(\\\n",
        "        work_encrypted_df_X,\n",
        "        work_encrypted_df_y,\n",
        "        test_size=0.33,\n",
        "        random_state=42)\n",
        "\n",
        "X_train.shape"
      ],
      "metadata": {
        "colab": {
          "base_uri": "https://localhost:8080/"
        },
        "id": "Gade9112UWAy",
        "outputId": "0e68b04c-93ef-407c-b952-bc3e5b3791b1"
      },
      "execution_count": 91,
      "outputs": [
        {
          "output_type": "execute_result",
          "data": {
            "text/plain": [
              "(216686, 63)"
            ]
          },
          "metadata": {},
          "execution_count": 91
        }
      ]
    },
    {
      "cell_type": "code",
      "source": [
        "\n",
        "\n",
        "class Autoencoder:\n",
        "    @staticmethod\n",
        "    def build():\n",
        "        model = tf.keras.Sequential(\n",
        "            [\n",
        "                layers.Dense(64, activation='relu'),\n",
        "                layers.Dense(32, activation='relu'),\n",
        "                #layers.Dropout(0.25),\n",
        "                layers.Dense(16, activation='relu'),\n",
        "                #layers.Dropout(0.25),\n",
        "                layers.Dense(32, activation='relu'),\n",
        "                #layers.Dropout(0.25),\n",
        "                layers.Dense(63, activation='sigmoid'),\n",
        "            ]\n",
        "        )\n",
        "        return model\n",
        "\n",
        "\n",
        "\n",
        "def print_and_plot(model):\n",
        "    print(model.summary())\n",
        "    plot = tf.keras.utils.plot_model(\n",
        "        model,\n",
        "        show_shapes=True,\n",
        "        expand_nested=True)\n",
        "    IPython.display.display(plot)\n",
        "\n",
        "\n",
        "from sklearn.model_selection import train_test_split\n",
        "def create_and_train_autoencoder(X, y):\n",
        "    X_train, X_eval, y_train, y_eval= \\\n",
        "        train_test_split(X, y, test_size=0.2, random_state=42)\n",
        "\n",
        "    nn = Autoencoder.build()\n",
        "    nn.compile(optimizer='adam', loss='mse', metrics=[\"mae\", \"mse\"])\n",
        "\n",
        "    nn.build((None, X.shape[1]))\n",
        "    print_and_plot(nn)\n",
        "\n",
        "    print(X_train.shape, X_eval.shape)\n",
        "    history = nn.fit(X_train, X_train,\n",
        "                epochs=25,\n",
        "                validation_data=(X_eval, X_eval),\n",
        "                batch_size=16)\n",
        "    return nn, history\n",
        "\n",
        "\n",
        "# Encrypted section, use half for training, we will use the remaining\n",
        "# half for testing\n",
        "\n",
        "eTrain_X, eTest_X, eTrain_y, eTest_y = \\\n",
        "    train_test_split(work_encrypted_df_X, work_encrypted_df_y, test_size=0.5, random_state=42)\n",
        "nn, history = create_and_train_autoencoder(eTrain_X, eTrain_y)\n",
        "\n",
        "_, neTest_X, _, neTest_y = \\\n",
        "    train_test_split(work_non_encrypted_df_X, work_non_encrypted_df_y, test_size=0.5, random_state=42)\n",
        "\n",
        "final_test_X = pd.concat([eTest_X, neTest_X])\n",
        "final_test_y = pd.concat([eTest_y, neTest_y])"
      ],
      "metadata": {
        "colab": {
          "base_uri": "https://localhost:8080/",
          "height": 1000
        },
        "id": "qjb40EnGabED",
        "outputId": "65382b72-fe57-4bcd-c253-c881e5535773"
      },
      "execution_count": null,
      "outputs": [
        {
          "output_type": "stream",
          "name": "stdout",
          "text": [
            "Model: \"sequential_7\"\n",
            "_________________________________________________________________\n",
            " Layer (type)                Output Shape              Param #   \n",
            "=================================================================\n",
            " dense_35 (Dense)            (None, 64)                4096      \n",
            "                                                                 \n",
            " dense_36 (Dense)            (None, 32)                2080      \n",
            "                                                                 \n",
            " dense_37 (Dense)            (None, 16)                528       \n",
            "                                                                 \n",
            " dense_38 (Dense)            (None, 32)                544       \n",
            "                                                                 \n",
            " dense_39 (Dense)            (None, 63)                2079      \n",
            "                                                                 \n",
            "=================================================================\n",
            "Total params: 9,327\n",
            "Trainable params: 9,327\n",
            "Non-trainable params: 0\n",
            "_________________________________________________________________\n",
            "None\n"
          ]
        },
        {
          "output_type": "display_data",
          "data": {
            "text/plain": [
              "<IPython.core.display.Image object>"
            ],
            "image/png": "[encoded data removed]"
          },
          "metadata": {}
        },
        {
          "output_type": "stream",
          "name": "stdout",
          "text": [
            "(129364, 63) (32342, 63)\n",
            "Epoch 1/25\n",
            "8086/8086 [==============================] - 34s 4ms/step - loss: 0.0015 - mae: 0.0104 - mse: 0.0015 - val_loss: 1.4273e-04 - val_mae: 0.0046 - val_mse: 1.4273e-04\n",
            "Epoch 2/25\n",
            "8086/8086 [==============================] - 32s 4ms/step - loss: 9.0357e-05 - mae: 0.0041 - mse: 9.0357e-05 - val_loss: 7.4145e-05 - val_mae: 0.0037 - val_mse: 7.4145e-05\n",
            "Epoch 3/25\n",
            "8086/8086 [==============================] - 31s 4ms/step - loss: 5.1664e-05 - mae: 0.0031 - mse: 5.1664e-05 - val_loss: 5.4216e-05 - val_mae: 0.0029 - val_mse: 5.4216e-05\n",
            "Epoch 4/25\n",
            "6313/8086 [======================>.......] - ETA: 5s - loss: 4.4001e-05 - mae: 0.0029 - mse: 4.4001e-05"
          ]
        }
      ]
    },
    {
      "cell_type": "code",
      "source": [
        "plt.rcParams[\"figure.figsize\"] = (6, 3)\n",
        "\n",
        "for metric in [\"loss\", \"mse\", \"mae\"]:\n",
        "    keys = []\n",
        "    for k, v in history.history.items():\n",
        "        if metric in k.lower():\n",
        "            keys.append(k)\n",
        "            plt.plot(v, label=k)\n",
        "        plt.legend(keys)\n",
        "    plt.show()"
      ],
      "metadata": {
        "id": "jTU75f0Mf3UW"
      },
      "execution_count": null,
      "outputs": []
    },
    {
      "cell_type": "code",
      "source": [
        "reconstructed_test_X = nn.predict(final_test_X)"
      ],
      "metadata": {
        "id": "VU_H2_Qcrg0R"
      },
      "execution_count": null,
      "outputs": []
    },
    {
      "cell_type": "code",
      "source": [
        "print(reconstructed_test_X.shape, final_test_X.shape)"
      ],
      "metadata": {
        "id": "15ZP_KdbuHaj",
        "outputId": "c64e3c3c-d4aa-4d2b-ec77-dc5504a8420c",
        "colab": {
          "base_uri": "https://localhost:8080/"
        }
      },
      "execution_count": 32,
      "outputs": [
        {
          "output_type": "stream",
          "name": "stdout",
          "text": [
            "(323412, 63) (323412, 63)\n"
          ]
        }
      ]
    },
    {
      "cell_type": "code",
      "source": [
        "def get_mse_mae(X, X1):\n",
        "    saveX, saveX1 = X, X1\n",
        "    if not isinstance(X, np.ndarray):\n",
        "        X = X.to_numpy()\n",
        "    if not isinstance(X1, np.ndarray):\n",
        "        X1 = X1.to_numpy()\n",
        "    square_error = np.square(X - X1)\n",
        "    mse = np.mean(square_error, axis=1)\n",
        "    abs_error = np.square(X - X1)\n",
        "    mae = np.mean(abs_error, axis=1)\n",
        "    return mse, mae\n",
        "\n",
        "\n",
        "\n",
        "mse, mae = get_mse_mae(final_test_X, reconstructed_test_X)\n",
        "\n",
        "\n",
        "df_result = pd.DataFrame(\\\n",
        "    {\\\n",
        "        \"is_encrypted\": final_test_y,\\\n",
        "        \"mse\": mse,\\\n",
        "        \"mae\": mae,\\\n",
        "    }\\\n",
        ")\n",
        "\n",
        "df_result2 = df_result[df_result[\"mae\"] < 0.1]\n",
        "sns.stripplot(data=df_result2, x=\"is_encrypted\", y=\"mae\").set(title=\"Mean Absolute Error\")\n",
        "plt.show()\n",
        "sns.stripplot(data=df_result2, x=\"is_encrypted\", y=\"mse\").set(title=\"Mean Square Error\")\n",
        "plt.show()\n"
      ],
      "metadata": {
        "id": "wVGpsr9vvrrG"
      },
      "execution_count": null,
      "outputs": []
    },
    {
      "cell_type": "code",
      "source": [
        "from sklearn import svm, datasets\n",
        "from sklearn.metrics import roc_curve, auc\n",
        "from sklearn.metrics import roc_auc_score\n",
        "\n",
        "df = df_result[df_result[\"mae\"] < 0.1]\n",
        "y_pred = df[\"mse\"].to_numpy()\n",
        "y_true = df[\"is_encrypted\"].to_numpy()\n",
        "\n",
        "fpr, tpr, thresholds = sklearn.metrics.roc_curve(y_true=y_true, y_score=y_pred)\n",
        "auc_score = auc(fpr, tpr)\n",
        "print(auc_score)"
      ],
      "metadata": {
        "id": "h9PTm9LOx7zn"
      },
      "execution_count": null,
      "outputs": []
    },
    {
      "cell_type": "code",
      "source": [
        "plt.plot(fpr, tpr)"
      ],
      "metadata": {
        "id": "L_kuK3-l5gHY"
      },
      "execution_count": null,
      "outputs": []
    },
    {
      "cell_type": "code",
      "source": [
        ""
      ],
      "metadata": {
        "id": "b93lAlIY5j6J"
      },
      "execution_count": null,
      "outputs": []
    }
  ]
}